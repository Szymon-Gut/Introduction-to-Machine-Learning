{
 "cells": [
  {
   "cell_type": "code",
   "execution_count": 216,
   "metadata": {},
   "outputs": [],
   "source": [
    "import pandas as pd\n",
    "import numpy as np\n",
    "# import urllib3\n",
    "# import certifi\n",
    "# import json\n",
    "import matplotlib.pyplot as plt\n",
    "import seaborn as sns\n",
    "from sklearn.preprocessing import OneHotEncoder"
   ]
  },
  {
   "cell_type": "markdown",
   "metadata": {},
   "source": [
    "Grupa budująca dokonała podziału danych, a nam został udostępniony plik \"testing_data.csv\". Na tym pliku będziemy prowadzić walidację pracy drugiej grupy."
   ]
  },
  {
   "cell_type": "code",
   "execution_count": 217,
   "metadata": {},
   "outputs": [],
   "source": [
    "df = pd.read_csv('testing_data.csv').drop('Unnamed: 0', axis=1)"
   ]
  },
  {
   "cell_type": "code",
   "execution_count": 218,
   "metadata": {},
   "outputs": [
    {
     "data": {
      "text/html": [
       "<div>\n",
       "<style scoped>\n",
       "    .dataframe tbody tr th:only-of-type {\n",
       "        vertical-align: middle;\n",
       "    }\n",
       "\n",
       "    .dataframe tbody tr th {\n",
       "        vertical-align: top;\n",
       "    }\n",
       "\n",
       "    .dataframe thead th {\n",
       "        text-align: right;\n",
       "    }\n",
       "</style>\n",
       "<table border=\"1\" class=\"dataframe\">\n",
       "  <thead>\n",
       "    <tr style=\"text-align: right;\">\n",
       "      <th></th>\n",
       "      <th>lp</th>\n",
       "      <th>date</th>\n",
       "      <th>item_id</th>\n",
       "      <th>categories</th>\n",
       "      <th>pay_option_on_delivery</th>\n",
       "      <th>pay_option_transfer</th>\n",
       "      <th>seller</th>\n",
       "      <th>price</th>\n",
       "      <th>it_is_allegro_standard</th>\n",
       "      <th>it_quantity</th>\n",
       "      <th>it_is_brand_zone</th>\n",
       "      <th>it_seller_rating</th>\n",
       "      <th>it_location</th>\n",
       "      <th>main_category</th>\n",
       "    </tr>\n",
       "  </thead>\n",
       "  <tbody>\n",
       "    <tr>\n",
       "      <th>0</th>\n",
       "      <td>130426</td>\n",
       "      <td>2016-04-03 18:02:08</td>\n",
       "      <td>5701842266</td>\n",
       "      <td>['Motoryzacja', 'Części samochodowe', 'Koła, f...</td>\n",
       "      <td>1</td>\n",
       "      <td>1</td>\n",
       "      <td>id-auto</td>\n",
       "      <td>399.99</td>\n",
       "      <td>0</td>\n",
       "      <td>0</td>\n",
       "      <td>0</td>\n",
       "      <td>332</td>\n",
       "      <td>LEGNICA</td>\n",
       "      <td>Motoryzacja</td>\n",
       "    </tr>\n",
       "    <tr>\n",
       "      <th>1</th>\n",
       "      <td>299276</td>\n",
       "      <td>2016-04-03 08:09:24</td>\n",
       "      <td>6082791650</td>\n",
       "      <td>['Sport i Turystyka', 'Sporty walki', 'Pozosta...</td>\n",
       "      <td>1</td>\n",
       "      <td>1</td>\n",
       "      <td>norbert_mackowia</td>\n",
       "      <td>119.00</td>\n",
       "      <td>1</td>\n",
       "      <td>0</td>\n",
       "      <td>0</td>\n",
       "      <td>1376</td>\n",
       "      <td>Poznań</td>\n",
       "      <td>Sport i Turystyka</td>\n",
       "    </tr>\n",
       "    <tr>\n",
       "      <th>2</th>\n",
       "      <td>39114</td>\n",
       "      <td>2016-04-03 16:59:19</td>\n",
       "      <td>6088739881</td>\n",
       "      <td>['Dla Dzieci', 'Zabawki', 'Klocki', 'LEGO', 'M...</td>\n",
       "      <td>0</td>\n",
       "      <td>1</td>\n",
       "      <td>KuBrick21</td>\n",
       "      <td>5.90</td>\n",
       "      <td>1</td>\n",
       "      <td>0</td>\n",
       "      <td>0</td>\n",
       "      <td>515</td>\n",
       "      <td>@</td>\n",
       "      <td>Dla Dzieci</td>\n",
       "    </tr>\n",
       "    <tr>\n",
       "      <th>3</th>\n",
       "      <td>186814</td>\n",
       "      <td>2016-04-03 19:51:44</td>\n",
       "      <td>6079145556</td>\n",
       "      <td>['RTV i AGD', 'Zasilanie', 'Baterie', 'Pozosta...</td>\n",
       "      <td>1</td>\n",
       "      <td>1</td>\n",
       "      <td>allesupershop24</td>\n",
       "      <td>1.00</td>\n",
       "      <td>0</td>\n",
       "      <td>9908</td>\n",
       "      <td>0</td>\n",
       "      <td>25</td>\n",
       "      <td>Będzin</td>\n",
       "      <td>RTV i AGD</td>\n",
       "    </tr>\n",
       "    <tr>\n",
       "      <th>4</th>\n",
       "      <td>322696</td>\n",
       "      <td>2016-04-03 08:47:08</td>\n",
       "      <td>5136833038</td>\n",
       "      <td>['RTV i AGD', 'Sprzęt car audio', 'Głośniki', ...</td>\n",
       "      <td>1</td>\n",
       "      <td>1</td>\n",
       "      <td>www_carhifi24_pl</td>\n",
       "      <td>69.00</td>\n",
       "      <td>1</td>\n",
       "      <td>46</td>\n",
       "      <td>0</td>\n",
       "      <td>16319</td>\n",
       "      <td>PRZYLEP koło Zielona Góra</td>\n",
       "      <td>RTV i AGD</td>\n",
       "    </tr>\n",
       "  </tbody>\n",
       "</table>\n",
       "</div>"
      ],
      "text/plain": [
       "       lp                 date     item_id  \\\n",
       "0  130426  2016-04-03 18:02:08  5701842266   \n",
       "1  299276  2016-04-03 08:09:24  6082791650   \n",
       "2   39114  2016-04-03 16:59:19  6088739881   \n",
       "3  186814  2016-04-03 19:51:44  6079145556   \n",
       "4  322696  2016-04-03 08:47:08  5136833038   \n",
       "\n",
       "                                          categories  pay_option_on_delivery  \\\n",
       "0  ['Motoryzacja', 'Części samochodowe', 'Koła, f...                       1   \n",
       "1  ['Sport i Turystyka', 'Sporty walki', 'Pozosta...                       1   \n",
       "2  ['Dla Dzieci', 'Zabawki', 'Klocki', 'LEGO', 'M...                       0   \n",
       "3  ['RTV i AGD', 'Zasilanie', 'Baterie', 'Pozosta...                       1   \n",
       "4  ['RTV i AGD', 'Sprzęt car audio', 'Głośniki', ...                       1   \n",
       "\n",
       "   pay_option_transfer            seller   price  it_is_allegro_standard  \\\n",
       "0                    1           id-auto  399.99                       0   \n",
       "1                    1  norbert_mackowia  119.00                       1   \n",
       "2                    1         KuBrick21    5.90                       1   \n",
       "3                    1   allesupershop24    1.00                       0   \n",
       "4                    1  www_carhifi24_pl   69.00                       1   \n",
       "\n",
       "   it_quantity  it_is_brand_zone  it_seller_rating                it_location  \\\n",
       "0            0                 0               332                    LEGNICA   \n",
       "1            0                 0              1376                     Poznań   \n",
       "2            0                 0               515                          @   \n",
       "3         9908                 0                25                     Będzin   \n",
       "4           46                 0             16319  PRZYLEP koło Zielona Góra   \n",
       "\n",
       "       main_category  \n",
       "0        Motoryzacja  \n",
       "1  Sport i Turystyka  \n",
       "2         Dla Dzieci  \n",
       "3          RTV i AGD  \n",
       "4          RTV i AGD  "
      ]
     },
     "execution_count": 218,
     "metadata": {},
     "output_type": "execute_result"
    }
   ],
   "source": [
    "df.head()\n"
   ]
  },
  {
   "cell_type": "markdown",
   "metadata": {},
   "source": [
    "Poprzednia grupa wyrzuciła z ramki danych kolumnę ```item_id```. Sprawdźmy czy wszystkie jej wartości są unikalne."
   ]
  },
  {
   "cell_type": "code",
   "execution_count": 219,
   "metadata": {},
   "outputs": [
    {
     "data": {
      "text/plain": [
       "0.8954414869133216"
      ]
     },
     "execution_count": 219,
     "metadata": {},
     "output_type": "execute_result"
    }
   ],
   "source": [
    "df['item_id'].unique().shape[0] / df['item_id'].shape[0]"
   ]
  },
  {
   "cell_type": "markdown",
   "metadata": {},
   "source": [
    "Są to wartości niemalc całkowicie unikalne i tak jak stwierdził to poprzedni zespół ich wartość najprawdopodbniej nie ma wpływu na cenę produktu."
   ]
  },
  {
   "cell_type": "code",
   "execution_count": 220,
   "metadata": {},
   "outputs": [],
   "source": [
    "df = df.drop('item_id', axis=1)"
   ]
  },
  {
   "cell_type": "markdown",
   "metadata": {},
   "source": [
    "#### Braki Danych\n",
    "\n",
    "Wpierw zajmijmy się problem braków danych w naszej ramce"
   ]
  },
  {
   "cell_type": "code",
   "execution_count": 221,
   "metadata": {},
   "outputs": [
    {
     "name": "stdout",
     "output_type": "stream",
     "text": [
      "<class 'pandas.core.frame.DataFrame'>\n",
      "RangeIndex: 126006 entries, 0 to 126005\n",
      "Data columns (total 13 columns):\n",
      " #   Column                  Non-Null Count   Dtype  \n",
      "---  ------                  --------------   -----  \n",
      " 0   lp                      126006 non-null  int64  \n",
      " 1   date                    126006 non-null  object \n",
      " 2   categories              126006 non-null  object \n",
      " 3   pay_option_on_delivery  126006 non-null  int64  \n",
      " 4   pay_option_transfer     126006 non-null  int64  \n",
      " 5   seller                  126006 non-null  object \n",
      " 6   price                   126006 non-null  float64\n",
      " 7   it_is_allegro_standard  126006 non-null  int64  \n",
      " 8   it_quantity             126006 non-null  int64  \n",
      " 9   it_is_brand_zone        126006 non-null  int64  \n",
      " 10  it_seller_rating        126006 non-null  int64  \n",
      " 11  it_location             126006 non-null  object \n",
      " 12  main_category           126006 non-null  object \n",
      "dtypes: float64(1), int64(7), object(5)\n",
      "memory usage: 12.5+ MB\n"
     ]
    }
   ],
   "source": [
    "df.info()"
   ]
  },
  {
   "cell_type": "markdown",
   "metadata": {},
   "source": [
    "Na pierwszy rzut oka może wydawać się, że w ramce nie ma braków danych i z takiego założenia wyszedł poprzedni zespół. Zwróćmy jednak uwagę na zmienne, które nie powinny przyjmować takich wartości.\n",
    "\n",
    "Zacznijmy od kolumny ```price```"
   ]
  },
  {
   "cell_type": "code",
   "execution_count": 222,
   "metadata": {},
   "outputs": [
    {
     "data": {
      "text/html": [
       "<div>\n",
       "<style scoped>\n",
       "    .dataframe tbody tr th:only-of-type {\n",
       "        vertical-align: middle;\n",
       "    }\n",
       "\n",
       "    .dataframe tbody tr th {\n",
       "        vertical-align: top;\n",
       "    }\n",
       "\n",
       "    .dataframe thead th {\n",
       "        text-align: right;\n",
       "    }\n",
       "</style>\n",
       "<table border=\"1\" class=\"dataframe\">\n",
       "  <thead>\n",
       "    <tr style=\"text-align: right;\">\n",
       "      <th></th>\n",
       "      <th>lp</th>\n",
       "      <th>date</th>\n",
       "      <th>categories</th>\n",
       "      <th>pay_option_on_delivery</th>\n",
       "      <th>pay_option_transfer</th>\n",
       "      <th>seller</th>\n",
       "      <th>price</th>\n",
       "      <th>it_is_allegro_standard</th>\n",
       "      <th>it_quantity</th>\n",
       "      <th>it_is_brand_zone</th>\n",
       "      <th>it_seller_rating</th>\n",
       "      <th>it_location</th>\n",
       "      <th>main_category</th>\n",
       "    </tr>\n",
       "  </thead>\n",
       "  <tbody>\n",
       "    <tr>\n",
       "      <th>29069</th>\n",
       "      <td>58547</td>\n",
       "      <td>2016-04-03 21:04:33</td>\n",
       "      <td>['Telefony i Akcesoria', 'Telefony komórkowe',...</td>\n",
       "      <td>0</td>\n",
       "      <td>1</td>\n",
       "      <td>jochetom</td>\n",
       "      <td>0.0</td>\n",
       "      <td>0</td>\n",
       "      <td>0</td>\n",
       "      <td>0</td>\n",
       "      <td>10</td>\n",
       "      <td>Rudołtowice</td>\n",
       "      <td>Telefony i Akcesoria</td>\n",
       "    </tr>\n",
       "    <tr>\n",
       "      <th>80023</th>\n",
       "      <td>182919</td>\n",
       "      <td>2016-04-03 19:49:29</td>\n",
       "      <td>['Sport i Turystyka', 'Rowery i akcesoria', 'R...</td>\n",
       "      <td>1</td>\n",
       "      <td>0</td>\n",
       "      <td>Jaareckii</td>\n",
       "      <td>0.0</td>\n",
       "      <td>0</td>\n",
       "      <td>0</td>\n",
       "      <td>0</td>\n",
       "      <td>34</td>\n",
       "      <td>Zielona Góra</td>\n",
       "      <td>Sport i Turystyka</td>\n",
       "    </tr>\n",
       "    <tr>\n",
       "      <th>105672</th>\n",
       "      <td>363166</td>\n",
       "      <td>2016-04-03 19:00:58</td>\n",
       "      <td>['Dla Dzieci', 'Odzież', 'Kurtki, płaszcze', '...</td>\n",
       "      <td>0</td>\n",
       "      <td>1</td>\n",
       "      <td>Dajdi83</td>\n",
       "      <td>0.0</td>\n",
       "      <td>0</td>\n",
       "      <td>0</td>\n",
       "      <td>0</td>\n",
       "      <td>4</td>\n",
       "      <td>Gdańsk</td>\n",
       "      <td>Dla Dzieci</td>\n",
       "    </tr>\n",
       "    <tr>\n",
       "      <th>108472</th>\n",
       "      <td>127751</td>\n",
       "      <td>2016-04-03 19:05:21</td>\n",
       "      <td>['Odzież, Obuwie, Dodatki', 'Odzież damska', '...</td>\n",
       "      <td>0</td>\n",
       "      <td>0</td>\n",
       "      <td>Bartek9898</td>\n",
       "      <td>0.0</td>\n",
       "      <td>0</td>\n",
       "      <td>0</td>\n",
       "      <td>0</td>\n",
       "      <td>178</td>\n",
       "      <td>Wierzbięcin</td>\n",
       "      <td>Odzież, Obuwie, Dodatki</td>\n",
       "    </tr>\n",
       "    <tr>\n",
       "      <th>117280</th>\n",
       "      <td>95090</td>\n",
       "      <td>2016-04-03 22:02:20</td>\n",
       "      <td>['Motoryzacja', 'Akcesoria samochodowe', 'CB R...</td>\n",
       "      <td>1</td>\n",
       "      <td>1</td>\n",
       "      <td>lech032</td>\n",
       "      <td>0.0</td>\n",
       "      <td>0</td>\n",
       "      <td>0</td>\n",
       "      <td>0</td>\n",
       "      <td>26</td>\n",
       "      <td>Strzyżewice</td>\n",
       "      <td>Motoryzacja</td>\n",
       "    </tr>\n",
       "  </tbody>\n",
       "</table>\n",
       "</div>"
      ],
      "text/plain": [
       "            lp                 date  \\\n",
       "29069    58547  2016-04-03 21:04:33   \n",
       "80023   182919  2016-04-03 19:49:29   \n",
       "105672  363166  2016-04-03 19:00:58   \n",
       "108472  127751  2016-04-03 19:05:21   \n",
       "117280   95090  2016-04-03 22:02:20   \n",
       "\n",
       "                                               categories  \\\n",
       "29069   ['Telefony i Akcesoria', 'Telefony komórkowe',...   \n",
       "80023   ['Sport i Turystyka', 'Rowery i akcesoria', 'R...   \n",
       "105672  ['Dla Dzieci', 'Odzież', 'Kurtki, płaszcze', '...   \n",
       "108472  ['Odzież, Obuwie, Dodatki', 'Odzież damska', '...   \n",
       "117280  ['Motoryzacja', 'Akcesoria samochodowe', 'CB R...   \n",
       "\n",
       "        pay_option_on_delivery  pay_option_transfer      seller  price  \\\n",
       "29069                        0                    1    jochetom    0.0   \n",
       "80023                        1                    0   Jaareckii    0.0   \n",
       "105672                       0                    1     Dajdi83    0.0   \n",
       "108472                       0                    0  Bartek9898    0.0   \n",
       "117280                       1                    1     lech032    0.0   \n",
       "\n",
       "        it_is_allegro_standard  it_quantity  it_is_brand_zone  \\\n",
       "29069                        0            0                 0   \n",
       "80023                        0            0                 0   \n",
       "105672                       0            0                 0   \n",
       "108472                       0            0                 0   \n",
       "117280                       0            0                 0   \n",
       "\n",
       "        it_seller_rating   it_location            main_category  \n",
       "29069                 10   Rudołtowice     Telefony i Akcesoria  \n",
       "80023                 34  Zielona Góra        Sport i Turystyka  \n",
       "105672                 4        Gdańsk               Dla Dzieci  \n",
       "108472               178   Wierzbięcin  Odzież, Obuwie, Dodatki  \n",
       "117280                26   Strzyżewice              Motoryzacja  "
      ]
     },
     "execution_count": 222,
     "metadata": {},
     "output_type": "execute_result"
    }
   ],
   "source": [
    "df[df[\"price\"] <= 0]"
   ]
  },
  {
   "cell_type": "code",
   "execution_count": 223,
   "metadata": {},
   "outputs": [
    {
     "data": {
      "text/plain": [
       "5"
      ]
     },
     "execution_count": 223,
     "metadata": {},
     "output_type": "execute_result"
    }
   ],
   "source": [
    "df[df[\"price\"] <= 0].shape[0]"
   ]
  },
  {
   "cell_type": "markdown",
   "metadata": {},
   "source": [
    "Widzimy, że 5 wierszy ewidentnie zawiera braki danych. Jest ich o tyle mało (w stosunku do wszystkich danych), że możemy je po prostu wyrzucić.\n",
    "Drugim sposobem na poradzenie sobie z problemem braku danych jest podstawienie w ich miejsce średniej ceny wszystkich innych produktów."
   ]
  },
  {
   "cell_type": "code",
   "execution_count": 224,
   "metadata": {},
   "outputs": [],
   "source": [
    "df = df[df['price'] != 0]"
   ]
  },
  {
   "cell_type": "markdown",
   "metadata": {},
   "source": [
    "Podobną, ale gorszą, sytuację mamy dla  kolumny ```it_quantity```"
   ]
  },
  {
   "cell_type": "code",
   "execution_count": 225,
   "metadata": {},
   "outputs": [
    {
     "data": {
      "text/plain": [
       "0.15140356028920404"
      ]
     },
     "execution_count": 225,
     "metadata": {},
     "output_type": "execute_result"
    }
   ],
   "source": [
    "df[df[\"it_quantity\"] <= 0].shape[0] / df.shape[0]"
   ]
  },
  {
   "cell_type": "markdown",
   "metadata": {},
   "source": [
    "Mogłoby się wydawać, że zerowa liczność sprzedanych sztuk jest swego rodzaju brakiem danych jednak wierszy, dla których jest to prawda jest bardzo dużo, bo aż 15%. Na pewno nie możemy ich wszystkich wyrzucić. Należałoby przestudiować dokładnie źródło danych i dowiedzieć się czy brak sprzedanych sztuk nie oznacza czegoś innego jak na przykład anulowanie tranzakcji."
   ]
  },
  {
   "cell_type": "code",
   "execution_count": 226,
   "metadata": {},
   "outputs": [
    {
     "name": "stdout",
     "output_type": "stream",
     "text": [
      "seller has no missing values\n",
      "it_location has no missing values\n",
      "main_category has no missing values\n",
      "categories has no missing values\n",
      "date has no missing values\n"
     ]
    }
   ],
   "source": [
    "text_columns = ['seller', 'it_location', 'main_category', 'categories', 'date']\n",
    "\n",
    "for col in text_columns:\n",
    "    if df[df[col] == \"\"].shape[0] > 0: print(col + \" has missing values\")\n",
    "    else: print(col + \" has no missing values\")"
   ]
  },
  {
   "cell_type": "markdown",
   "metadata": {},
   "source": [
    "Inne kolumny tekstowe nie mają braków danych. Pozostałe kolumny numeryczne to kolumny binarne z wartościami 0 lub 1. Możemy sprawdzić czy istnieje gdzieś inna wartość, co wskazywałoby na jakąś anomalię."
   ]
  },
  {
   "cell_type": "code",
   "execution_count": 227,
   "metadata": {},
   "outputs": [
    {
     "name": "stdout",
     "output_type": "stream",
     "text": [
      "pay_option_on_delivery has no missing values\n",
      "pay_option_transfer has no missing values\n",
      "it_is_allegro_standard has no missing values\n",
      "it_is_brand_zone has no missing values\n"
     ]
    }
   ],
   "source": [
    "bin_columns = ['pay_option_on_delivery', 'pay_option_transfer', 'it_is_allegro_standard', 'it_is_brand_zone']\n",
    "\n",
    "for col in bin_columns:\n",
    "    if df[~(df[col].isin([0, 1]))].shape[0] > 0: print(col + \" has missing values\")\n",
    "    else: print(col + \" has no missing values\")"
   ]
  },
  {
   "cell_type": "markdown",
   "metadata": {},
   "source": [
    "Tutaj też wydaje się, że nie brakuje żadnych danych"
   ]
  },
  {
   "cell_type": "code",
   "execution_count": 228,
   "metadata": {},
   "outputs": [
    {
     "data": {
      "text/plain": [
       "3"
      ]
     },
     "execution_count": 228,
     "metadata": {},
     "output_type": "execute_result"
    }
   ],
   "source": [
    "df[df['it_seller_rating'] < 0].shape[0]"
   ]
  },
  {
   "cell_type": "code",
   "execution_count": 229,
   "metadata": {},
   "outputs": [
    {
     "data": {
      "text/plain": [
       "47444    -1\n",
       "92510    -1\n",
       "113768   -1\n",
       "Name: it_seller_rating, dtype: int64"
      ]
     },
     "execution_count": 229,
     "metadata": {},
     "output_type": "execute_result"
    }
   ],
   "source": [
    "df.loc[df['it_seller_rating'] < 0, 'it_seller_rating']"
   ]
  },
  {
   "cell_type": "markdown",
   "metadata": {},
   "source": [
    "Natomiast możemy podejrzewać, że wartość -1 w ```it_seller_rating``` także może być pewnym brakiem danych. Wartości mniejszych niż 0 są tylko trzy i wszystkie są sobie równe. Dla pewności możemy usunąć te 3 pojedyncze wiersze."
   ]
  },
  {
   "cell_type": "code",
   "execution_count": 230,
   "metadata": {},
   "outputs": [],
   "source": [
    "df = df[df['it_seller_rating'] >= 0]"
   ]
  },
  {
   "cell_type": "markdown",
   "metadata": {},
   "source": [
    "#### Kategoryzowanie\n",
    "\n",
    "Następnie poprzedni zespół zmienił wartości binarne na kategoryczne.\n",
    "\n",
    "> Zmienne ```pay_option_on_delivery```, ```pay_option_transfer```, ```it_is_allegro_standard```, ```it_is_brand_zone``` jako zmienne przyjmujące tylko \n",
    "> wartość 0 albo 1 zostały zamieniona na zmienne przyjmujące wartości 'No' albo 'Yes'\n",
    "\n",
    "Jednak zakodowanie ich do postaci tekstowej utrudnia pracę modelowi. Pozosotawienie tych zmiennych jako zmienne numeryczne jest preferowane."
   ]
  },
  {
   "cell_type": "code",
   "execution_count": 231,
   "metadata": {},
   "outputs": [],
   "source": [
    "# df['pay_option_on_delivery'] = df['pay_option_on_delivery'].map({0:'NO', 1:'YES'})\n",
    "# df['pay_option_transfer'] = df['pay_option_transfer'].map({0:'NO', 1:'YES'})\n",
    "# df['it_is_allegro_standard'] = df['it_is_allegro_standard'].map({0:'NO', 1:'YES'})\n",
    "# df['it_is_brand_zone'] = df['it_is_brand_zone'].map({0:'NO', 1:'YES'})"
   ]
  },
  {
   "cell_type": "markdown",
   "metadata": {},
   "source": [
    "Następnie poprzedni zespół skategorywzował zmienne ciągłe\n",
    "\n",
    "> Wszystkie pozostałe zmienne tzn. ```it_quantity``` oraz ```it_seller_rating``` zostały kategoryzowane a podstawie swoich histogramów. Wszystkim \n",
    "> wartościom mniejszym od 1 kwantyla została przyporządkowana kategoria **Low**, wartością pomiędzy 1 a 3 kwantylem została przyznana kategoria **Medium**, > natomiast wartością większym od 3 kwantyla została przyporządkowana kategoria **High**\n",
    "\n",
    "My w tym celu pozwoliliśmy sobie przepisać ich kod do postaci jednej funkcji, tak aby całość zajmowała mniej miejsca"
   ]
  },
  {
   "cell_type": "code",
   "execution_count": 232,
   "metadata": {},
   "outputs": [],
   "source": [
    "def categorise_continuous_column(column):\n",
    "    q1=np.percentile(column,25)\n",
    "    q3=np.percentile(column,75)\n",
    "    none = column == 0\n",
    "    low = (column > 0) & (column <=q1)\n",
    "    medium = (column > q1) & (column <= q3)\n",
    "    high = column > q3\n",
    "    cat_column = column.copy()\n",
    "    cat_column[none] = 'None'\n",
    "    cat_column[low] = 'Low'\n",
    "    cat_column[medium] = 'Medium'\n",
    "    cat_column[high] = 'High'\n",
    "    return cat_column"
   ]
  },
  {
   "cell_type": "code",
   "execution_count": 233,
   "metadata": {},
   "outputs": [],
   "source": [
    "df['it_quantity_cat'] = categorise_continuous_column(df['it_quantity'])"
   ]
  },
  {
   "cell_type": "code",
   "execution_count": 234,
   "metadata": {},
   "outputs": [],
   "source": [
    "df['it_seller_rating_cat'] = categorise_continuous_column(df['it_seller_rating'])"
   ]
  },
  {
   "cell_type": "code",
   "execution_count": 235,
   "metadata": {},
   "outputs": [],
   "source": [
    "df['price_cat'] = categorise_continuous_column(df['price'])"
   ]
  },
  {
   "cell_type": "markdown",
   "metadata": {},
   "source": [
    "Poprzedni zespół po skategoryzowaniu zmiennych pozostawił je w formie napisów co ponownie utrudnia pracę modelowi. Możemy je zakodować korzystając z one hot encoding (lub skorzystać z naturalnego porządku w kategoriach i użyć rosnącego kodowania numerycznego)."
   ]
  },
  {
   "cell_type": "code",
   "execution_count": 236,
   "metadata": {},
   "outputs": [],
   "source": [
    "enc = OneHotEncoder(handle_unknown='ignore')\n",
    "result = enc.fit_transform(df['price'].values.reshape(-1, 1)).toarray()"
   ]
  },
  {
   "cell_type": "code",
   "execution_count": 237,
   "metadata": {},
   "outputs": [],
   "source": [
    "from sklearn.preprocessing import OneHotEncoder\n",
    "\n",
    "def one_hot_encode_category(column_name, categories):\n",
    "    enc = OneHotEncoder(handle_unknown='ignore')\n",
    "    result = enc.fit_transform(df[column_name].values.reshape(-1, 1)).toarray()\n",
    "    for i in range(result.shape[1]):\n",
    "        df[f\"{column_name}_{categories[i]}\"] = result[:, i]"
   ]
  },
  {
   "cell_type": "code",
   "execution_count": 238,
   "metadata": {},
   "outputs": [],
   "source": [
    "one_hot_encode_category('it_quantity_cat', ['None', 'Low', 'Medium', 'High'])\n",
    "one_hot_encode_category('it_seller_rating_cat', ['None', 'Low', 'Medium', 'High'])\n",
    "# one_hot_encode_category('price_cat', ['None', 'Low', 'Medium', 'High'])\n",
    "# zmienną celu zostawiamy bez one hot encoding"
   ]
  },
  {
   "cell_type": "code",
   "execution_count": 239,
   "metadata": {},
   "outputs": [
    {
     "data": {
      "text/html": [
       "<div>\n",
       "<style scoped>\n",
       "    .dataframe tbody tr th:only-of-type {\n",
       "        vertical-align: middle;\n",
       "    }\n",
       "\n",
       "    .dataframe tbody tr th {\n",
       "        vertical-align: top;\n",
       "    }\n",
       "\n",
       "    .dataframe thead th {\n",
       "        text-align: right;\n",
       "    }\n",
       "</style>\n",
       "<table border=\"1\" class=\"dataframe\">\n",
       "  <thead>\n",
       "    <tr style=\"text-align: right;\">\n",
       "      <th></th>\n",
       "      <th>lp</th>\n",
       "      <th>date</th>\n",
       "      <th>categories</th>\n",
       "      <th>pay_option_on_delivery</th>\n",
       "      <th>pay_option_transfer</th>\n",
       "      <th>seller</th>\n",
       "      <th>price</th>\n",
       "      <th>it_is_allegro_standard</th>\n",
       "      <th>it_quantity</th>\n",
       "      <th>it_is_brand_zone</th>\n",
       "      <th>...</th>\n",
       "      <th>it_seller_rating_cat</th>\n",
       "      <th>price_cat</th>\n",
       "      <th>it_quantity_cat_None</th>\n",
       "      <th>it_quantity_cat_Low</th>\n",
       "      <th>it_quantity_cat_Medium</th>\n",
       "      <th>it_quantity_cat_High</th>\n",
       "      <th>it_seller_rating_cat_None</th>\n",
       "      <th>it_seller_rating_cat_Low</th>\n",
       "      <th>it_seller_rating_cat_Medium</th>\n",
       "      <th>it_seller_rating_cat_High</th>\n",
       "    </tr>\n",
       "  </thead>\n",
       "  <tbody>\n",
       "    <tr>\n",
       "      <th>0</th>\n",
       "      <td>130426</td>\n",
       "      <td>2016-04-03 18:02:08</td>\n",
       "      <td>['Motoryzacja', 'Części samochodowe', 'Koła, f...</td>\n",
       "      <td>1</td>\n",
       "      <td>1</td>\n",
       "      <td>id-auto</td>\n",
       "      <td>399.99</td>\n",
       "      <td>0</td>\n",
       "      <td>0</td>\n",
       "      <td>0</td>\n",
       "      <td>...</td>\n",
       "      <td>Low</td>\n",
       "      <td>High</td>\n",
       "      <td>0.0</td>\n",
       "      <td>0.0</td>\n",
       "      <td>0.0</td>\n",
       "      <td>1.0</td>\n",
       "      <td>0.0</td>\n",
       "      <td>1.0</td>\n",
       "      <td>0.0</td>\n",
       "      <td>0.0</td>\n",
       "    </tr>\n",
       "    <tr>\n",
       "      <th>1</th>\n",
       "      <td>299276</td>\n",
       "      <td>2016-04-03 08:09:24</td>\n",
       "      <td>['Sport i Turystyka', 'Sporty walki', 'Pozosta...</td>\n",
       "      <td>1</td>\n",
       "      <td>1</td>\n",
       "      <td>norbert_mackowia</td>\n",
       "      <td>119.00</td>\n",
       "      <td>1</td>\n",
       "      <td>0</td>\n",
       "      <td>0</td>\n",
       "      <td>...</td>\n",
       "      <td>Low</td>\n",
       "      <td>High</td>\n",
       "      <td>0.0</td>\n",
       "      <td>0.0</td>\n",
       "      <td>0.0</td>\n",
       "      <td>1.0</td>\n",
       "      <td>0.0</td>\n",
       "      <td>1.0</td>\n",
       "      <td>0.0</td>\n",
       "      <td>0.0</td>\n",
       "    </tr>\n",
       "    <tr>\n",
       "      <th>2</th>\n",
       "      <td>39114</td>\n",
       "      <td>2016-04-03 16:59:19</td>\n",
       "      <td>['Dla Dzieci', 'Zabawki', 'Klocki', 'LEGO', 'M...</td>\n",
       "      <td>0</td>\n",
       "      <td>1</td>\n",
       "      <td>KuBrick21</td>\n",
       "      <td>5.90</td>\n",
       "      <td>1</td>\n",
       "      <td>0</td>\n",
       "      <td>0</td>\n",
       "      <td>...</td>\n",
       "      <td>Low</td>\n",
       "      <td>Low</td>\n",
       "      <td>0.0</td>\n",
       "      <td>0.0</td>\n",
       "      <td>0.0</td>\n",
       "      <td>1.0</td>\n",
       "      <td>0.0</td>\n",
       "      <td>1.0</td>\n",
       "      <td>0.0</td>\n",
       "      <td>0.0</td>\n",
       "    </tr>\n",
       "    <tr>\n",
       "      <th>3</th>\n",
       "      <td>186814</td>\n",
       "      <td>2016-04-03 19:51:44</td>\n",
       "      <td>['RTV i AGD', 'Zasilanie', 'Baterie', 'Pozosta...</td>\n",
       "      <td>1</td>\n",
       "      <td>1</td>\n",
       "      <td>allesupershop24</td>\n",
       "      <td>1.00</td>\n",
       "      <td>0</td>\n",
       "      <td>9908</td>\n",
       "      <td>0</td>\n",
       "      <td>...</td>\n",
       "      <td>Low</td>\n",
       "      <td>Low</td>\n",
       "      <td>1.0</td>\n",
       "      <td>0.0</td>\n",
       "      <td>0.0</td>\n",
       "      <td>0.0</td>\n",
       "      <td>0.0</td>\n",
       "      <td>1.0</td>\n",
       "      <td>0.0</td>\n",
       "      <td>0.0</td>\n",
       "    </tr>\n",
       "    <tr>\n",
       "      <th>4</th>\n",
       "      <td>322696</td>\n",
       "      <td>2016-04-03 08:47:08</td>\n",
       "      <td>['RTV i AGD', 'Sprzęt car audio', 'Głośniki', ...</td>\n",
       "      <td>1</td>\n",
       "      <td>1</td>\n",
       "      <td>www_carhifi24_pl</td>\n",
       "      <td>69.00</td>\n",
       "      <td>1</td>\n",
       "      <td>46</td>\n",
       "      <td>0</td>\n",
       "      <td>...</td>\n",
       "      <td>Medium</td>\n",
       "      <td>High</td>\n",
       "      <td>0.0</td>\n",
       "      <td>0.0</td>\n",
       "      <td>1.0</td>\n",
       "      <td>0.0</td>\n",
       "      <td>0.0</td>\n",
       "      <td>0.0</td>\n",
       "      <td>1.0</td>\n",
       "      <td>0.0</td>\n",
       "    </tr>\n",
       "  </tbody>\n",
       "</table>\n",
       "<p>5 rows × 24 columns</p>\n",
       "</div>"
      ],
      "text/plain": [
       "       lp                 date  \\\n",
       "0  130426  2016-04-03 18:02:08   \n",
       "1  299276  2016-04-03 08:09:24   \n",
       "2   39114  2016-04-03 16:59:19   \n",
       "3  186814  2016-04-03 19:51:44   \n",
       "4  322696  2016-04-03 08:47:08   \n",
       "\n",
       "                                          categories  pay_option_on_delivery  \\\n",
       "0  ['Motoryzacja', 'Części samochodowe', 'Koła, f...                       1   \n",
       "1  ['Sport i Turystyka', 'Sporty walki', 'Pozosta...                       1   \n",
       "2  ['Dla Dzieci', 'Zabawki', 'Klocki', 'LEGO', 'M...                       0   \n",
       "3  ['RTV i AGD', 'Zasilanie', 'Baterie', 'Pozosta...                       1   \n",
       "4  ['RTV i AGD', 'Sprzęt car audio', 'Głośniki', ...                       1   \n",
       "\n",
       "   pay_option_transfer            seller   price  it_is_allegro_standard  \\\n",
       "0                    1           id-auto  399.99                       0   \n",
       "1                    1  norbert_mackowia  119.00                       1   \n",
       "2                    1         KuBrick21    5.90                       1   \n",
       "3                    1   allesupershop24    1.00                       0   \n",
       "4                    1  www_carhifi24_pl   69.00                       1   \n",
       "\n",
       "   it_quantity  it_is_brand_zone  ...  it_seller_rating_cat price_cat  \\\n",
       "0            0                 0  ...                   Low      High   \n",
       "1            0                 0  ...                   Low      High   \n",
       "2            0                 0  ...                   Low       Low   \n",
       "3         9908                 0  ...                   Low       Low   \n",
       "4           46                 0  ...                Medium      High   \n",
       "\n",
       "  it_quantity_cat_None it_quantity_cat_Low it_quantity_cat_Medium  \\\n",
       "0                  0.0                 0.0                    0.0   \n",
       "1                  0.0                 0.0                    0.0   \n",
       "2                  0.0                 0.0                    0.0   \n",
       "3                  1.0                 0.0                    0.0   \n",
       "4                  0.0                 0.0                    1.0   \n",
       "\n",
       "  it_quantity_cat_High  it_seller_rating_cat_None  it_seller_rating_cat_Low  \\\n",
       "0                  1.0                        0.0                       1.0   \n",
       "1                  1.0                        0.0                       1.0   \n",
       "2                  1.0                        0.0                       1.0   \n",
       "3                  0.0                        0.0                       1.0   \n",
       "4                  0.0                        0.0                       0.0   \n",
       "\n",
       "   it_seller_rating_cat_Medium  it_seller_rating_cat_High  \n",
       "0                          0.0                        0.0  \n",
       "1                          0.0                        0.0  \n",
       "2                          0.0                        0.0  \n",
       "3                          0.0                        0.0  \n",
       "4                          1.0                        0.0  \n",
       "\n",
       "[5 rows x 24 columns]"
      ]
     },
     "execution_count": 239,
     "metadata": {},
     "output_type": "execute_result"
    }
   ],
   "source": [
    "df.head()"
   ]
  },
  {
   "cell_type": "markdown",
   "metadata": {},
   "source": [
    "#### Dodatkowy Feature Engineering\n",
    "\n",
    "Możemy dodatkowo stworzyć kolumnę opisującą liczbę dodanych kategorii i sprawdzić czy jest ona jakkolwiek skorelowana z ceną."
   ]
  },
  {
   "cell_type": "code",
   "execution_count": 240,
   "metadata": {},
   "outputs": [
    {
     "data": {
      "text/plain": [
       "<AxesSubplot:>"
      ]
     },
     "execution_count": 240,
     "metadata": {},
     "output_type": "execute_result"
    },
    {
     "data": {
      "image/png": "[encoded data removed]",
      "text/plain": [
       "<Figure size 432x288 with 1 Axes>"
      ]
     },
     "metadata": {
      "needs_background": "light"
     },
     "output_type": "display_data"
    }
   ],
   "source": [
    "categories_count = df['categories'].apply(lambda x : len(x))\n",
    "categories_count.hist()"
   ]
  },
  {
   "cell_type": "code",
   "execution_count": 241,
   "metadata": {},
   "outputs": [
    {
     "data": {
      "text/plain": [
       "<AxesSubplot:xlabel='price', ylabel='categories'>"
      ]
     },
     "execution_count": 241,
     "metadata": {},
     "output_type": "execute_result"
    },
    {
     "data": {
      "image/png": "[encoded data removed]",
      "text/plain": [
       "<Figure size 1440x216 with 1 Axes>"
      ]
     },
     "metadata": {
      "needs_background": "light"
     },
     "output_type": "display_data"
    }
   ],
   "source": [
    "plt.figure(figsize=(20, 3))\n",
    "sns.scatterplot(data = df, x = df['price'], y = categories_count)"
   ]
  },
  {
   "cell_type": "markdown",
   "metadata": {},
   "source": [
    "Widać niewielką zależność wyciągnięcia ceny w górę przy mniejszej liczbie kategorii. Warto dalej przeanalizować ten parametr w trakcie budowy modelu."
   ]
  },
  {
   "cell_type": "markdown",
   "metadata": {},
   "source": [
    "Dodatkowo można spróbować znaleźć zależność między ceną a lokalizacją sprzedawcy. Na przykład sprawdzająć czy ma siedzibę w mieście wojewódzkim lub w Warszawie. Można także przestudiować nazwy użytkowników i spróbować wyciągnąć z nich jakieś nazwy. Na Allegro często sprzedają sklepy internetowe, które w nazwie mają końcówki '.pl' lub podobne. Mogą oni sprzedawać z reguły droższe artykuły."
   ]
  },
  {
   "cell_type": "markdown",
   "metadata": {},
   "source": [
    "#### Podsumowanie\n",
    "\n",
    "Poprzedni zespół wykonał część zadań związanych z przygotowaniem danych do modelu jednak zapomniał o naistoteniejszych sprawach takich jak dogłębne poszukiwanie brakujących danych oraz kodowanie zmiennych kategorycznych."
   ]
  }
 ],
 "metadata": {
  "kernelspec": {
   "display_name": "Python 3",
   "language": "python",
   "name": "python3"
  },
  "language_info": {
   "codemirror_mode": {
    "name": "ipython",
    "version": 3
   },
   "file_extension": ".py",
   "mimetype": "text/x-python",
   "name": "python",
   "nbconvert_exporter": "python",
   "pygments_lexer": "ipython3",
   "version": "3.8.3"
  }
 },
 "nbformat": 4,
 "nbformat_minor": 4
}
