{
 "cells": [
  {
   "cell_type": "markdown",
   "metadata": {},
   "source": [
    "# Budowanie modeli\n",
    "#### zespół budujący:\n",
    "- Szymon Gut\n",
    "- Jan Krężel"
   ]
  },
  {
   "cell_type": "code",
   "execution_count": 79,
   "metadata": {},
   "outputs": [],
   "source": [
    "import pandas as pd\n",
    "import seaborn as sns\n",
    "import matplotlib.pyplot as plt\n",
    "from sklearn.cluster import KMeans\n",
    "from sklearn import metrics\n",
    "import numpy as np"
   ]
  },
  {
   "cell_type": "markdown",
   "metadata": {},
   "source": [
    "# Wczytanie wszystkich potrzebnych danych"
   ]
  },
  {
   "cell_type": "code",
   "execution_count": 33,
   "metadata": {},
   "outputs": [],
   "source": [
    "urbanGB = pd.read_table(\"urbanGB.txt\", sep=\",\")"
   ]
  },
  {
   "cell_type": "code",
   "execution_count": 34,
   "metadata": {
    "scrolled": true
   },
   "outputs": [
    {
     "data": {
      "text/html": [
       "<div>\n",
       "<style scoped>\n",
       "    .dataframe tbody tr th:only-of-type {\n",
       "        vertical-align: middle;\n",
       "    }\n",
       "\n",
       "    .dataframe tbody tr th {\n",
       "        vertical-align: top;\n",
       "    }\n",
       "\n",
       "    .dataframe thead th {\n",
       "        text-align: right;\n",
       "    }\n",
       "</style>\n",
       "<table border=\"1\" class=\"dataframe\">\n",
       "  <thead>\n",
       "    <tr style=\"text-align: right;\">\n",
       "      <th></th>\n",
       "      <th>lng</th>\n",
       "      <th>lat</th>\n",
       "    </tr>\n",
       "  </thead>\n",
       "  <tbody>\n",
       "    <tr>\n",
       "      <th>0</th>\n",
       "      <td>-0.310990</td>\n",
       "      <td>53.7802</td>\n",
       "    </tr>\n",
       "    <tr>\n",
       "      <th>1</th>\n",
       "      <td>-3.112550</td>\n",
       "      <td>55.8706</td>\n",
       "    </tr>\n",
       "    <tr>\n",
       "      <th>2</th>\n",
       "      <td>-0.088533</td>\n",
       "      <td>51.3806</td>\n",
       "    </tr>\n",
       "    <tr>\n",
       "      <th>3</th>\n",
       "      <td>-0.326795</td>\n",
       "      <td>51.4476</td>\n",
       "    </tr>\n",
       "    <tr>\n",
       "      <th>4</th>\n",
       "      <td>-3.946530</td>\n",
       "      <td>51.6594</td>\n",
       "    </tr>\n",
       "    <tr>\n",
       "      <th>...</th>\n",
       "      <td>...</td>\n",
       "      <td>...</td>\n",
       "    </tr>\n",
       "    <tr>\n",
       "      <th>360172</th>\n",
       "      <td>-0.557803</td>\n",
       "      <td>53.2197</td>\n",
       "    </tr>\n",
       "    <tr>\n",
       "      <th>360173</th>\n",
       "      <td>-1.748430</td>\n",
       "      <td>52.4872</td>\n",
       "    </tr>\n",
       "    <tr>\n",
       "      <th>360174</th>\n",
       "      <td>-0.128844</td>\n",
       "      <td>51.5126</td>\n",
       "    </tr>\n",
       "    <tr>\n",
       "      <th>360175</th>\n",
       "      <td>-1.885640</td>\n",
       "      <td>52.4490</td>\n",
       "    </tr>\n",
       "    <tr>\n",
       "      <th>360176</th>\n",
       "      <td>-4.055970</td>\n",
       "      <td>55.8215</td>\n",
       "    </tr>\n",
       "  </tbody>\n",
       "</table>\n",
       "<p>360177 rows × 2 columns</p>\n",
       "</div>"
      ],
      "text/plain": [
       "             lng      lat\n",
       "0      -0.310990  53.7802\n",
       "1      -3.112550  55.8706\n",
       "2      -0.088533  51.3806\n",
       "3      -0.326795  51.4476\n",
       "4      -3.946530  51.6594\n",
       "...          ...      ...\n",
       "360172 -0.557803  53.2197\n",
       "360173 -1.748430  52.4872\n",
       "360174 -0.128844  51.5126\n",
       "360175 -1.885640  52.4490\n",
       "360176 -4.055970  55.8215\n",
       "\n",
       "[360177 rows x 2 columns]"
      ]
     },
     "execution_count": 34,
     "metadata": {},
     "output_type": "execute_result"
    }
   ],
   "source": [
    "urbanGB"
   ]
  },
  {
   "cell_type": "markdown",
   "metadata": {},
   "source": [
    "Skalowanie dlugosci geograficznej aby obliczanie długości geograficznej miało ten sam sens co obliczanie odległości euklidesowej"
   ]
  },
  {
   "cell_type": "markdown",
   "metadata": {},
   "source": [
    "urbanGB['lng'] = urbanGB['lng'].div(1.7) "
   ]
  },
  {
   "cell_type": "code",
   "execution_count": 35,
   "metadata": {},
   "outputs": [],
   "source": [
    "urbanGB_centr = pd.read_table(\"urbanGB.centr.txt\", sep=\",\")"
   ]
  },
  {
   "cell_type": "code",
   "execution_count": 36,
   "metadata": {},
   "outputs": [
    {
     "data": {
      "text/html": [
       "<div>\n",
       "<style scoped>\n",
       "    .dataframe tbody tr th:only-of-type {\n",
       "        vertical-align: middle;\n",
       "    }\n",
       "\n",
       "    .dataframe tbody tr th {\n",
       "        vertical-align: top;\n",
       "    }\n",
       "\n",
       "    .dataframe thead th {\n",
       "        text-align: right;\n",
       "    }\n",
       "</style>\n",
       "<table border=\"1\" class=\"dataframe\">\n",
       "  <thead>\n",
       "    <tr style=\"text-align: right;\">\n",
       "      <th></th>\n",
       "      <th>longtitude</th>\n",
       "      <th>lattitude</th>\n",
       "    </tr>\n",
       "  </thead>\n",
       "  <tbody>\n",
       "    <tr>\n",
       "      <th>0</th>\n",
       "      <td>-0.141365</td>\n",
       "      <td>51.5039</td>\n",
       "    </tr>\n",
       "    <tr>\n",
       "      <th>1</th>\n",
       "      <td>-2.934580</td>\n",
       "      <td>53.4234</td>\n",
       "    </tr>\n",
       "    <tr>\n",
       "      <th>2</th>\n",
       "      <td>-3.544380</td>\n",
       "      <td>55.8940</td>\n",
       "    </tr>\n",
       "    <tr>\n",
       "      <th>3</th>\n",
       "      <td>-1.857930</td>\n",
       "      <td>52.4706</td>\n",
       "    </tr>\n",
       "    <tr>\n",
       "      <th>4</th>\n",
       "      <td>-4.630890</td>\n",
       "      <td>53.3077</td>\n",
       "    </tr>\n",
       "    <tr>\n",
       "      <th>...</th>\n",
       "      <td>...</td>\n",
       "      <td>...</td>\n",
       "    </tr>\n",
       "    <tr>\n",
       "      <th>464</th>\n",
       "      <td>-1.742190</td>\n",
       "      <td>54.8668</td>\n",
       "    </tr>\n",
       "    <tr>\n",
       "      <th>465</th>\n",
       "      <td>-0.644559</td>\n",
       "      <td>50.8336</td>\n",
       "    </tr>\n",
       "    <tr>\n",
       "      <th>466</th>\n",
       "      <td>-0.971466</td>\n",
       "      <td>51.7464</td>\n",
       "    </tr>\n",
       "    <tr>\n",
       "      <th>467</th>\n",
       "      <td>-2.801070</td>\n",
       "      <td>55.6144</td>\n",
       "    </tr>\n",
       "    <tr>\n",
       "      <th>468</th>\n",
       "      <td>-5.094610</td>\n",
       "      <td>56.8236</td>\n",
       "    </tr>\n",
       "  </tbody>\n",
       "</table>\n",
       "<p>469 rows × 2 columns</p>\n",
       "</div>"
      ],
      "text/plain": [
       "     longtitude   lattitude\n",
       "0     -0.141365     51.5039\n",
       "1     -2.934580     53.4234\n",
       "2     -3.544380     55.8940\n",
       "3     -1.857930     52.4706\n",
       "4     -4.630890     53.3077\n",
       "..          ...         ...\n",
       "464   -1.742190     54.8668\n",
       "465   -0.644559     50.8336\n",
       "466   -0.971466     51.7464\n",
       "467   -2.801070     55.6144\n",
       "468   -5.094610     56.8236\n",
       "\n",
       "[469 rows x 2 columns]"
      ]
     },
     "execution_count": 36,
     "metadata": {},
     "output_type": "execute_result"
    }
   ],
   "source": [
    "urbanGB_centr"
   ]
  },
  {
   "cell_type": "code",
   "execution_count": 37,
   "metadata": {},
   "outputs": [],
   "source": [
    "urbanGB_labels = pd.read_table(\"urbanGB.labels.txt\", sep=\",\")"
   ]
  },
  {
   "cell_type": "code",
   "execution_count": 38,
   "metadata": {},
   "outputs": [
    {
     "data": {
      "text/html": [
       "<div>\n",
       "<style scoped>\n",
       "    .dataframe tbody tr th:only-of-type {\n",
       "        vertical-align: middle;\n",
       "    }\n",
       "\n",
       "    .dataframe tbody tr th {\n",
       "        vertical-align: top;\n",
       "    }\n",
       "\n",
       "    .dataframe thead th {\n",
       "        text-align: right;\n",
       "    }\n",
       "</style>\n",
       "<table border=\"1\" class=\"dataframe\">\n",
       "  <thead>\n",
       "    <tr style=\"text-align: right;\">\n",
       "      <th></th>\n",
       "      <th>idx_from_urb_centr</th>\n",
       "    </tr>\n",
       "  </thead>\n",
       "  <tbody>\n",
       "    <tr>\n",
       "      <th>0</th>\n",
       "      <td>53</td>\n",
       "    </tr>\n",
       "    <tr>\n",
       "      <th>1</th>\n",
       "      <td>280</td>\n",
       "    </tr>\n",
       "    <tr>\n",
       "      <th>2</th>\n",
       "      <td>1</td>\n",
       "    </tr>\n",
       "    <tr>\n",
       "      <th>3</th>\n",
       "      <td>1</td>\n",
       "    </tr>\n",
       "    <tr>\n",
       "      <th>4</th>\n",
       "      <td>267</td>\n",
       "    </tr>\n",
       "    <tr>\n",
       "      <th>...</th>\n",
       "      <td>...</td>\n",
       "    </tr>\n",
       "    <tr>\n",
       "      <th>360172</th>\n",
       "      <td>122</td>\n",
       "    </tr>\n",
       "    <tr>\n",
       "      <th>360173</th>\n",
       "      <td>4</td>\n",
       "    </tr>\n",
       "    <tr>\n",
       "      <th>360174</th>\n",
       "      <td>1</td>\n",
       "    </tr>\n",
       "    <tr>\n",
       "      <th>360175</th>\n",
       "      <td>4</td>\n",
       "    </tr>\n",
       "    <tr>\n",
       "      <th>360176</th>\n",
       "      <td>196</td>\n",
       "    </tr>\n",
       "  </tbody>\n",
       "</table>\n",
       "<p>360177 rows × 1 columns</p>\n",
       "</div>"
      ],
      "text/plain": [
       "        idx_from_urb_centr\n",
       "0                       53\n",
       "1                      280\n",
       "2                        1\n",
       "3                        1\n",
       "4                      267\n",
       "...                    ...\n",
       "360172                 122\n",
       "360173                   4\n",
       "360174                   1\n",
       "360175                   4\n",
       "360176                 196\n",
       "\n",
       "[360177 rows x 1 columns]"
      ]
     },
     "execution_count": 38,
     "metadata": {},
     "output_type": "execute_result"
    }
   ],
   "source": [
    "urbanGB_labels"
   ]
  },
  {
   "cell_type": "markdown",
   "metadata": {},
   "source": [
    "# Przedstawienie graficzne miejsc w których wystęowały wypadki"
   ]
  },
  {
   "cell_type": "code",
   "execution_count": 61,
   "metadata": {},
   "outputs": [
    {
     "data": {
      "image/png": "[encoded data removed]",
      "text/plain": [
       "<Figure size 432x288 with 1 Axes>"
      ]
     },
     "metadata": {
      "needs_background": "light"
     },
     "output_type": "display_data"
    }
   ],
   "source": [
    "sns.scatterplot(data=urbanGB, x='lng', y='lat',palette=sns.color_palette(\"coolwarm\", as_cmap=True))\n",
    "plt.show()"
   ]
  },
  {
   "cell_type": "code",
   "execution_count": 73,
   "metadata": {},
   "outputs": [],
   "source": [
    "samples = urbanGB.to_numpy()"
   ]
  },
  {
   "cell_type": "code",
   "execution_count": 84,
   "metadata": {},
   "outputs": [],
   "source": [
    "def seq(start, end, by = None, length_out = None):\n",
    "    len_provided = True if (length_out is not None) else False\n",
    "    by_provided = True if (by is not None) else False\n",
    "    if (not by_provided) & (not len_provided):\n",
    "        raise ValueError('At least by or n_points must be provided')\n",
    "    width = end - start\n",
    "    eps = pow(10.0, -14)\n",
    "    if by_provided:\n",
    "        if (abs(by) < eps):\n",
    "            raise ValueError('by must be non-zero.')\n",
    "    #Switch direction in case in start and end seems to have been switched (use sign of by to decide this behaviour)\n",
    "        if start > end and by > 0:\n",
    "            e = start\n",
    "            start = end\n",
    "            end = e\n",
    "        elif start < end and by < 0:\n",
    "            e = end\n",
    "            end = start\n",
    "            start = e\n",
    "        absby = abs(by)\n",
    "        if absby - width < eps: \n",
    "            length_out = int(width / absby)\n",
    "        else: \n",
    "            #by is too great, we assume by is actually length_out\n",
    "            length_out = int(by)\n",
    "            by = width / (by - 1)\n",
    "    else:\n",
    "        length_out = int(length_out)\n",
    "        by = width / (length_out - 1) \n",
    "    out = [float(start)]*length_out\n",
    "    for i in range(1, length_out):\n",
    "        out[i] += by * i\n",
    "    if abs(start + by * length_out - end) < eps:\n",
    "        out.append(end)\n",
    "    return out"
   ]
  },
  {
   "cell_type": "code",
   "execution_count": 95,
   "metadata": {},
   "outputs": [
    {
     "data": {
      "text/plain": [
       "[6, 8, 10, 12, 14, 16, 18, 20, 22, 24, 26, 28, 30]"
      ]
     },
     "execution_count": 95,
     "metadata": {},
     "output_type": "execute_result"
    }
   ],
   "source": [
    "ks=seq(6,30, by = 2)\n",
    "ks = [int(i) for i in ks]\n",
    "ks"
   ]
  },
  {
   "cell_type": "code",
   "execution_count": 93,
   "metadata": {
    "scrolled": true
   },
   "outputs": [
    {
     "data": {
      "image/png": "[encoded data removed]",
      "text/plain": [
       "<Figure size 432x288 with 1 Axes>"
      ]
     },
     "metadata": {
      "needs_background": "light"
     },
     "output_type": "display_data"
    }
   ],
   "source": [
    "inertias = []\n",
    "\n",
    "for k in ks:\n",
    "    model = KMeans(n_clusters = k)\n",
    "    \n",
    "    model.fit(samples)\n",
    "\n",
    "    inertias.append(model.inertia_)\n",
    " \n",
    "# Plot ks vs inertias\n",
    "plt.plot(ks, inertias, '-o')\n",
    "plt.xlabel('number of clusters, k')\n",
    "plt.ylabel('inertia')\n",
    "plt.xticks(ks)\n",
    "plt.show()\n"
   ]
  },
  {
   "cell_type": "code",
   "execution_count": 100,
   "metadata": {},
   "outputs": [
    {
     "data": {
      "text/plain": [
       "[6, 11, 16, 21, 26, 31, 36, 41, 46, 51]"
      ]
     },
     "execution_count": 100,
     "metadata": {},
     "output_type": "execute_result"
    }
   ],
   "source": [
    "ks=seq(6,60, by = 5)\n",
    "ks = [int(i) for i in ks]\n",
    "ks"
   ]
  },
  {
   "cell_type": "code",
   "execution_count": 101,
   "metadata": {},
   "outputs": [
    {
     "data": {
      "image/png": "[encoded data removed]",
      "text/plain": [
       "<Figure size 432x288 with 1 Axes>"
      ]
     },
     "metadata": {
      "needs_background": "light"
     },
     "output_type": "display_data"
    }
   ],
   "source": [
    "inertias = []\n",
    "\n",
    "for k in ks:\n",
    "    model = KMeans(n_clusters = k)\n",
    "    \n",
    "    model.fit(samples)\n",
    "\n",
    "    inertias.append(model.inertia_)\n",
    " \n",
    "# Plot ks vs inertias\n",
    "plt.plot(ks, inertias, '-o')\n",
    "plt.xlabel('number of clusters, k')\n",
    "plt.ylabel('inertia')\n",
    "plt.xticks(ks)\n",
    "plt.show()\n"
   ]
  },
  {
   "cell_type": "markdown",
   "metadata": {},
   "source": [
    "Na wykresie możemy zobaczyć jak liczba klastrów wpływa na dokładność przybliżania naszych danych centroidami. Im mniejsza `inertia` tym nasze dane są bliżej centroidów. Jednak przy wyborze optymalnego modelu należy również zwrócić uwagę na liczbę klastrów. Dobry model to taki, który przy minimalnej liczbie klastrów osiąga niską `inerpia'e`. Zatem przy wyborze naszego modelu posłużymy się `elbow's method`, czyli wybierzemy ten model dla którego spadek na wykresię staje się nagle łagodniejszy"
   ]
  },
  {
   "cell_type": "markdown",
   "metadata": {},
   "source": [
    "**patrząc na te dwa wykresy słusznym kandydatem na liczbę klastrów wydaje się 21. Jest to ilość, która dostatecznie minimalizuje nam `inertia'e` oraz możemy zauważyć, że większe liczby klastrów tylko nieznacznie poprawiają nam wyniki**"
   ]
  },
  {
   "cell_type": "markdown",
   "metadata": {},
   "source": [
    "TODO: Inna klastwryzacja"
   ]
  },
  {
   "cell_type": "code",
   "execution_count": null,
   "metadata": {},
   "outputs": [],
   "source": []
  }
 ],
 "metadata": {
  "kernelspec": {
   "display_name": "Python 3",
   "language": "python",
   "name": "python3"
  },
  "language_info": {
   "codemirror_mode": {
    "name": "ipython",
    "version": 3
   },
   "file_extension": ".py",
   "mimetype": "text/x-python",
   "name": "python",
   "nbconvert_exporter": "python",
   "pygments_lexer": "ipython3",
   "version": "3.8.3"
  }
 },
 "nbformat": 4,
 "nbformat_minor": 4
}
