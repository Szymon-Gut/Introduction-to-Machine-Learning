{
 "cells": [
  {
   "cell_type": "code",
   "execution_count": 1,
   "metadata": {},
   "outputs": [],
   "source": [
    "import pandas as pd\n",
    "import numpy as np\n",
    "import seaborn as sns\n",
    "import matplotlib.pyplot as plt\n",
    "from sklearn.model_selection import train_test_split"
   ]
  },
  {
   "cell_type": "markdown",
   "metadata": {},
   "source": [
    "#### 0. Ładowanie Danych"
   ]
  },
  {
   "cell_type": "code",
   "execution_count": 65,
   "metadata": {},
   "outputs": [],
   "source": [
    "def load_data():\n",
    "    df = pd.read_csv(\"smartphone_activity_dataset.csv\")\n",
    "    return df"
   ]
  },
  {
   "cell_type": "code",
   "execution_count": 66,
   "metadata": {},
   "outputs": [],
   "source": [
    "def load_description():\n",
    "    attributes = pd.read_csv(\"attributes_smartphone_activity.csv\")\n",
    "    return attributes"
   ]
  },
  {
   "cell_type": "code",
   "execution_count": 67,
   "metadata": {},
   "outputs": [],
   "source": [
    "df = load_data()"
   ]
  },
  {
   "cell_type": "code",
   "execution_count": 70,
   "metadata": {},
   "outputs": [],
   "source": [
    "dscr = load_description()"
   ]
  },
  {
   "cell_type": "markdown",
   "metadata": {},
   "source": [
    "#### 1. Podział zbioru"
   ]
  },
  {
   "cell_type": "code",
   "execution_count": 71,
   "metadata": {},
   "outputs": [],
   "source": [
    "y = df[\"activity\"]\n",
    "X = df.drop(['activity'],axis=1)"
   ]
  },
  {
   "cell_type": "code",
   "execution_count": 72,
   "metadata": {},
   "outputs": [],
   "source": [
    "def split_data(df):\n",
    "    X_train, X_val, y_train, y_val = train_test_split(\n",
    "        X, y, stratify=y, test_size=0.3, random_state=42\n",
    "    )\n",
    "    X_val, X_test, y_val, y_test = train_test_split(\n",
    "        X_val, y_val, stratify=y_val, test_size=0.3, random_state=42\n",
    "    )\n",
    "    return X_train, X_val, X_test, y_train, y_val, y_test "
   ]
  },
  {
   "cell_type": "code",
   "execution_count": 73,
   "metadata": {},
   "outputs": [],
   "source": [
    "X_train, X_val, X_test, y_train, y_val, y_test = split_data(df)"
   ]
  },
  {
   "cell_type": "code",
   "execution_count": 74,
   "metadata": {},
   "outputs": [
    {
     "name": "stdout",
     "output_type": "stream",
     "text": [
      "X_train: 7209\n",
      "y_train: 7209\n",
      "X_val: 2163\n",
      "y_val: 2163\n",
      "X_test: 927\n",
      "y_test: 927\n"
     ]
    }
   ],
   "source": [
    "print(\"X_train:\",len(X_train))\n",
    "print(\"y_train:\",len(y_train))\n",
    "print(\"X_val:\",len(X_val))\n",
    "print(\"y_val:\",len(y_val))\n",
    "print(\"X_test:\",len(X_test))\n",
    "print(\"y_test:\",len(y_test))"
   ]
  },
  {
   "cell_type": "markdown",
   "metadata": {},
   "source": [
    "#### 2. Wybór parametrów\n",
    "\n",
    "    Nad tym elementem chcemy jeszcze popracować. Nie jest on skończony"
   ]
  },
  {
   "cell_type": "code",
   "execution_count": 121,
   "metadata": {},
   "outputs": [],
   "source": [
    "def remove_correlated(df):\n",
    "    # Create a mask for values above 65%\n",
    "    # But also below 100% since variables correlated with themselves\n",
    "    correlation = df.corr(method='spearman')\n",
    "    mask = (abs(correlation > 0.65) & (correlation < 1.0))\n",
    "    high_corr = correlation[mask]\n",
    "\n",
    "    # Create a new column mask using any() and ~\n",
    "    col_to_filter_out = ~high_corr[mask].any()\n",
    "\n",
    "    # Apply new mask\n",
    "    df_clean = df[high_corr.columns[col_to_filter_out]]\n",
    "\n",
    "    # Visualize cleaned dataset\n",
    "    return df_clean"
   ]
  },
  {
   "cell_type": "code",
   "execution_count": 120,
   "metadata": {},
   "outputs": [
    {
     "data": {
      "text/html": [
       "<div>\n",
       "<style scoped>\n",
       "    .dataframe tbody tr th:only-of-type {\n",
       "        vertical-align: middle;\n",
       "    }\n",
       "\n",
       "    .dataframe tbody tr th {\n",
       "        vertical-align: top;\n",
       "    }\n",
       "\n",
       "    .dataframe thead th {\n",
       "        text-align: right;\n",
       "    }\n",
       "</style>\n",
       "<table border=\"1\" class=\"dataframe\">\n",
       "  <thead>\n",
       "    <tr style=\"text-align: right;\">\n",
       "      <th></th>\n",
       "      <th>feature_1</th>\n",
       "      <th>feature_2</th>\n",
       "      <th>feature_3</th>\n",
       "      <th>feature_29</th>\n",
       "      <th>feature_33</th>\n",
       "      <th>feature_37</th>\n",
       "      <th>feature_38</th>\n",
       "      <th>feature_39</th>\n",
       "      <th>feature_40</th>\n",
       "      <th>feature_64</th>\n",
       "      <th>...</th>\n",
       "      <th>feature_512</th>\n",
       "      <th>feature_525</th>\n",
       "      <th>feature_538</th>\n",
       "      <th>feature_551</th>\n",
       "      <th>feature_555</th>\n",
       "      <th>feature_556</th>\n",
       "      <th>feature_557</th>\n",
       "      <th>feature_558</th>\n",
       "      <th>feature_560</th>\n",
       "      <th>feature_561</th>\n",
       "    </tr>\n",
       "  </thead>\n",
       "  <tbody>\n",
       "    <tr>\n",
       "      <th>4111</th>\n",
       "      <td>0.284</td>\n",
       "      <td>-0.0275</td>\n",
       "      <td>-0.0996</td>\n",
       "      <td>-0.02210</td>\n",
       "      <td>-0.1020</td>\n",
       "      <td>0.30500</td>\n",
       "      <td>-0.4360</td>\n",
       "      <td>-0.2570</td>\n",
       "      <td>0.4870</td>\n",
       "      <td>-1.000</td>\n",
       "      <td>...</td>\n",
       "      <td>-0.724</td>\n",
       "      <td>-0.8730</td>\n",
       "      <td>-0.795</td>\n",
       "      <td>-0.873</td>\n",
       "      <td>-0.2430</td>\n",
       "      <td>-0.3760</td>\n",
       "      <td>0.264</td>\n",
       "      <td>-0.5260</td>\n",
       "      <td>0.3510</td>\n",
       "      <td>0.1870</td>\n",
       "    </tr>\n",
       "    <tr>\n",
       "      <th>8040</th>\n",
       "      <td>0.254</td>\n",
       "      <td>-0.0195</td>\n",
       "      <td>-0.1090</td>\n",
       "      <td>0.07430</td>\n",
       "      <td>-0.1350</td>\n",
       "      <td>0.36500</td>\n",
       "      <td>0.7330</td>\n",
       "      <td>-0.0240</td>\n",
       "      <td>-0.0262</td>\n",
       "      <td>-0.459</td>\n",
       "      <td>...</td>\n",
       "      <td>-0.931</td>\n",
       "      <td>-1.0000</td>\n",
       "      <td>-0.949</td>\n",
       "      <td>-1.000</td>\n",
       "      <td>-0.0950</td>\n",
       "      <td>-0.2320</td>\n",
       "      <td>0.145</td>\n",
       "      <td>-0.0162</td>\n",
       "      <td>-0.0440</td>\n",
       "      <td>-0.9030</td>\n",
       "    </tr>\n",
       "    <tr>\n",
       "      <th>7234</th>\n",
       "      <td>0.270</td>\n",
       "      <td>-0.0190</td>\n",
       "      <td>-0.1040</td>\n",
       "      <td>-0.02740</td>\n",
       "      <td>-0.0897</td>\n",
       "      <td>0.01510</td>\n",
       "      <td>0.2030</td>\n",
       "      <td>-0.3730</td>\n",
       "      <td>-0.1340</td>\n",
       "      <td>-0.981</td>\n",
       "      <td>...</td>\n",
       "      <td>-0.862</td>\n",
       "      <td>-0.7460</td>\n",
       "      <td>-1.000</td>\n",
       "      <td>-0.683</td>\n",
       "      <td>0.0345</td>\n",
       "      <td>0.1180</td>\n",
       "      <td>-0.236</td>\n",
       "      <td>0.5070</td>\n",
       "      <td>-0.5510</td>\n",
       "      <td>-0.4490</td>\n",
       "    </tr>\n",
       "    <tr>\n",
       "      <th>833</th>\n",
       "      <td>0.297</td>\n",
       "      <td>-0.0021</td>\n",
       "      <td>-0.0866</td>\n",
       "      <td>0.14800</td>\n",
       "      <td>-0.0206</td>\n",
       "      <td>-0.13300</td>\n",
       "      <td>-0.2070</td>\n",
       "      <td>0.0677</td>\n",
       "      <td>0.3090</td>\n",
       "      <td>-1.000</td>\n",
       "      <td>...</td>\n",
       "      <td>-0.517</td>\n",
       "      <td>-0.9050</td>\n",
       "      <td>-0.538</td>\n",
       "      <td>-0.905</td>\n",
       "      <td>-0.1100</td>\n",
       "      <td>-0.7600</td>\n",
       "      <td>-0.924</td>\n",
       "      <td>-0.0516</td>\n",
       "      <td>0.2410</td>\n",
       "      <td>0.0410</td>\n",
       "    </tr>\n",
       "    <tr>\n",
       "      <th>2552</th>\n",
       "      <td>0.277</td>\n",
       "      <td>-0.0215</td>\n",
       "      <td>-0.1070</td>\n",
       "      <td>0.03740</td>\n",
       "      <td>-0.2540</td>\n",
       "      <td>-0.05570</td>\n",
       "      <td>-0.1140</td>\n",
       "      <td>-0.3010</td>\n",
       "      <td>0.1910</td>\n",
       "      <td>-1.000</td>\n",
       "      <td>...</td>\n",
       "      <td>-0.310</td>\n",
       "      <td>0.0794</td>\n",
       "      <td>-1.000</td>\n",
       "      <td>-0.905</td>\n",
       "      <td>-0.0381</td>\n",
       "      <td>0.2490</td>\n",
       "      <td>-0.296</td>\n",
       "      <td>0.2120</td>\n",
       "      <td>0.1830</td>\n",
       "      <td>-0.0701</td>\n",
       "    </tr>\n",
       "    <tr>\n",
       "      <th>...</th>\n",
       "      <td>...</td>\n",
       "      <td>...</td>\n",
       "      <td>...</td>\n",
       "      <td>...</td>\n",
       "      <td>...</td>\n",
       "      <td>...</td>\n",
       "      <td>...</td>\n",
       "      <td>...</td>\n",
       "      <td>...</td>\n",
       "      <td>...</td>\n",
       "      <td>...</td>\n",
       "      <td>...</td>\n",
       "      <td>...</td>\n",
       "      <td>...</td>\n",
       "      <td>...</td>\n",
       "      <td>...</td>\n",
       "      <td>...</td>\n",
       "      <td>...</td>\n",
       "      <td>...</td>\n",
       "      <td>...</td>\n",
       "      <td>...</td>\n",
       "    </tr>\n",
       "    <tr>\n",
       "      <th>316</th>\n",
       "      <td>0.252</td>\n",
       "      <td>-0.0155</td>\n",
       "      <td>-0.0701</td>\n",
       "      <td>0.14600</td>\n",
       "      <td>-0.1900</td>\n",
       "      <td>0.06930</td>\n",
       "      <td>-0.4270</td>\n",
       "      <td>-0.1010</td>\n",
       "      <td>0.1530</td>\n",
       "      <td>-1.000</td>\n",
       "      <td>...</td>\n",
       "      <td>-0.793</td>\n",
       "      <td>-0.9050</td>\n",
       "      <td>-0.846</td>\n",
       "      <td>-0.905</td>\n",
       "      <td>0.3090</td>\n",
       "      <td>0.8380</td>\n",
       "      <td>0.928</td>\n",
       "      <td>-0.4190</td>\n",
       "      <td>0.3600</td>\n",
       "      <td>0.0812</td>\n",
       "    </tr>\n",
       "    <tr>\n",
       "      <th>5920</th>\n",
       "      <td>0.275</td>\n",
       "      <td>-0.0184</td>\n",
       "      <td>-0.1000</td>\n",
       "      <td>0.23800</td>\n",
       "      <td>-0.0392</td>\n",
       "      <td>-0.05170</td>\n",
       "      <td>0.5050</td>\n",
       "      <td>-0.8000</td>\n",
       "      <td>-0.6180</td>\n",
       "      <td>-1.000</td>\n",
       "      <td>...</td>\n",
       "      <td>-1.000</td>\n",
       "      <td>-0.7460</td>\n",
       "      <td>-1.000</td>\n",
       "      <td>-0.937</td>\n",
       "      <td>-0.1380</td>\n",
       "      <td>0.0139</td>\n",
       "      <td>-0.429</td>\n",
       "      <td>0.4090</td>\n",
       "      <td>-0.2050</td>\n",
       "      <td>-0.3360</td>\n",
       "    </tr>\n",
       "    <tr>\n",
       "      <th>1451</th>\n",
       "      <td>0.212</td>\n",
       "      <td>-0.0144</td>\n",
       "      <td>-0.1660</td>\n",
       "      <td>0.13200</td>\n",
       "      <td>-0.1960</td>\n",
       "      <td>-0.10600</td>\n",
       "      <td>-0.2370</td>\n",
       "      <td>-0.2900</td>\n",
       "      <td>0.2660</td>\n",
       "      <td>-1.000</td>\n",
       "      <td>...</td>\n",
       "      <td>-0.793</td>\n",
       "      <td>-0.9050</td>\n",
       "      <td>-0.949</td>\n",
       "      <td>-0.905</td>\n",
       "      <td>0.1030</td>\n",
       "      <td>-0.4900</td>\n",
       "      <td>0.939</td>\n",
       "      <td>-0.9600</td>\n",
       "      <td>0.2070</td>\n",
       "      <td>0.3590</td>\n",
       "    </tr>\n",
       "    <tr>\n",
       "      <th>1307</th>\n",
       "      <td>0.307</td>\n",
       "      <td>-0.0233</td>\n",
       "      <td>-0.1960</td>\n",
       "      <td>-0.00657</td>\n",
       "      <td>-0.3610</td>\n",
       "      <td>-0.36900</td>\n",
       "      <td>-0.4930</td>\n",
       "      <td>-0.5380</td>\n",
       "      <td>0.2440</td>\n",
       "      <td>-1.000</td>\n",
       "      <td>...</td>\n",
       "      <td>-0.448</td>\n",
       "      <td>-0.9050</td>\n",
       "      <td>-0.949</td>\n",
       "      <td>-0.905</td>\n",
       "      <td>-0.1560</td>\n",
       "      <td>-0.9210</td>\n",
       "      <td>0.934</td>\n",
       "      <td>0.5540</td>\n",
       "      <td>0.3260</td>\n",
       "      <td>0.0357</td>\n",
       "    </tr>\n",
       "    <tr>\n",
       "      <th>8906</th>\n",
       "      <td>0.277</td>\n",
       "      <td>-0.0176</td>\n",
       "      <td>-0.1050</td>\n",
       "      <td>0.00510</td>\n",
       "      <td>0.0295</td>\n",
       "      <td>0.00314</td>\n",
       "      <td>-0.0566</td>\n",
       "      <td>-0.0274</td>\n",
       "      <td>-0.1700</td>\n",
       "      <td>-1.000</td>\n",
       "      <td>...</td>\n",
       "      <td>-0.172</td>\n",
       "      <td>0.6190</td>\n",
       "      <td>-1.000</td>\n",
       "      <td>-0.905</td>\n",
       "      <td>-0.1090</td>\n",
       "      <td>0.1500</td>\n",
       "      <td>0.319</td>\n",
       "      <td>-0.3710</td>\n",
       "      <td>-0.0392</td>\n",
       "      <td>-0.1590</td>\n",
       "    </tr>\n",
       "  </tbody>\n",
       "</table>\n",
       "<p>7209 rows × 79 columns</p>\n",
       "</div>"
      ],
      "text/plain": [
       "      feature_1  feature_2  feature_3  feature_29  feature_33  feature_37  \\\n",
       "4111      0.284    -0.0275    -0.0996    -0.02210     -0.1020     0.30500   \n",
       "8040      0.254    -0.0195    -0.1090     0.07430     -0.1350     0.36500   \n",
       "7234      0.270    -0.0190    -0.1040    -0.02740     -0.0897     0.01510   \n",
       "833       0.297    -0.0021    -0.0866     0.14800     -0.0206    -0.13300   \n",
       "2552      0.277    -0.0215    -0.1070     0.03740     -0.2540    -0.05570   \n",
       "...         ...        ...        ...         ...         ...         ...   \n",
       "316       0.252    -0.0155    -0.0701     0.14600     -0.1900     0.06930   \n",
       "5920      0.275    -0.0184    -0.1000     0.23800     -0.0392    -0.05170   \n",
       "1451      0.212    -0.0144    -0.1660     0.13200     -0.1960    -0.10600   \n",
       "1307      0.307    -0.0233    -0.1960    -0.00657     -0.3610    -0.36900   \n",
       "8906      0.277    -0.0176    -0.1050     0.00510      0.0295     0.00314   \n",
       "\n",
       "      feature_38  feature_39  feature_40  feature_64  ...  feature_512  \\\n",
       "4111     -0.4360     -0.2570      0.4870      -1.000  ...       -0.724   \n",
       "8040      0.7330     -0.0240     -0.0262      -0.459  ...       -0.931   \n",
       "7234      0.2030     -0.3730     -0.1340      -0.981  ...       -0.862   \n",
       "833      -0.2070      0.0677      0.3090      -1.000  ...       -0.517   \n",
       "2552     -0.1140     -0.3010      0.1910      -1.000  ...       -0.310   \n",
       "...          ...         ...         ...         ...  ...          ...   \n",
       "316      -0.4270     -0.1010      0.1530      -1.000  ...       -0.793   \n",
       "5920      0.5050     -0.8000     -0.6180      -1.000  ...       -1.000   \n",
       "1451     -0.2370     -0.2900      0.2660      -1.000  ...       -0.793   \n",
       "1307     -0.4930     -0.5380      0.2440      -1.000  ...       -0.448   \n",
       "8906     -0.0566     -0.0274     -0.1700      -1.000  ...       -0.172   \n",
       "\n",
       "      feature_525  feature_538  feature_551  feature_555  feature_556  \\\n",
       "4111      -0.8730       -0.795       -0.873      -0.2430      -0.3760   \n",
       "8040      -1.0000       -0.949       -1.000      -0.0950      -0.2320   \n",
       "7234      -0.7460       -1.000       -0.683       0.0345       0.1180   \n",
       "833       -0.9050       -0.538       -0.905      -0.1100      -0.7600   \n",
       "2552       0.0794       -1.000       -0.905      -0.0381       0.2490   \n",
       "...           ...          ...          ...          ...          ...   \n",
       "316       -0.9050       -0.846       -0.905       0.3090       0.8380   \n",
       "5920      -0.7460       -1.000       -0.937      -0.1380       0.0139   \n",
       "1451      -0.9050       -0.949       -0.905       0.1030      -0.4900   \n",
       "1307      -0.9050       -0.949       -0.905      -0.1560      -0.9210   \n",
       "8906       0.6190       -1.000       -0.905      -0.1090       0.1500   \n",
       "\n",
       "      feature_557  feature_558  feature_560  feature_561  \n",
       "4111        0.264      -0.5260       0.3510       0.1870  \n",
       "8040        0.145      -0.0162      -0.0440      -0.9030  \n",
       "7234       -0.236       0.5070      -0.5510      -0.4490  \n",
       "833        -0.924      -0.0516       0.2410       0.0410  \n",
       "2552       -0.296       0.2120       0.1830      -0.0701  \n",
       "...           ...          ...          ...          ...  \n",
       "316         0.928      -0.4190       0.3600       0.0812  \n",
       "5920       -0.429       0.4090      -0.2050      -0.3360  \n",
       "1451        0.939      -0.9600       0.2070       0.3590  \n",
       "1307        0.934       0.5540       0.3260       0.0357  \n",
       "8906        0.319      -0.3710      -0.0392      -0.1590  \n",
       "\n",
       "[7209 rows x 79 columns]"
      ]
     },
     "execution_count": 120,
     "metadata": {},
     "output_type": "execute_result"
    }
   ],
   "source": [
    "X_train_clean = remove_correlated(X_train)\n",
    "X_train_clean"
   ]
  },
  {
   "cell_type": "code",
   "execution_count": 122,
   "metadata": {},
   "outputs": [],
   "source": [
    "def get_best_features(X,y,n):\n",
    "    X_copy = X.copy()\n",
    "    X_copy[\"activity\"] = y\n",
    "    corr_matrix = X_copy.corr(method = 'spearman').abs()\n",
    "    corr_matrix = corr_matrix[\"activity\"]\n",
    "    return corr_matrix.nlargest(n).iloc[1:].index.tolist()"
   ]
  },
  {
   "cell_type": "code",
   "execution_count": 123,
   "metadata": {},
   "outputs": [],
   "source": [
    "selected_features = get_best_features(X_train_clean, y_train, 10)"
   ]
  },
  {
   "cell_type": "code",
   "execution_count": 125,
   "metadata": {
    "scrolled": false
   },
   "outputs": [
    {
     "data": {
      "text/plain": [
       "<AxesSubplot:>"
      ]
     },
     "execution_count": 125,
     "metadata": {},
     "output_type": "execute_result"
    },
    {
     "data": {
      "image/png": "[encoded data removed]",
      "text/plain": [
       "<Figure size 864x720 with 2 Axes>"
      ]
     },
     "metadata": {
      "needs_background": "light"
     },
     "output_type": "display_data"
    }
   ],
   "source": [
    "#corr map on shorter dataset\n",
    "X_train_copy = X_train[selected_features].copy()\n",
    "X_train_copy[\"activity\"] = y_train\n",
    "plt.figure(figsize=(12, 10))\n",
    "sns.heatmap(X_train_copy.corr(method='spearman'), vmin=-1, vmax=1, cmap='coolwarm', annot = True)"
   ]
  },
  {
   "cell_type": "code",
   "execution_count": 126,
   "metadata": {},
   "outputs": [
    {
     "data": {
      "image/png": "[encoded data removed]",
      "text/plain": [
       "<Figure size 1296x1080 with 9 Axes>"
      ]
     },
     "metadata": {
      "needs_background": "light"
     },
     "output_type": "display_data"
    }
   ],
   "source": [
    "fig, axes = plt.subplots(3, 3, figsize=(18, 15))\n",
    "for i in range(len(selected_features)):\n",
    "    sns.histplot(ax=axes[i // 3, i % 3], data=X_train, x=selected_features[i])"
   ]
  },
  {
   "cell_type": "code",
   "execution_count": 84,
   "metadata": {},
   "outputs": [
    {
     "data": {
      "text/plain": [
       "<AxesSubplot:xlabel='activity', ylabel='Count'>"
      ]
     },
     "execution_count": 84,
     "metadata": {},
     "output_type": "execute_result"
    },
    {
     "data": {
      "image/png": "[encoded data removed]",
      "text/plain": [
       "<Figure size 432x288 with 1 Axes>"
      ]
     },
     "metadata": {
      "needs_background": "light"
     },
     "output_type": "display_data"
    }
   ],
   "source": [
    "sns.histplot(y_train)"
   ]
  },
  {
   "cell_type": "markdown",
   "metadata": {},
   "source": [
    "#### 3. Przygotowanie Modeli"
   ]
  },
  {
   "cell_type": "code",
   "execution_count": 101,
   "metadata": {},
   "outputs": [],
   "source": [
    "from sklearn.pipeline import Pipeline\n",
    "from sklearn.preprocessing import OneHotEncoder, StandardScaler, LabelEncoder\n",
    "\n",
    "from sklearn.linear_model import LogisticRegression\n",
    "from xgboost import XGBClassifier\n",
    "from sklearn.ensemble import AdaBoostClassifier\n",
    "from sklearn.ensemble import RandomForestClassifier\n",
    "\n",
    "from sklearn.metrics import accuracy_score, recall_score, precision_score, f1_score"
   ]
  },
  {
   "cell_type": "code",
   "execution_count": 95,
   "metadata": {},
   "outputs": [],
   "source": [
    "class FeatureSelector:\n",
    "    def __init__(self, features):\n",
    "        self.features = features\n",
    "\n",
    "    def transform(self, X, y=None):\n",
    "        return X.loc[:,self.features]\n",
    "\n",
    "    def fit(self, X, y=None):\n",
    "        return self"
   ]
  },
  {
   "cell_type": "code",
   "execution_count": null,
   "metadata": {},
   "outputs": [],
   "source": [
    "preprocessor = Pipeline(\n",
    "    steps=[\n",
    "        ('feat_selector', FeatureSelector(features=selected_features)),\n",
    "        ('scaler', StandardScaler())\n",
    "        ])"
   ]
  },
  {
   "cell_type": "code",
   "execution_count": 163,
   "metadata": {},
   "outputs": [],
   "source": [
    "rfc = Pipeline(\n",
    "    steps=[\n",
    "        ('preproc', preprocessor),\n",
    "        ('random_forest_classifier', RandomForestClassifier(random_state=42, n_estimators=25, max_depth=20))\n",
    "    ]\n",
    ")\n",
    "\n",
    "xgbc = Pipeline(\n",
    "    steps=[\n",
    "        ('preproc', preprocessor),\n",
    "        ('xgboost_classifier', XGBClassifier(random_state=42, n_estimators=25, eval_metric='mlogloss'))\n",
    "    ]\n",
    ")\n",
    "\n",
    "logreg = Pipeline(\n",
    "    steps=[\n",
    "        ('preproc', preprocessor),\n",
    "        ('logistic_regressor', LogisticRegression(multi_class=\"multinomial\", max_iter=5000))\n",
    "    ]\n",
    ")\n",
    "\n",
    "adb = Pipeline(\n",
    "    steps=[\n",
    "        ('preproc', preprocessor),\n",
    "        ('adaboost', AdaBoostClassifier(random_state=42))\n",
    "    ]\n",
    ")"
   ]
  },
  {
   "cell_type": "code",
   "execution_count": 104,
   "metadata": {},
   "outputs": [],
   "source": [
    "def print_scores(y_val, y_pred):\n",
    "    print(\"accuracy: \", accuracy_score(y_val, y_pred))\n",
    "    print(\"precision: \", precision_score(y_val, y_pred, average='macro'))\n",
    "    print(\"recall: \", recall_score(y_val, y_pred, average='macro'))\n",
    "    print(\"f1: \", f1_score(y_val, y_pred, average='macro'))"
   ]
  },
  {
   "cell_type": "markdown",
   "metadata": {},
   "source": [
    "#### 4. Ewaluacja Modeli"
   ]
  },
  {
   "cell_type": "markdown",
   "metadata": {},
   "source": [
    "#### Random Forest Classifier"
   ]
  },
  {
   "cell_type": "code",
   "execution_count": 164,
   "metadata": {},
   "outputs": [
    {
     "name": "stdout",
     "output_type": "stream",
     "text": [
      "accuracy:  0.9047619047619048\n",
      "precision:  0.9019485956974367\n",
      "recall:  0.9033837050516175\n",
      "f1:  0.9024211425341075\n"
     ]
    }
   ],
   "source": [
    "rfc.fit(X_train, y_train)\n",
    "y_pred = rfc.predict(X_val)\n",
    "print_scores(y_val, y_pred)"
   ]
  },
  {
   "cell_type": "markdown",
   "metadata": {},
   "source": [
    "#### Logistic Regression"
   ]
  },
  {
   "cell_type": "code",
   "execution_count": 108,
   "metadata": {},
   "outputs": [
    {
     "name": "stdout",
     "output_type": "stream",
     "text": [
      "accuracy:  0.7817845584835876\n",
      "precision:  0.7785416014783375\n",
      "recall:  0.7775754769904295\n",
      "f1:  0.7767130632457432\n"
     ]
    }
   ],
   "source": [
    "logreg.fit(X_train, y_train)\n",
    "y_pred = logreg.predict(X_val)\n",
    "print_scores(y_val, y_pred)"
   ]
  },
  {
   "cell_type": "markdown",
   "metadata": {},
   "source": [
    "#### XGBClassifier"
   ]
  },
  {
   "cell_type": "code",
   "execution_count": 117,
   "metadata": {},
   "outputs": [
    {
     "name": "stdout",
     "output_type": "stream",
     "text": [
      "accuracy:  0.9186315302820157\n",
      "precision:  0.9154634821422946\n",
      "recall:  0.9163398264624915\n",
      "f1:  0.9158239477652494\n"
     ]
    }
   ],
   "source": [
    "%%capture --no-stdout\n",
    "xgbc.fit(X_train, y_train)\n",
    "y_pred = xgbc.predict(X_val)\n",
    "print_scores(y_val, y_pred)"
   ]
  },
  {
   "cell_type": "markdown",
   "metadata": {},
   "source": [
    "#### AdaBoost"
   ]
  },
  {
   "cell_type": "code",
   "execution_count": 129,
   "metadata": {},
   "outputs": [
    {
     "name": "stdout",
     "output_type": "stream",
     "text": [
      "accuracy:  0.3892741562644475\n",
      "precision:  0.3721447928765002\n",
      "recall:  0.34807864164432534\n",
      "f1:  0.25672148112741283\n"
     ]
    }
   ],
   "source": [
    "%%capture --no-stdout\n",
    "adb.fit(X_train, y_train)\n",
    "y_pred = adb.predict(X_val)\n",
    "print_scores(y_val, y_pred)"
   ]
  },
  {
   "cell_type": "markdown",
   "metadata": {},
   "source": [
    "Pod względem ```accuracy``` zdecydowanymi zwycięzcami są RFC i XGBC. Regresja logistyczna wypada nieco gorzej jednak najprawdopodobniej jest to spowodowane złym doborem informatywnych atrybutów."
   ]
  },
  {
   "cell_type": "markdown",
   "metadata": {},
   "source": [
    "#### Co dalej?\n",
    "\n",
    "    1. Chcemy lepiej przewidywać, które zmienne powinniśmy używać\n",
    "    \n",
    "    2. Sprawdzić jaki wpływ ma liczba zmiennych na overfitowanie\n",
    "    \n",
    "    3. Wybrać najlepszy model wraz z najlepszymi hiperparametrami"
   ]
  }
 ],
 "metadata": {
  "kernelspec": {
   "display_name": "Python 3",
   "language": "python",
   "name": "python3"
  },
  "language_info": {
   "codemirror_mode": {
    "name": "ipython",
    "version": 3
   },
   "file_extension": ".py",
   "mimetype": "text/x-python",
   "name": "python",
   "nbconvert_exporter": "python",
   "pygments_lexer": "ipython3",
   "version": "3.8.8"
  }
 },
 "nbformat": 4,
 "nbformat_minor": 4
}
