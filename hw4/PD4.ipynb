{
 "cells": [
  {
   "cell_type": "markdown",
   "metadata": {},
   "source": [
    "# Praca domowa 4 - Wstęp do Uczenia Maszynowego\n",
    "## Maja Andrzejczuk i Julia Przybytniowska"
   ]
  },
  {
   "cell_type": "code",
   "execution_count": 59,
   "metadata": {},
   "outputs": [],
   "source": [
    "\n",
    "import pandas as pd\n",
    "import numpy as np\n",
    "import matplotlib.pyplot as plt\n",
    "\n",
    "from sklearn.feature_selection import SelectFromModel\n",
    "from sklearn.model_selection import train_test_split\n",
    "from sklearn.preprocessing import MinMaxScaler\n",
    "\n",
    "from sklearn.ensemble import RandomForestClassifier\n",
    "from sklearn.tree import DecisionTreeClassifier\n",
    "from sklearn.svm import SVC\n",
    "from sklearn.metrics import f1_score, precision_score, recall_score, accuracy_score, classification_report, roc_auc_score\n",
    "from sklearn.model_selection import cross_val_score\n",
    "from scikitplot.estimators import plot_learning_curve\n",
    "\n",
    "from sklearn.model_selection import RandomizedSearchCV\n",
    "from sklearn.model_selection import GridSearchCV\n",
    "from sklearn.model_selection import RepeatedStratifiedKFold\n",
    "\n",
    "import warnings\n",
    "warnings.filterwarnings(\"ignore\")"
   ]
  },
  {
   "cell_type": "code",
   "execution_count": 60,
   "metadata": {},
   "outputs": [
    {
     "name": "stdout",
     "output_type": "stream",
     "text": [
      "<class 'pandas.core.frame.DataFrame'>\n",
      "RangeIndex: 6819 entries, 0 to 6818\n",
      "Data columns (total 96 columns):\n",
      " #   Column                                                    Non-Null Count  Dtype  \n",
      "---  ------                                                    --------------  -----  \n",
      " 0   Bankrupt?                                                 6819 non-null   int64  \n",
      " 1    ROA(C) before interest and depreciation before interest  6819 non-null   float64\n",
      " 2    ROA(A) before interest and % after tax                   6819 non-null   float64\n",
      " 3    ROA(B) before interest and depreciation after tax        6819 non-null   float64\n",
      " 4    Operating Gross Margin                                   6819 non-null   float64\n",
      " 5    Realized Sales Gross Margin                              6819 non-null   float64\n",
      " 6    Operating Profit Rate                                    6819 non-null   float64\n",
      " 7    Pre-tax net Interest Rate                                6819 non-null   float64\n",
      " 8    After-tax net Interest Rate                              6819 non-null   float64\n",
      " 9    Non-industry income and expenditure/revenue              6819 non-null   float64\n",
      " 10   Continuous interest rate (after tax)                     6819 non-null   float64\n",
      " 11   Operating Expense Rate                                   6819 non-null   float64\n",
      " 12   Research and development expense rate                    6819 non-null   float64\n",
      " 13   Cash flow rate                                           6819 non-null   float64\n",
      " 14   Interest-bearing debt interest rate                      6819 non-null   float64\n",
      " 15   Tax rate (A)                                             6819 non-null   float64\n",
      " 16   Net Value Per Share (B)                                  6819 non-null   float64\n",
      " 17   Net Value Per Share (A)                                  6819 non-null   float64\n",
      " 18   Net Value Per Share (C)                                  6819 non-null   float64\n",
      " 19   Persistent EPS in the Last Four Seasons                  6819 non-null   float64\n",
      " 20   Cash Flow Per Share                                      6819 non-null   float64\n",
      " 21   Revenue Per Share (Yuan ¥)                               6819 non-null   float64\n",
      " 22   Operating Profit Per Share (Yuan ¥)                      6819 non-null   float64\n",
      " 23   Per Share Net profit before tax (Yuan ¥)                 6819 non-null   float64\n",
      " 24   Realized Sales Gross Profit Growth Rate                  6819 non-null   float64\n",
      " 25   Operating Profit Growth Rate                             6819 non-null   float64\n",
      " 26   After-tax Net Profit Growth Rate                         6819 non-null   float64\n",
      " 27   Regular Net Profit Growth Rate                           6819 non-null   float64\n",
      " 28   Continuous Net Profit Growth Rate                        6819 non-null   float64\n",
      " 29   Total Asset Growth Rate                                  6819 non-null   float64\n",
      " 30   Net Value Growth Rate                                    6819 non-null   float64\n",
      " 31   Total Asset Return Growth Rate Ratio                     6819 non-null   float64\n",
      " 32   Cash Reinvestment %                                      6819 non-null   float64\n",
      " 33   Current Ratio                                            6819 non-null   float64\n",
      " 34   Quick Ratio                                              6819 non-null   float64\n",
      " 35   Interest Expense Ratio                                   6819 non-null   float64\n",
      " 36   Total debt/Total net worth                               6819 non-null   float64\n",
      " 37   Debt ratio %                                             6819 non-null   float64\n",
      " 38   Net worth/Assets                                         6819 non-null   float64\n",
      " 39   Long-term fund suitability ratio (A)                     6819 non-null   float64\n",
      " 40   Borrowing dependency                                     6819 non-null   float64\n",
      " 41   Contingent liabilities/Net worth                         6819 non-null   float64\n",
      " 42   Operating profit/Paid-in capital                         6819 non-null   float64\n",
      " 43   Net profit before tax/Paid-in capital                    6819 non-null   float64\n",
      " 44   Inventory and accounts receivable/Net value              6819 non-null   float64\n",
      " 45   Total Asset Turnover                                     6819 non-null   float64\n",
      " 46   Accounts Receivable Turnover                             6819 non-null   float64\n",
      " 47   Average Collection Days                                  6819 non-null   float64\n",
      " 48   Inventory Turnover Rate (times)                          6819 non-null   float64\n",
      " 49   Fixed Assets Turnover Frequency                          6819 non-null   float64\n",
      " 50   Net Worth Turnover Rate (times)                          6819 non-null   float64\n",
      " 51   Revenue per person                                       6819 non-null   float64\n",
      " 52   Operating profit per person                              6819 non-null   float64\n",
      " 53   Allocation rate per person                               6819 non-null   float64\n",
      " 54   Working Capital to Total Assets                          6819 non-null   float64\n",
      " 55   Quick Assets/Total Assets                                6819 non-null   float64\n",
      " 56   Current Assets/Total Assets                              6819 non-null   float64\n",
      " 57   Cash/Total Assets                                        6819 non-null   float64\n",
      " 58   Quick Assets/Current Liability                           6819 non-null   float64\n",
      " 59   Cash/Current Liability                                   6819 non-null   float64\n",
      " 60   Current Liability to Assets                              6819 non-null   float64\n",
      " 61   Operating Funds to Liability                             6819 non-null   float64\n",
      " 62   Inventory/Working Capital                                6819 non-null   float64\n",
      " 63   Inventory/Current Liability                              6819 non-null   float64\n",
      " 64   Current Liabilities/Liability                            6819 non-null   float64\n",
      " 65   Working Capital/Equity                                   6819 non-null   float64\n",
      " 66   Current Liabilities/Equity                               6819 non-null   float64\n",
      " 67   Long-term Liability to Current Assets                    6819 non-null   float64\n",
      " 68   Retained Earnings to Total Assets                        6819 non-null   float64\n",
      " 69   Total income/Total expense                               6819 non-null   float64\n",
      " 70   Total expense/Assets                                     6819 non-null   float64\n",
      " 71   Current Asset Turnover Rate                              6819 non-null   float64\n",
      " 72   Quick Asset Turnover Rate                                6819 non-null   float64\n",
      " 73   Working capitcal Turnover Rate                           6819 non-null   float64\n",
      " 74   Cash Turnover Rate                                       6819 non-null   float64\n",
      " 75   Cash Flow to Sales                                       6819 non-null   float64\n",
      " 76   Fixed Assets to Assets                                   6819 non-null   float64\n",
      " 77   Current Liability to Liability                           6819 non-null   float64\n",
      " 78   Current Liability to Equity                              6819 non-null   float64\n",
      " 79   Equity to Long-term Liability                            6819 non-null   float64\n",
      " 80   Cash Flow to Total Assets                                6819 non-null   float64\n",
      " 81   Cash Flow to Liability                                   6819 non-null   float64\n",
      " 82   CFO to Assets                                            6819 non-null   float64\n",
      " 83   Cash Flow to Equity                                      6819 non-null   float64\n",
      " 84   Current Liability to Current Assets                      6819 non-null   float64\n",
      " 85   Liability-Assets Flag                                    6819 non-null   int64  \n",
      " 86   Net Income to Total Assets                               6819 non-null   float64\n",
      " 87   Total assets to GNP price                                6819 non-null   float64\n",
      " 88   No-credit Interval                                       6819 non-null   float64\n",
      " 89   Gross Profit to Sales                                    6819 non-null   float64\n",
      " 90   Net Income to Stockholder's Equity                       6819 non-null   float64\n",
      " 91   Liability to Equity                                      6819 non-null   float64\n",
      " 92   Degree of Financial Leverage (DFL)                       6819 non-null   float64\n",
      " 93   Interest Coverage Ratio (Interest expense to EBIT)       6819 non-null   float64\n",
      " 94   Net Income Flag                                          6819 non-null   int64  \n",
      " 95   Equity to Liability                                      6819 non-null   float64\n",
      "dtypes: float64(93), int64(3)\n",
      "memory usage: 5.0 MB\n"
     ]
    }
   ],
   "source": [
    "df = pd.read_csv('data.csv')\n",
    "df.info()"
   ]
  },
  {
   "cell_type": "markdown",
   "metadata": {},
   "source": [
    "Korzystając z pracy domowej 3 przeprowadzimy preprocessing danych, aby modele oraz ich tuning były bardziej efektywne:\n",
    "- sprawdzenie unikatowych wartości w kolumnach o zmiennych *int*, usunięcie niepotrzebnych\n",
    "- zamiana wartości odstających (2,5%, 97,5%) na wartości w tych kwantylach\n",
    "- zmiana kierunku korelacji na dodatni\n",
    "- normalizacja zmiennych ciągłych przy użyciu MinMaxScaler()\n",
    "- podział danych na zbiór treningowy i testowy"
   ]
  },
  {
   "cell_type": "markdown",
   "metadata": {},
   "source": [
    "Przeprowadzimy to w jednej komórce ze względu na fakt że jest to powtórzenie kodu z wcześniejszego zadania."
   ]
  },
  {
   "cell_type": "code",
   "execution_count": 61,
   "metadata": {},
   "outputs": [],
   "source": [
    "#for col in df:\n",
    "#  if len(df[col].unique()) < 100:\n",
    "#    print(df[col].unique(), col)\n",
    "#df[' Liability-Assets Flag'].value_counts()\n",
    "#df[' Net Income Flag'].value_counts()\n",
    "df.drop(columns = [' Liability-Assets Flag',' Net Income Flag'], inplace = True)\n",
    "df_train,df_val = train_test_split(df,test_size=0.3, random_state=420, stratify=df['Bankrupt?'])\n",
    "\n",
    "def outliers_to_quantiles(df):\n",
    "    up_quantiles = df.quantile(0.975,axis=0)\n",
    "    down_quantiles = df.quantile(0.025,axis=0)\n",
    "    outliers_low = (df < down_quantiles)\n",
    "    outliers_high = (df > up_quantiles)\n",
    "    df_train = df.where(~outliers_low, down_quantiles, axis=1)\n",
    "    df_train = df.where(~outliers_high, up_quantiles, axis=1)\n",
    "    return df\n",
    "\n",
    "def make_corr_positive(df):\n",
    "  corrs = df.corrwith(df['Bankrupt?'])\n",
    "  neg_corrs = np.where(corrs < 0)\n",
    "  df.iloc[:,neg_corrs[0].tolist()] = -df.iloc[:,neg_corrs[0].tolist()]\n",
    "  return df\n",
    "\n",
    "def normalize_and_split(df):\n",
    "  X = df.drop(columns = ['Bankrupt?'])  #zmienne opisujące, które będą normalizowane\n",
    "  Y = df['Bankrupt?']                  #zmienna celu\n",
    "  X = MinMaxScaler().fit_transform(X)\n",
    "  return train_test_split(X, Y, test_size=0.3, random_state=420, stratify=Y)\n",
    "\n",
    "df_train = outliers_to_quantiles(df_train)\n",
    "df_train = make_corr_positive(df_train)\n",
    "X_train, X_test, y_train, y_test= normalize_and_split(df_train)"
   ]
  },
  {
   "cell_type": "markdown",
   "metadata": {},
   "source": [
    "#### Ograniczenie zmiennych przez zostawienie najważniejszych kolumn według  feature_importance modelu Random Forest"
   ]
  },
  {
   "cell_type": "markdown",
   "metadata": {},
   "source": [
    "Na początku określamy liczbę drzew, następnie użyjemy funkcji *selectFromModel()* ze sklearn, aby automatycznie wybrać najważniejsze cechy."
   ]
  },
  {
   "cell_type": "code",
   "execution_count": 62,
   "metadata": {},
   "outputs": [
    {
     "data": {
      "text/plain": [
       "SelectFromModel(estimator=RandomForestClassifier())"
      ]
     },
     "execution_count": 62,
     "metadata": {},
     "output_type": "execute_result"
    }
   ],
   "source": [
    "sel = SelectFromModel(RandomForestClassifier(n_estimators = 100))\n",
    "sel.fit(X_train, y_train)"
   ]
  },
  {
   "cell_type": "markdown",
   "metadata": {},
   "source": [
    "Następnie tworzymy listę i liczymy wybrane przez nas cechy:"
   ]
  },
  {
   "cell_type": "code",
   "execution_count": 63,
   "metadata": {},
   "outputs": [
    {
     "data": {
      "text/plain": [
       "40"
      ]
     },
     "execution_count": 63,
     "metadata": {},
     "output_type": "execute_result"
    }
   ],
   "source": [
    "selected_feat= df_train.iloc[:,:-1].columns[(sel.get_support())]\n",
    "len(selected_feat)"
   ]
  },
  {
   "cell_type": "markdown",
   "metadata": {},
   "source": [
    "Sprawdzimy jakie zmienne wybraliśmy:"
   ]
  },
  {
   "cell_type": "code",
   "execution_count": 64,
   "metadata": {
    "scrolled": true
   },
   "outputs": [
    {
     "name": "stdout",
     "output_type": "stream",
     "text": [
      "Index(['Bankrupt?', ' ROA(C) before interest and depreciation before interest',\n",
      "       ' ROA(A) before interest and % after tax', ' Pre-tax net Interest Rate',\n",
      "       ' After-tax net Interest Rate',\n",
      "       ' Non-industry income and expenditure/revenue', ' Tax rate (A)',\n",
      "       ' Net Value Per Share (B)', ' Net Value Per Share (A)',\n",
      "       ' Net Value Per Share (C)', ' Revenue Per Share (Yuan ¥)',\n",
      "       ' Operating Profit Per Share (Yuan ¥)',\n",
      "       ' After-tax Net Profit Growth Rate', ' Total Asset Growth Rate',\n",
      "       ' Net Value Growth Rate', ' Quick Ratio', ' Total debt/Total net worth',\n",
      "       ' Debt ratio %', ' Long-term fund suitability ratio (A)',\n",
      "       ' Contingent liabilities/Net worth',\n",
      "       ' Operating profit/Paid-in capital', ' Fixed Assets Turnover Frequency',\n",
      "       ' Revenue per person', ' Allocation rate per person',\n",
      "       ' Current Assets/Total Assets', ' Operating Funds to Liability',\n",
      "       ' Current Liabilities/Liability',\n",
      "       ' Long-term Liability to Current Assets',\n",
      "       ' Retained Earnings to Total Assets', ' Total income/Total expense',\n",
      "       ' Quick Asset Turnover Rate', ' Current Liability to Liability',\n",
      "       ' Current Liability to Equity', ' Current Liability to Current Assets',\n",
      "       ' Total assets to GNP price', ' Gross Profit to Sales',\n",
      "       ' Net Income to Stockholder's Equity', ' Liability to Equity',\n",
      "       ' Degree of Financial Leverage (DFL)',\n",
      "       ' Interest Coverage Ratio (Interest expense to EBIT)'],\n",
      "      dtype='object')\n"
     ]
    }
   ],
   "source": [
    "print(selected_feat)"
   ]
  },
  {
   "cell_type": "markdown",
   "metadata": {},
   "source": [
    "Sprawdźmy rozłożenie \"importance\" na wykresie:"
   ]
  },
  {
   "cell_type": "code",
   "execution_count": 17,
   "metadata": {
    "scrolled": false
   },
   "outputs": [
    {
     "data": {
      "text/plain": [
       "<AxesSubplot:>"
      ]
     },
     "execution_count": 17,
     "metadata": {},
     "output_type": "execute_result"
    },
    {
     "data": {
      "image/png": "[encoded data removed]",
      "text/plain": [
       "<Figure size 432x288 with 1 Axes>"
      ]
     },
     "metadata": {
      "needs_background": "light"
     },
     "output_type": "display_data"
    }
   ],
   "source": [
    "pd.Series(sel.estimator_.feature_importances_.ravel()).hist()"
   ]
  },
  {
   "cell_type": "code",
   "execution_count": 65,
   "metadata": {},
   "outputs": [],
   "source": [
    "df_train = df_train[selected_feat]"
   ]
  },
  {
   "cell_type": "code",
   "execution_count": 66,
   "metadata": {},
   "outputs": [],
   "source": [
    "X_train, X_test, y_train, y_test= normalize_and_split(df_train)"
   ]
  },
  {
   "cell_type": "markdown",
   "metadata": {},
   "source": [
    "## Modele o domyślnych hiperparametrach:"
   ]
  },
  {
   "cell_type": "code",
   "execution_count": 67,
   "metadata": {},
   "outputs": [],
   "source": [
    "def trainModel(model, X_train,y_train,X_test,y_test):\n",
    "    model.fit(X_train, y_train)    \n",
    "    predictions=model.predict(X_test)\n",
    "    \n",
    "    accuracy = accuracy_score(y_test, predictions)\n",
    "    recall = recall_score(y_test, predictions,average='micro')\n",
    "    precision = precision_score(y_test, predictions,average='micro')\n",
    "    f1 = f1_score(y_test, predictions, average='micro')\n",
    "    auc = roc_auc_score(y_test,predictions)\n",
    "    errorrate = 1 - accuracy_score(y_test, predictions)\n",
    "    \n",
    "    print('accuracy: ', accuracy)\n",
    "    print('error rate', errorrate)\n",
    "    print('recall: ',recall)\n",
    "    print('precision: ', precision)\n",
    "    print('f1_micro: ', f1)\n",
    "    print('auc: ', auc)\n",
    "    print('cross_validation: ',np.mean(cross_val_score(model, X_train, y_train, scoring='accuracy', cv=20, n_jobs=-1, error_score='raise')))\n",
    "    print(classification_report(y_test, predictions))\n",
    "    \n",
    "    plot_learning_curve(model, X_test, y_test, scoring='roc_auc');    \n",
    "    plt.show()"
   ]
  },
  {
   "cell_type": "markdown",
   "metadata": {},
   "source": [
    "### 1. Decision Tree"
   ]
  },
  {
   "cell_type": "code",
   "execution_count": 21,
   "metadata": {},
   "outputs": [
    {
     "name": "stdout",
     "output_type": "stream",
     "text": [
      "accuracy:  0.9532122905027933\n",
      "error rate 0.046787709497206675\n",
      "recall:  0.9532122905027933\n",
      "precision:  0.9532122905027933\n",
      "f1_micro:  0.9532122905027933\n",
      "auc:  0.5975123909906519\n",
      "cross_validation:  0.949419019104648\n",
      "              precision    recall  f1-score   support\n",
      "\n",
      "           0       0.97      0.98      0.98      1386\n",
      "           1       0.24      0.22      0.23        46\n",
      "\n",
      "    accuracy                           0.95      1432\n",
      "   macro avg       0.61      0.60      0.60      1432\n",
      "weighted avg       0.95      0.95      0.95      1432\n",
      "\n"
     ]
    },
    {
     "data": {
      "image/png": "[encoded data removed]",
      "text/plain": [
       "<Figure size 432x288 with 1 Axes>"
      ]
     },
     "metadata": {
      "needs_background": "light"
     },
     "output_type": "display_data"
    }
   ],
   "source": [
    "modelDT = DecisionTreeClassifier()\n",
    "\n",
    "trainModel(modelDT, X_train, y_train, X_test, y_test)"
   ]
  },
  {
   "cell_type": "markdown",
   "metadata": {},
   "source": [
    "### 2. Random Forest"
   ]
  },
  {
   "cell_type": "code",
   "execution_count": 22,
   "metadata": {},
   "outputs": [
    {
     "name": "stdout",
     "output_type": "stream",
     "text": [
      "accuracy:  0.9720670391061452\n",
      "error rate 0.027932960893854775\n",
      "recall:  0.9720670391061452\n",
      "precision:  0.9720670391061452\n",
      "f1_micro:  0.9720670391061452\n",
      "auc:  0.5967438358742707\n",
      "cross_validation:  0.9676753635585971\n",
      "              precision    recall  f1-score   support\n",
      "\n",
      "           0       0.97      1.00      0.99      1386\n",
      "           1       0.75      0.20      0.31        46\n",
      "\n",
      "    accuracy                           0.97      1432\n",
      "   macro avg       0.86      0.60      0.65      1432\n",
      "weighted avg       0.97      0.97      0.96      1432\n",
      "\n"
     ]
    },
    {
     "data": {
      "image/png": "[encoded data removed]",
      "text/plain": [
       "<Figure size 432x288 with 1 Axes>"
      ]
     },
     "metadata": {
      "needs_background": "light"
     },
     "output_type": "display_data"
    }
   ],
   "source": [
    "modelRF = RandomForestClassifier()\n",
    "\n",
    "trainModel(modelRF, X_train, y_train, X_test, y_test)"
   ]
  },
  {
   "cell_type": "markdown",
   "metadata": {},
   "source": [
    "### 3. SVC (Support Vector Machine)"
   ]
  },
  {
   "cell_type": "code",
   "execution_count": 23,
   "metadata": {},
   "outputs": [
    {
     "name": "stdout",
     "output_type": "stream",
     "text": [
      "accuracy:  0.9678770949720671\n",
      "error rate 0.03212290502793291\n",
      "recall:  0.9678770949720671\n",
      "precision:  0.9678770949720671\n",
      "f1_micro:  0.9678770949720671\n",
      "auc:  0.5\n",
      "cross_validation:  0.9676753635585971\n",
      "              precision    recall  f1-score   support\n",
      "\n",
      "           0       0.97      1.00      0.98      1386\n",
      "           1       0.00      0.00      0.00        46\n",
      "\n",
      "    accuracy                           0.97      1432\n",
      "   macro avg       0.48      0.50      0.49      1432\n",
      "weighted avg       0.94      0.97      0.95      1432\n",
      "\n"
     ]
    },
    {
     "data": {
      "image/png": "[encoded data removed]",
      "text/plain": [
       "<Figure size 432x288 with 1 Axes>"
      ]
     },
     "metadata": {
      "needs_background": "light"
     },
     "output_type": "display_data"
    }
   ],
   "source": [
    "modelSVC = SVC()\n",
    "\n",
    "trainModel(modelSVC, X_train, y_train, X_test, y_test)"
   ]
  },
  {
   "cell_type": "markdown",
   "metadata": {},
   "source": [
    "## Tuning hiperparametrów każdego z modeli:"
   ]
  },
  {
   "cell_type": "code",
   "execution_count": 24,
   "metadata": {},
   "outputs": [],
   "source": [
    "def gridSearch(model,grid, X, y):\n",
    "    cv = RepeatedStratifiedKFold(n_splits=10, n_repeats=3, random_state=1)\n",
    "    grid_search = GridSearchCV(estimator=model, param_grid=grid, n_jobs=-1, cv=cv, scoring='accuracy',error_score=0)\n",
    "    result = grid_search.fit(X, y)\n",
    "    print('Best score (gridSearch): %s' % result.best_score_)\n",
    "    print('Best hyperparameters: %s' % result.best_params_)\n",
    "    return"
   ]
  },
  {
   "cell_type": "code",
   "execution_count": 25,
   "metadata": {},
   "outputs": [],
   "source": [
    "def randomSearch(model,grid, X, y):\n",
    "    cv = RepeatedStratifiedKFold(n_splits=10, n_repeats=3, random_state=1)\n",
    "    random_search = RandomizedSearchCV(estimator=model, param_distributions = grid, n_iter = 70, n_jobs=-1, cv=cv, scoring='accuracy', random_state=123)\n",
    "    result = random_search.fit(X, y)\n",
    "    print('Best score (randomSearch): %s' % result.best_score_)\n",
    "    print('Best hyperparameters: %s' % result.best_params_)\n",
    "    return "
   ]
  },
  {
   "cell_type": "markdown",
   "metadata": {},
   "source": [
    "### 1. Decision Tree"
   ]
  },
  {
   "cell_type": "code",
   "execution_count": 26,
   "metadata": {},
   "outputs": [],
   "source": [
    "max_depth=[3,5,10,20]\n",
    "max_features = ['auto', 'sqrt']\n",
    "min_samples_leaf = [1, 2, 4]\n",
    "grid = {'max_features' : max_features,\n",
    "        'max_depth': max_depth,\n",
    "        'min_samples_leaf': min_samples_leaf,\n",
    "        'splitter': ['best', 'random'],\n",
    "        \"criterion\": [\"gini\", \"entropy\"]}"
   ]
  },
  {
   "cell_type": "code",
   "execution_count": 27,
   "metadata": {},
   "outputs": [
    {
     "name": "stdout",
     "output_type": "stream",
     "text": [
      "Best score (gridSearch): 0.9679739029403877\n",
      "Best hyperparameters: {'criterion': 'entropy', 'max_depth': 5, 'max_features': 'auto', 'min_samples_leaf': 4, 'splitter': 'random'}\n"
     ]
    }
   ],
   "source": [
    "gridSearch(modelDT, grid, X_train, y_train)"
   ]
  },
  {
   "cell_type": "code",
   "execution_count": 28,
   "metadata": {},
   "outputs": [
    {
     "name": "stdout",
     "output_type": "stream",
     "text": [
      "Best score (randomSearch): 0.9678738046295466\n",
      "Best hyperparameters: {'splitter': 'random', 'min_samples_leaf': 2, 'max_features': 'auto', 'max_depth': 3, 'criterion': 'entropy'}\n"
     ]
    }
   ],
   "source": [
    "randomSearch(modelDT, grid, X_train, y_train)"
   ]
  },
  {
   "cell_type": "markdown",
   "metadata": {},
   "source": [
    "### 2. Random Forest"
   ]
  },
  {
   "cell_type": "code",
   "execution_count": 29,
   "metadata": {},
   "outputs": [],
   "source": [
    "n_estimators = [50,100,200]\n",
    "max_features = ['auto', 'sqrt']\n",
    "max_depth = [10,20,40]\n",
    "min_samples_leaf = [1, 2, 4]\n",
    "bootstrap = [True, False]\n",
    "grid = dict(n_estimators=n_estimators,max_features= max_features,max_depth= max_depth,\n",
    "            min_samples_leaf=min_samples_leaf,bootstrap= bootstrap)"
   ]
  },
  {
   "cell_type": "code",
   "execution_count": 30,
   "metadata": {},
   "outputs": [
    {
     "name": "stdout",
     "output_type": "stream",
     "text": [
      "Best score (gridSearch): 0.9688718086215627\n",
      "Best hyperparameters: {'bootstrap': True, 'max_depth': 20, 'max_features': 'sqrt', 'min_samples_leaf': 4, 'n_estimators': 100}\n"
     ]
    }
   ],
   "source": [
    "gridSearch(modelRF, grid, X_train, y_train)"
   ]
  },
  {
   "cell_type": "code",
   "execution_count": null,
   "metadata": {},
   "outputs": [],
   "source": [
    "randomSearch(modelRF, grid, X_train, y_train)"
   ]
  },
  {
   "cell_type": "markdown",
   "metadata": {},
   "source": [
    "### 3. SVC"
   ]
  },
  {
   "cell_type": "code",
   "execution_count": 32,
   "metadata": {},
   "outputs": [],
   "source": [
    "grid = {'C': [0.1, 10, 1000],\n",
    "        'gamma': [1, 0.01, 0.0001],\n",
    "        'kernel': ['rbf','poly', 'sigmoid']}"
   ]
  },
  {
   "cell_type": "code",
   "execution_count": 33,
   "metadata": {},
   "outputs": [
    {
     "name": "stdout",
     "output_type": "stream",
     "text": [
      "Best score (gridSearch): 0.9676745017427828\n",
      "Best hyperparameters: {'C': 0.1, 'gamma': 1, 'kernel': 'rbf'}\n"
     ]
    }
   ],
   "source": [
    "gridSearch(modelSVC, grid, X_train, y_train)"
   ]
  },
  {
   "cell_type": "code",
   "execution_count": 34,
   "metadata": {
    "scrolled": true
   },
   "outputs": [
    {
     "name": "stdout",
     "output_type": "stream",
     "text": [
      "Best score (randomSearch): 0.9676745017427828\n",
      "Best hyperparameters: {'kernel': 'rbf', 'gamma': 1, 'C': 0.1}\n"
     ]
    }
   ],
   "source": [
    "randomSearch(modelSVC, grid, X_train, y_train)"
   ]
  },
  {
   "cell_type": "markdown",
   "metadata": {},
   "source": [
    "## Zobaczmy jak wyglądają wyniki metryk przed i po tuningu:"
   ]
  },
  {
   "cell_type": "code",
   "execution_count": 35,
   "metadata": {},
   "outputs": [],
   "source": [
    "def compareModels(model,model_grid, model_random, X_train,y_train,X_test,y_test):\n",
    "    model.fit(X_train, y_train)    \n",
    "    predictions1=model.predict(X_test)\n",
    "    model_grid.fit(X_train, y_train)    \n",
    "    predictions2=model_grid.predict(X_test)\n",
    "    model_random.fit(X_train, y_train)    \n",
    "    predictions3=model_random.predict(X_test)\n",
    "    \n",
    "    accuracy = [\"Accuracy\", accuracy_score(y_test, predictions1), \n",
    "                accuracy_score(y_test, predictions2), \n",
    "                accuracy_score(y_test, predictions3)]\n",
    "    errorrate = [\"Error rate\", 1-accuracy_score(y_test, predictions1),\n",
    "                 1-accuracy_score(y_test, predictions2),\n",
    "                1-accuracy_score(y_test, predictions3)]\n",
    "    precision = [\"Precision\", precision_score(y_test, predictions1,average='micro'), \n",
    "                 precision_score(y_test, predictions2,average='micro'),\n",
    "                 precision_score(y_test, predictions3,average='micro')]\n",
    "    f1 = [\"f1\", f1_score(y_test, predictions1, average='micro'), \n",
    "          f1_score(y_test, predictions2, average='micro'),\n",
    "          f1_score(y_test, predictions3, average='micro')]\n",
    "    auc = [\"AUC\", roc_auc_score(y_test,predictions1),\n",
    "           roc_auc_score(y_test,predictions2),\n",
    "           roc_auc_score(y_test,predictions3)]\n",
    "    cross_val = [\"Cross Validation\", \n",
    "                np.mean(cross_val_score(model, X_train, y_train, scoring='accuracy', cv=20, n_jobs=-1, error_score='raise')), \n",
    "                np.mean(cross_val_score(model_grid, X_train, y_train, scoring='accuracy', cv=20, n_jobs=-1, error_score='raise')),\n",
    "                np.mean(cross_val_score(model_random, X_train, y_train, scoring='accuracy', cv=20, n_jobs=-1, error_score='raise'))]\n",
    "    \n",
    "    comparison=[accuracy, errorrate, precision, f1, auc, cross_val]\n",
    "    return comparison"
   ]
  },
  {
   "cell_type": "markdown",
   "metadata": {},
   "source": [
    "### 1. Decision Tree"
   ]
  },
  {
   "cell_type": "code",
   "execution_count": 36,
   "metadata": {
    "scrolled": true
   },
   "outputs": [
    {
     "data": {
      "text/html": [
       "<div>\n",
       "<style scoped>\n",
       "    .dataframe tbody tr th:only-of-type {\n",
       "        vertical-align: middle;\n",
       "    }\n",
       "\n",
       "    .dataframe tbody tr th {\n",
       "        vertical-align: top;\n",
       "    }\n",
       "\n",
       "    .dataframe thead th {\n",
       "        text-align: right;\n",
       "    }\n",
       "</style>\n",
       "<table border=\"1\" class=\"dataframe\">\n",
       "  <thead>\n",
       "    <tr style=\"text-align: right;\">\n",
       "      <th></th>\n",
       "      <th>metric</th>\n",
       "      <th>default_params</th>\n",
       "      <th>gridSearch</th>\n",
       "      <th>randomSearch</th>\n",
       "    </tr>\n",
       "  </thead>\n",
       "  <tbody>\n",
       "    <tr>\n",
       "      <th>0</th>\n",
       "      <td>Accuracy</td>\n",
       "      <td>0.952514</td>\n",
       "      <td>0.969274</td>\n",
       "      <td>0.967877</td>\n",
       "    </tr>\n",
       "    <tr>\n",
       "      <th>1</th>\n",
       "      <td>Error rate</td>\n",
       "      <td>0.047486</td>\n",
       "      <td>0.030726</td>\n",
       "      <td>0.032123</td>\n",
       "    </tr>\n",
       "    <tr>\n",
       "      <th>2</th>\n",
       "      <td>Precision</td>\n",
       "      <td>0.952514</td>\n",
       "      <td>0.969274</td>\n",
       "      <td>0.967877</td>\n",
       "    </tr>\n",
       "    <tr>\n",
       "      <th>3</th>\n",
       "      <td>f1</td>\n",
       "      <td>0.952514</td>\n",
       "      <td>0.969274</td>\n",
       "      <td>0.967877</td>\n",
       "    </tr>\n",
       "    <tr>\n",
       "      <th>4</th>\n",
       "      <td>AUC</td>\n",
       "      <td>0.597152</td>\n",
       "      <td>0.521739</td>\n",
       "      <td>0.500000</td>\n",
       "    </tr>\n",
       "    <tr>\n",
       "      <th>5</th>\n",
       "      <td>Cross Validation</td>\n",
       "      <td>0.951513</td>\n",
       "      <td>0.967675</td>\n",
       "      <td>0.967376</td>\n",
       "    </tr>\n",
       "  </tbody>\n",
       "</table>\n",
       "</div>"
      ],
      "text/plain": [
       "             metric  default_params  gridSearch  randomSearch\n",
       "0          Accuracy        0.952514    0.969274      0.967877\n",
       "1        Error rate        0.047486    0.030726      0.032123\n",
       "2         Precision        0.952514    0.969274      0.967877\n",
       "3                f1        0.952514    0.969274      0.967877\n",
       "4               AUC        0.597152    0.521739      0.500000\n",
       "5  Cross Validation        0.951513    0.967675      0.967376"
      ]
     },
     "execution_count": 36,
     "metadata": {},
     "output_type": "execute_result"
    }
   ],
   "source": [
    "modelDTGrid = DecisionTreeClassifier(criterion= 'entropy',\n",
    "                                   max_depth= 3,\n",
    "                                   max_features= 'sqrt',\n",
    "                                   min_samples_leaf= 2,\n",
    "                                   splitter= 'random', random_state=123)\n",
    "modelDTRandom= DecisionTreeClassifier(criterion= 'entropy',\n",
    "                                   max_depth= 3,\n",
    "                                   max_features= 'sqrt',\n",
    "                                   min_samples_leaf= 4,\n",
    "                                   splitter= 'random', random_state=123)\n",
    "comparisonDT = compareModels(modelDT, modelDTGrid, modelDTRandom, X_train,y_train,X_test,y_test)\n",
    "pd.DataFrame(comparisonDT, columns=[\"metric\", \"default_params\", \"gridSearch\", \"randomSearch\"])"
   ]
  },
  {
   "cell_type": "markdown",
   "metadata": {},
   "source": [
    "Widzimy, że accuracy, precision, f1 i cross validation zwiększyły wartości po optymalizacji za pomocą grid i random. AUC w obu przypadkach zmalało"
   ]
  },
  {
   "cell_type": "markdown",
   "metadata": {},
   "source": [
    "### 2. Random Forest"
   ]
  },
  {
   "cell_type": "code",
   "execution_count": 79,
   "metadata": {},
   "outputs": [
    {
     "data": {
      "text/html": [
       "<div>\n",
       "<style scoped>\n",
       "    .dataframe tbody tr th:only-of-type {\n",
       "        vertical-align: middle;\n",
       "    }\n",
       "\n",
       "    .dataframe tbody tr th {\n",
       "        vertical-align: top;\n",
       "    }\n",
       "\n",
       "    .dataframe thead th {\n",
       "        text-align: right;\n",
       "    }\n",
       "</style>\n",
       "<table border=\"1\" class=\"dataframe\">\n",
       "  <thead>\n",
       "    <tr style=\"text-align: right;\">\n",
       "      <th></th>\n",
       "      <th>metric</th>\n",
       "      <th>default_params</th>\n",
       "      <th>gridSearch</th>\n",
       "      <th>randomSearch</th>\n",
       "    </tr>\n",
       "  </thead>\n",
       "  <tbody>\n",
       "    <tr>\n",
       "      <th>0</th>\n",
       "      <td>Accuracy</td>\n",
       "      <td>0.971369</td>\n",
       "      <td>0.972765</td>\n",
       "      <td>0.970670</td>\n",
       "    </tr>\n",
       "    <tr>\n",
       "      <th>1</th>\n",
       "      <td>Error rate</td>\n",
       "      <td>0.028631</td>\n",
       "      <td>0.027235</td>\n",
       "      <td>0.029330</td>\n",
       "    </tr>\n",
       "    <tr>\n",
       "      <th>2</th>\n",
       "      <td>Precision</td>\n",
       "      <td>0.971369</td>\n",
       "      <td>0.972765</td>\n",
       "      <td>0.970670</td>\n",
       "    </tr>\n",
       "    <tr>\n",
       "      <th>3</th>\n",
       "      <td>f1</td>\n",
       "      <td>0.971369</td>\n",
       "      <td>0.972765</td>\n",
       "      <td>0.970670</td>\n",
       "    </tr>\n",
       "    <tr>\n",
       "      <th>4</th>\n",
       "      <td>AUC</td>\n",
       "      <td>0.575365</td>\n",
       "      <td>0.597105</td>\n",
       "      <td>0.564496</td>\n",
       "    </tr>\n",
       "    <tr>\n",
       "      <th>5</th>\n",
       "      <td>Cross Validation</td>\n",
       "      <td>0.968871</td>\n",
       "      <td>0.968572</td>\n",
       "      <td>0.968572</td>\n",
       "    </tr>\n",
       "  </tbody>\n",
       "</table>\n",
       "</div>"
      ],
      "text/plain": [
       "             metric  default_params  gridSearch  randomSearch\n",
       "0          Accuracy        0.971369    0.972765      0.970670\n",
       "1        Error rate        0.028631    0.027235      0.029330\n",
       "2         Precision        0.971369    0.972765      0.970670\n",
       "3                f1        0.971369    0.972765      0.970670\n",
       "4               AUC        0.575365    0.597105      0.564496\n",
       "5  Cross Validation        0.968871    0.968572      0.968572"
      ]
     },
     "execution_count": 79,
     "metadata": {},
     "output_type": "execute_result"
    }
   ],
   "source": [
    "modelRFgrid = RandomForestClassifier(bootstrap= True,\n",
    "                                     max_depth= 10,\n",
    "                                     max_features= 'auto',\n",
    "                                     min_samples_leaf= 2,\n",
    "                                     n_estimators= 50)\n",
    "modelRFrandom= RandomForestClassifier(bootstrap= True,\n",
    "                                     max_depth= 10,\n",
    "                                     max_features= 'auto',\n",
    "                                     min_samples_leaf= 4,\n",
    "                                     n_estimators= 200)\n",
    "comparisonRF = compareModels(modelRF, modelRFgrid, modelRFrandom, X_train,y_train,X_test,y_test)\n",
    "pd.DataFrame(comparisonRF, columns=[\"metric\", \"default_params\", \"gridSearch\", \"randomSearch\"])"
   ]
  },
  {
   "cell_type": "markdown",
   "metadata": {},
   "source": [
    "Zauważamy, że w przypadku RandomForest wartości metryk są najwyższe przy użyciu modelu z domyślnymi wartościami hiperparametrów "
   ]
  },
  {
   "cell_type": "markdown",
   "metadata": {},
   "source": [
    "### 3. SVC"
   ]
  },
  {
   "cell_type": "code",
   "execution_count": 80,
   "metadata": {
    "scrolled": true
   },
   "outputs": [
    {
     "data": {
      "text/html": [
       "<div>\n",
       "<style scoped>\n",
       "    .dataframe tbody tr th:only-of-type {\n",
       "        vertical-align: middle;\n",
       "    }\n",
       "\n",
       "    .dataframe tbody tr th {\n",
       "        vertical-align: top;\n",
       "    }\n",
       "\n",
       "    .dataframe thead th {\n",
       "        text-align: right;\n",
       "    }\n",
       "</style>\n",
       "<table border=\"1\" class=\"dataframe\">\n",
       "  <thead>\n",
       "    <tr style=\"text-align: right;\">\n",
       "      <th></th>\n",
       "      <th>metric</th>\n",
       "      <th>default_params</th>\n",
       "      <th>gridSearch</th>\n",
       "      <th>randomSearch</th>\n",
       "    </tr>\n",
       "  </thead>\n",
       "  <tbody>\n",
       "    <tr>\n",
       "      <th>0</th>\n",
       "      <td>Accuracy</td>\n",
       "      <td>0.967877</td>\n",
       "      <td>0.967877</td>\n",
       "      <td>0.967877</td>\n",
       "    </tr>\n",
       "    <tr>\n",
       "      <th>1</th>\n",
       "      <td>Error rate</td>\n",
       "      <td>0.032123</td>\n",
       "      <td>0.032123</td>\n",
       "      <td>0.032123</td>\n",
       "    </tr>\n",
       "    <tr>\n",
       "      <th>2</th>\n",
       "      <td>Precision</td>\n",
       "      <td>0.967877</td>\n",
       "      <td>0.967877</td>\n",
       "      <td>0.967877</td>\n",
       "    </tr>\n",
       "    <tr>\n",
       "      <th>3</th>\n",
       "      <td>f1</td>\n",
       "      <td>0.967877</td>\n",
       "      <td>0.967877</td>\n",
       "      <td>0.967877</td>\n",
       "    </tr>\n",
       "    <tr>\n",
       "      <th>4</th>\n",
       "      <td>AUC</td>\n",
       "      <td>0.500000</td>\n",
       "      <td>0.500000</td>\n",
       "      <td>0.500000</td>\n",
       "    </tr>\n",
       "    <tr>\n",
       "      <th>5</th>\n",
       "      <td>Cross Validation</td>\n",
       "      <td>0.967675</td>\n",
       "      <td>0.967675</td>\n",
       "      <td>0.967675</td>\n",
       "    </tr>\n",
       "  </tbody>\n",
       "</table>\n",
       "</div>"
      ],
      "text/plain": [
       "             metric  default_params  gridSearch  randomSearch\n",
       "0          Accuracy        0.967877    0.967877      0.967877\n",
       "1        Error rate        0.032123    0.032123      0.032123\n",
       "2         Precision        0.967877    0.967877      0.967877\n",
       "3                f1        0.967877    0.967877      0.967877\n",
       "4               AUC        0.500000    0.500000      0.500000\n",
       "5  Cross Validation        0.967675    0.967675      0.967675"
      ]
     },
     "execution_count": 80,
     "metadata": {},
     "output_type": "execute_result"
    }
   ],
   "source": [
    "modelSVCgrid = SVC(C= 0.1,\n",
    "                   gamma= 1,\n",
    "                   kernel= 'rbf')\n",
    "modelSVCrandom= SVC(C= 0.1,\n",
    "                   gamma= 1,\n",
    "                   kernel= 'rbf')\n",
    "comparisonSVC = compareModels(modelSVC, modelSVCgrid, modelSVCrandom, X_train,y_train,X_test,y_test)\n",
    "pd.DataFrame(comparisonSVC, columns=[\"metric\", \"default_params\", \"gridSearch\", \"randomSearch\"])"
   ]
  },
  {
   "cell_type": "markdown",
   "metadata": {},
   "source": [
    "W svc nie zmieniły się wartości naszych metryk, co oznacza ze hiperparametry domyślne są najlepsze."
   ]
  },
  {
   "cell_type": "markdown",
   "metadata": {},
   "source": [
    "### Podsumowanie\n",
    "- Początkowo: sprawdziliśmy braki danych, typy zmiennych i ich unikalne wartości, zmieniłyśmy wartości odstające na wartości w odpowiednich kwantylach oraz kierunek korelacji na dodatni, znormalizowałyśmy zmienne ciągłe przy użyciu MinMaxScaler().\n",
    "- Ograniczyłyśmy ilość zmiennych przez zostawienie najważniejszych kolumn według feature_importance modelu Random Forest.\n",
    "- Jedynie w przypadku modelu DecisionTree optymalizacja z pomocą grid i random zwiększyła wartości naszych metryk.\n",
    "- Najbardziej prosperującym modelem jest Random Forest z hiperparamtertami domyślnymi."
   ]
  },
  {
   "cell_type": "markdown",
   "metadata": {},
   "source": [
    "# Walidacja\n",
    "**Autorzy:** Szymon Gut, Jan Krężel\n",
    "\n",
    "**Wnioski Wstępne**\n",
    "\n",
    "Wstępna faza preprocessingu na plus. Zespół budujący pamietał o zajęciu się outlierami, zadbał o poprawienie wartości wchodzących z ujemną korelacją oraz, co najważniejsze, zadbał o normalizację MinMax. Jest to przydatne gdyż algorytm SVM dobrze radzi sobie ze znormalizowanymi zmiennymi (z przedziału [-1,1])\n",
    "\n",
    "Niestety zespół budujący nie zaadresował problemu niezbalansowanego zestawu danych. Tylko mała część firm w zestawie danych zbankrutowała co utrudnia budowę modelu. Jest to szczególnie ważne, ponieważ bardziej nas interesuje poprawne przewidywanie firm na skraju upadku. Ten problem jest szczególnie widoczny przy zastosowaniu SVM, który w implemntacji zespołu budującego nigdy nie przewiduje, że dana firma zbankrutuje (AUC==0.5)."
   ]
  },
  {
   "cell_type": "markdown",
   "metadata": {},
   "source": [
    "Wpierw wykorzystamy przygotowane przez zespół budujący funkcję do obróki zestawu danych.\n",
    "\n",
    "Skorzystamy także z już wybranych atrybutów uzyskanych metodą selectFromModel, której użył zespół budujący.\n",
    "\n",
    "*UWAGA* Obróbka danych powinna być przygotowana za pomocą Pipeline. W szczególności atrybuty są wybierane na podstawie losowo utworzonego lasu klasyfikacyjnego, który za każdym razem daje nieco inne wyniki co sprawia, że dokładna analiza pracy zespołu budującego jest utrudniona.\n",
    "\n",
    "*UWAGA* Zespół budujący przygotował funkcję ```normalize_and_split```, która jednocześnie normalizuje dane i dzieli ja na dwa zestawy. Nam nie potrzebne jest ponowne dzielenie dlatego musimy wykorzystać tylko część tej funkcji bezpośrednio na stworzonej ramce ```X_val```."
   ]
  },
  {
   "cell_type": "code",
   "execution_count": 70,
   "metadata": {},
   "outputs": [],
   "source": [
    "df_val = outliers_to_quantiles(df_val)\n",
    "df_val = make_corr_positive(df_val)\n",
    "df_val = df[selected_feat]"
   ]
  },
  {
   "cell_type": "code",
   "execution_count": 71,
   "metadata": {},
   "outputs": [],
   "source": [
    "X_val = df_val.drop('Bankrupt?', axis=1)\n",
    "X_val = MinMaxScaler().fit_transform(X_val)\n",
    "\n",
    "y_val = df_val['Bankrupt?']"
   ]
  },
  {
   "cell_type": "markdown",
   "metadata": {},
   "source": [
    "### Walidacja wyników\n",
    "\n",
    "Wpierw sprawdźmy jak modele zespołu budującego sprawdzają się na próbce walidacyjnej"
   ]
  },
  {
   "cell_type": "code",
   "execution_count": 73,
   "metadata": {},
   "outputs": [],
   "source": [
    "def evaluate_model(model, X_test, y_test, X_val, y_val):\n",
    "    y_test_pred = model.predict(X_test)\n",
    "    y_val_pred = model.predict(X_val)\n",
    "\n",
    "    accuracy_test = accuracy_score(y_test, y_test_pred)\n",
    "    accuracy_val = accuracy_score(y_val, y_val_pred)\n",
    "    f1_test = f1_score(y_test, y_test_pred)\n",
    "    f1_val = f1_score(y_val, y_val_pred)\n",
    "    auc_test = roc_auc_score(y_test, y_test_pred)\n",
    "    auc_val = roc_auc_score(y_val, y_val_pred)\n",
    "\n",
    "    eval_df = pd.DataFrame(data={\n",
    "        'metric': ['accuracy', 'f1 score', 'auc'],\n",
    "        'test set': [accuracy_test, f1_test, auc_test],\n",
    "        'validation set': [accuracy_val, f1_val, auc_val]\n",
    "    })\n",
    "    return eval_df"
   ]
  },
  {
   "cell_type": "markdown",
   "metadata": {},
   "source": [
    "**DecisionTree**"
   ]
  },
  {
   "cell_type": "markdown",
   "metadata": {},
   "source": [
    "DecisionTree Grid Search"
   ]
  },
  {
   "cell_type": "code",
   "execution_count": 74,
   "metadata": {},
   "outputs": [
    {
     "data": {
      "text/html": [
       "<div>\n",
       "<style scoped>\n",
       "    .dataframe tbody tr th:only-of-type {\n",
       "        vertical-align: middle;\n",
       "    }\n",
       "\n",
       "    .dataframe tbody tr th {\n",
       "        vertical-align: top;\n",
       "    }\n",
       "\n",
       "    .dataframe thead th {\n",
       "        text-align: right;\n",
       "    }\n",
       "</style>\n",
       "<table border=\"1\" class=\"dataframe\">\n",
       "  <thead>\n",
       "    <tr style=\"text-align: right;\">\n",
       "      <th></th>\n",
       "      <th>metric</th>\n",
       "      <th>test set</th>\n",
       "      <th>validation set</th>\n",
       "    </tr>\n",
       "  </thead>\n",
       "  <tbody>\n",
       "    <tr>\n",
       "      <th>0</th>\n",
       "      <td>accuracy</td>\n",
       "      <td>0.969274</td>\n",
       "      <td>0.968177</td>\n",
       "    </tr>\n",
       "    <tr>\n",
       "      <th>1</th>\n",
       "      <td>f1 score</td>\n",
       "      <td>0.083333</td>\n",
       "      <td>0.035556</td>\n",
       "    </tr>\n",
       "    <tr>\n",
       "      <th>2</th>\n",
       "      <td>auc</td>\n",
       "      <td>0.521739</td>\n",
       "      <td>0.509015</td>\n",
       "    </tr>\n",
       "  </tbody>\n",
       "</table>\n",
       "</div>"
      ],
      "text/plain": [
       "     metric  test set  validation set\n",
       "0  accuracy  0.969274        0.968177\n",
       "1  f1 score  0.083333        0.035556\n",
       "2       auc  0.521739        0.509015"
      ]
     },
     "execution_count": 74,
     "metadata": {},
     "output_type": "execute_result"
    }
   ],
   "source": [
    "evaluate_model(modelDTGrid, X_test, y_test, X_val, y_val)"
   ]
  },
  {
   "cell_type": "markdown",
   "metadata": {},
   "source": [
    "DecisionTree RandomSearch"
   ]
  },
  {
   "cell_type": "code",
   "execution_count": 75,
   "metadata": {},
   "outputs": [
    {
     "data": {
      "text/html": [
       "<div>\n",
       "<style scoped>\n",
       "    .dataframe tbody tr th:only-of-type {\n",
       "        vertical-align: middle;\n",
       "    }\n",
       "\n",
       "    .dataframe tbody tr th {\n",
       "        vertical-align: top;\n",
       "    }\n",
       "\n",
       "    .dataframe thead th {\n",
       "        text-align: right;\n",
       "    }\n",
       "</style>\n",
       "<table border=\"1\" class=\"dataframe\">\n",
       "  <thead>\n",
       "    <tr style=\"text-align: right;\">\n",
       "      <th></th>\n",
       "      <th>metric</th>\n",
       "      <th>test set</th>\n",
       "      <th>validation set</th>\n",
       "    </tr>\n",
       "  </thead>\n",
       "  <tbody>\n",
       "    <tr>\n",
       "      <th>0</th>\n",
       "      <td>accuracy</td>\n",
       "      <td>0.967877</td>\n",
       "      <td>0.967737</td>\n",
       "    </tr>\n",
       "    <tr>\n",
       "      <th>1</th>\n",
       "      <td>f1 score</td>\n",
       "      <td>0.000000</td>\n",
       "      <td>0.000000</td>\n",
       "    </tr>\n",
       "    <tr>\n",
       "      <th>2</th>\n",
       "      <td>auc</td>\n",
       "      <td>0.500000</td>\n",
       "      <td>0.500000</td>\n",
       "    </tr>\n",
       "  </tbody>\n",
       "</table>\n",
       "</div>"
      ],
      "text/plain": [
       "     metric  test set  validation set\n",
       "0  accuracy  0.967877        0.967737\n",
       "1  f1 score  0.000000        0.000000\n",
       "2       auc  0.500000        0.500000"
      ]
     },
     "execution_count": 75,
     "metadata": {},
     "output_type": "execute_result"
    }
   ],
   "source": [
    "evaluate_model(modelDTRandom, X_test, y_test, X_val, y_val)"
   ]
  },
  {
   "cell_type": "markdown",
   "metadata": {},
   "source": [
    "Na zbiorze testowym mamy minimalnie gorsze wyniki. Największa zmiana widoczna jest dla ```f1 score```, który będąc już i tak niski zmalał ponad dwukrotnie."
   ]
  },
  {
   "cell_type": "markdown",
   "metadata": {},
   "source": [
    "**Random Forrest**"
   ]
  },
  {
   "cell_type": "code",
   "execution_count": 82,
   "metadata": {},
   "outputs": [
    {
     "data": {
      "text/html": [
       "<div>\n",
       "<style scoped>\n",
       "    .dataframe tbody tr th:only-of-type {\n",
       "        vertical-align: middle;\n",
       "    }\n",
       "\n",
       "    .dataframe tbody tr th {\n",
       "        vertical-align: top;\n",
       "    }\n",
       "\n",
       "    .dataframe thead th {\n",
       "        text-align: right;\n",
       "    }\n",
       "</style>\n",
       "<table border=\"1\" class=\"dataframe\">\n",
       "  <thead>\n",
       "    <tr style=\"text-align: right;\">\n",
       "      <th></th>\n",
       "      <th>metric</th>\n",
       "      <th>test set</th>\n",
       "      <th>validation set</th>\n",
       "    </tr>\n",
       "  </thead>\n",
       "  <tbody>\n",
       "    <tr>\n",
       "      <th>0</th>\n",
       "      <td>accuracy</td>\n",
       "      <td>0.972765</td>\n",
       "      <td>0.967591</td>\n",
       "    </tr>\n",
       "    <tr>\n",
       "      <th>1</th>\n",
       "      <td>f1 score</td>\n",
       "      <td>0.315789</td>\n",
       "      <td>0.000000</td>\n",
       "    </tr>\n",
       "    <tr>\n",
       "      <th>2</th>\n",
       "      <td>auc</td>\n",
       "      <td>0.597105</td>\n",
       "      <td>0.499924</td>\n",
       "    </tr>\n",
       "  </tbody>\n",
       "</table>\n",
       "</div>"
      ],
      "text/plain": [
       "     metric  test set  validation set\n",
       "0  accuracy  0.972765        0.967591\n",
       "1  f1 score  0.315789        0.000000\n",
       "2       auc  0.597105        0.499924"
      ]
     },
     "execution_count": 82,
     "metadata": {},
     "output_type": "execute_result"
    }
   ],
   "source": [
    "evaluate_model(modelRFgrid, X_test, y_test, X_val, y_val)"
   ]
  },
  {
   "cell_type": "code",
   "execution_count": 110,
   "metadata": {},
   "outputs": [
    {
     "data": {
      "text/html": [
       "<div>\n",
       "<style scoped>\n",
       "    .dataframe tbody tr th:only-of-type {\n",
       "        vertical-align: middle;\n",
       "    }\n",
       "\n",
       "    .dataframe tbody tr th {\n",
       "        vertical-align: top;\n",
       "    }\n",
       "\n",
       "    .dataframe thead th {\n",
       "        text-align: right;\n",
       "    }\n",
       "</style>\n",
       "<table border=\"1\" class=\"dataframe\">\n",
       "  <thead>\n",
       "    <tr style=\"text-align: right;\">\n",
       "      <th></th>\n",
       "      <th>metric</th>\n",
       "      <th>test set</th>\n",
       "      <th>validation set</th>\n",
       "    </tr>\n",
       "  </thead>\n",
       "  <tbody>\n",
       "    <tr>\n",
       "      <th>0</th>\n",
       "      <td>accuracy</td>\n",
       "      <td>0.970670</td>\n",
       "      <td>0.967737</td>\n",
       "    </tr>\n",
       "    <tr>\n",
       "      <th>1</th>\n",
       "      <td>f1 score</td>\n",
       "      <td>0.222222</td>\n",
       "      <td>0.000000</td>\n",
       "    </tr>\n",
       "    <tr>\n",
       "      <th>2</th>\n",
       "      <td>auc</td>\n",
       "      <td>0.564496</td>\n",
       "      <td>0.500000</td>\n",
       "    </tr>\n",
       "  </tbody>\n",
       "</table>\n",
       "</div>"
      ],
      "text/plain": [
       "     metric  test set  validation set\n",
       "0  accuracy  0.970670        0.967737\n",
       "1  f1 score  0.222222        0.000000\n",
       "2       auc  0.564496        0.500000"
      ]
     },
     "execution_count": 110,
     "metadata": {},
     "output_type": "execute_result"
    }
   ],
   "source": [
    "evaluate_model(modelRFrandom, X_test, y_test, X_val, y_val)"
   ]
  },
  {
   "cell_type": "markdown",
   "metadata": {},
   "source": [
    "Dla Random Forrest ```f1 score``` spadł do 0. To może oznaczać, że model był przeuczony na zestawie traningiowym i testowym"
   ]
  },
  {
   "cell_type": "code",
   "execution_count": 111,
   "metadata": {},
   "outputs": [
    {
     "data": {
      "text/html": [
       "<div>\n",
       "<style scoped>\n",
       "    .dataframe tbody tr th:only-of-type {\n",
       "        vertical-align: middle;\n",
       "    }\n",
       "\n",
       "    .dataframe tbody tr th {\n",
       "        vertical-align: top;\n",
       "    }\n",
       "\n",
       "    .dataframe thead th {\n",
       "        text-align: right;\n",
       "    }\n",
       "</style>\n",
       "<table border=\"1\" class=\"dataframe\">\n",
       "  <thead>\n",
       "    <tr style=\"text-align: right;\">\n",
       "      <th></th>\n",
       "      <th>metric</th>\n",
       "      <th>test set</th>\n",
       "      <th>validation set</th>\n",
       "    </tr>\n",
       "  </thead>\n",
       "  <tbody>\n",
       "    <tr>\n",
       "      <th>0</th>\n",
       "      <td>accuracy</td>\n",
       "      <td>0.967877</td>\n",
       "      <td>0.967737</td>\n",
       "    </tr>\n",
       "    <tr>\n",
       "      <th>1</th>\n",
       "      <td>f1 score</td>\n",
       "      <td>0.000000</td>\n",
       "      <td>0.000000</td>\n",
       "    </tr>\n",
       "    <tr>\n",
       "      <th>2</th>\n",
       "      <td>auc</td>\n",
       "      <td>0.500000</td>\n",
       "      <td>0.500000</td>\n",
       "    </tr>\n",
       "  </tbody>\n",
       "</table>\n",
       "</div>"
      ],
      "text/plain": [
       "     metric  test set  validation set\n",
       "0  accuracy  0.967877        0.967737\n",
       "1  f1 score  0.000000        0.000000\n",
       "2       auc  0.500000        0.500000"
      ]
     },
     "execution_count": 111,
     "metadata": {},
     "output_type": "execute_result"
    }
   ],
   "source": [
    "evaluate_model(modelSVCgrid, X_test, y_test, X_val, y_val)"
   ]
  },
  {
   "cell_type": "code",
   "execution_count": 112,
   "metadata": {},
   "outputs": [
    {
     "data": {
      "text/html": [
       "<div>\n",
       "<style scoped>\n",
       "    .dataframe tbody tr th:only-of-type {\n",
       "        vertical-align: middle;\n",
       "    }\n",
       "\n",
       "    .dataframe tbody tr th {\n",
       "        vertical-align: top;\n",
       "    }\n",
       "\n",
       "    .dataframe thead th {\n",
       "        text-align: right;\n",
       "    }\n",
       "</style>\n",
       "<table border=\"1\" class=\"dataframe\">\n",
       "  <thead>\n",
       "    <tr style=\"text-align: right;\">\n",
       "      <th></th>\n",
       "      <th>metric</th>\n",
       "      <th>test set</th>\n",
       "      <th>validation set</th>\n",
       "    </tr>\n",
       "  </thead>\n",
       "  <tbody>\n",
       "    <tr>\n",
       "      <th>0</th>\n",
       "      <td>accuracy</td>\n",
       "      <td>0.967877</td>\n",
       "      <td>0.967737</td>\n",
       "    </tr>\n",
       "    <tr>\n",
       "      <th>1</th>\n",
       "      <td>f1 score</td>\n",
       "      <td>0.000000</td>\n",
       "      <td>0.000000</td>\n",
       "    </tr>\n",
       "    <tr>\n",
       "      <th>2</th>\n",
       "      <td>auc</td>\n",
       "      <td>0.500000</td>\n",
       "      <td>0.500000</td>\n",
       "    </tr>\n",
       "  </tbody>\n",
       "</table>\n",
       "</div>"
      ],
      "text/plain": [
       "     metric  test set  validation set\n",
       "0  accuracy  0.967877        0.967737\n",
       "1  f1 score  0.000000        0.000000\n",
       "2       auc  0.500000        0.500000"
      ]
     },
     "execution_count": 112,
     "metadata": {},
     "output_type": "execute_result"
    }
   ],
   "source": [
    "evaluate_model(modelSVCrandom, X_test, y_test, X_val, y_val)"
   ]
  },
  {
   "cell_type": "markdown",
   "metadata": {},
   "source": [
    "Dla SVC nie widzimy żadnej wyraźniej zmiany między zestawami. Wynika to głównie z tego, że model nigdy nie przewiduje bankructwa w poprawny sposób."
   ]
  },
  {
   "cell_type": "markdown",
   "metadata": {},
   "source": [
    "### Modyfikacje\n",
    "\n",
    "Zmodyfikujemy lekko funkcje zespołu budującego dodając do niej accuracy balanced, gdyż jak pamiętamy z hw3 nasz zbiór danych jest bardzo mocno nie \n",
    "zbalansowany jeśli chodzi o zmienna `bankruptcy`."
   ]
  },
  {
   "cell_type": "code",
   "execution_count": 113,
   "metadata": {},
   "outputs": [],
   "source": [
    "from sklearn.metrics import balanced_accuracy_score"
   ]
  },
  {
   "cell_type": "code",
   "execution_count": 114,
   "metadata": {},
   "outputs": [],
   "source": [
    "def compareModels_val(model,model_grid, model_random, X_train,y_train,X_test,y_test):\n",
    "    model.fit(X_train, y_train)    \n",
    "    predictions1=model.predict(X_test)\n",
    "    model_grid.fit(X_train, y_train)    \n",
    "    predictions2=model_grid.predict(X_test)\n",
    "    model_random.fit(X_train, y_train)    \n",
    "    predictions3=model_random.predict(X_test)\n",
    "    \n",
    "    accuracy = [\"Accuracy\", accuracy_score(y_test, predictions1), \n",
    "                accuracy_score(y_test, predictions2), \n",
    "                accuracy_score(y_test, predictions3)]\n",
    "    errorrate = [\"Error rate\", 1-accuracy_score(y_test, predictions1),\n",
    "                 1-accuracy_score(y_test, predictions2),\n",
    "                1-accuracy_score(y_test, predictions3)]\n",
    "    precision = [\"Precision\", precision_score(y_test, predictions1,average='micro'), \n",
    "                 precision_score(y_test, predictions2,average='micro'),\n",
    "                 precision_score(y_test, predictions3,average='micro')]\n",
    "    f1 = [\"f1\", f1_score(y_test, predictions1, average='micro'), \n",
    "          f1_score(y_test, predictions2, average='micro'),\n",
    "          f1_score(y_test, predictions3, average='micro')]\n",
    "    auc = [\"AUC\", roc_auc_score(y_test,predictions1),\n",
    "           roc_auc_score(y_test,predictions2),\n",
    "           roc_auc_score(y_test,predictions3)]\n",
    "    balanced_accuracy = [\"accuracy_balanced\", balanced_accuracy_score(y_test, predictions1), \n",
    "          balanced_accuracy_score(y_test, predictions2),\n",
    "          balanced_accuracy_score(y_test, predictions3)]\n",
    "    cross_val = [\"Cross Validation\", \n",
    "                np.mean(cross_val_score(model, X_train, y_train, scoring='accuracy', cv=20, n_jobs=-1, error_score='raise')), \n",
    "                np.mean(cross_val_score(model_grid, X_train, y_train, scoring='accuracy', cv=20, n_jobs=-1, error_score='raise')),\n",
    "                np.mean(cross_val_score(model_random, X_train, y_train, scoring='accuracy', cv=20, n_jobs=-1, error_score='raise'))]\n",
    "    \n",
    "    comparison=[accuracy, errorrate, precision, f1, auc, balanced_accuracy, cross_val]\n",
    "    return comparison"
   ]
  },
  {
   "cell_type": "markdown",
   "metadata": {},
   "source": [
    "Wykorzystamy funkcje zespołu budującego jednak lekko zmienimy parametry zawarte w slowniku `grid`"
   ]
  },
  {
   "cell_type": "markdown",
   "metadata": {},
   "source": [
    "**Decision tree**\n",
    "Tutaj zwiększymy liczbę paramatrów dla ```max_depth``` i ```min_samples_leaf```"
   ]
  },
  {
   "cell_type": "code",
   "execution_count": 131,
   "metadata": {},
   "outputs": [],
   "source": [
    "max_depth=np.arange(3,8)\n",
    "max_features = ['auto', 'sqrt']\n",
    "min_samples_leaf = np.logspace(-5, -1, 10)\n",
    "grid = {'max_features' : max_features,\n",
    "        'max_depth': max_depth,\n",
    "        'min_samples_leaf': min_samples_leaf,\n",
    "        'splitter': ['best', 'random'],\n",
    "        \"criterion\": [\"gini\", \"entropy\"]\n",
    "}"
   ]
  },
  {
   "cell_type": "code",
   "execution_count": 126,
   "metadata": {},
   "outputs": [
    {
     "name": "stdout",
     "output_type": "stream",
     "text": [
      "Best score (gridSearch): 0.9679742008520269\n",
      "Best hyperparameters: {'criterion': 'gini', 'max_depth': 3, 'max_features': 'auto', 'min_samples_leaf': 2.782559402207126e-05, 'splitter': 'random'}\n"
     ]
    }
   ],
   "source": [
    "gridSearch(modelDT, grid, X_train, y_train)"
   ]
  },
  {
   "cell_type": "markdown",
   "metadata": {},
   "source": [
    "Score praktycznie taki sam. Na 6 miejscu po przecinku dopiero zauważamy minimalny wzrost wydajności. Parametry wybrane wcześniej możemy zatem uznać za dobre."
   ]
  },
  {
   "cell_type": "code",
   "execution_count": 132,
   "metadata": {},
   "outputs": [
    {
     "name": "stdout",
     "output_type": "stream",
     "text": [
      "Best score (randomSearch): 0.9676747996544222\n",
      "Best hyperparameters: {'splitter': 'random', 'min_samples_leaf': 0.0016681005372000592, 'max_features': 'sqrt', 'max_depth': 3, 'criterion': 'gini'}\n"
     ]
    }
   ],
   "source": [
    "randomSearch(modelDT, grid, X_train, y_train)"
   ]
  },
  {
   "cell_type": "markdown",
   "metadata": {},
   "source": [
    "Podobnie jak wyżej"
   ]
  },
  {
   "cell_type": "markdown",
   "metadata": {},
   "source": [
    "**Random Forest**"
   ]
  },
  {
   "cell_type": "code",
   "execution_count": 133,
   "metadata": {},
   "outputs": [],
   "source": [
    "n_estimators = np.arange(10, 100, 30)\n",
    "max_features = ['auto', 'sqrt']\n",
    "max_depth = [5,15,25]\n",
    "min_samples_leaf = np.logspace(-4,-1, 4)\n",
    "grid = dict(n_estimators=n_estimators,max_features= max_features,max_depth= max_depth,\n",
    "            min_samples_leaf=min_samples_leaf)"
   ]
  },
  {
   "cell_type": "code",
   "execution_count": 134,
   "metadata": {
    "scrolled": true
   },
   "outputs": [
    {
     "name": "stdout",
     "output_type": "stream",
     "text": [
      "Best score (gridSearch): 0.9687720082223611\n",
      "Best hyperparameters: {'max_depth': 5, 'max_features': 'sqrt', 'min_samples_leaf': 0.0001, 'n_estimators': 40}\n"
     ]
    }
   ],
   "source": [
    "gridSearch(modelRF, grid, X_train, y_train)"
   ]
  },
  {
   "cell_type": "markdown",
   "metadata": {},
   "source": [
    "Uzyskany wynik znów jest porównywalny"
   ]
  },
  {
   "cell_type": "code",
   "execution_count": 79,
   "metadata": {},
   "outputs": [],
   "source": [
    "n_estimators = np.random.randint(50,200,20)\n",
    "max_features = ['auto', 'sqrt']\n",
    "max_depth = np.random.randint(30,50,5)\n",
    "min_samples_leaf = np.random.randint(1,4,3)\n",
    "bootstrap = [True, False]\n",
    "grid = dict(n_estimators=n_estimators,max_features= max_features,max_depth= max_depth,\n",
    "            min_samples_leaf=min_samples_leaf,bootstrap= bootstrap)"
   ]
  },
  {
   "cell_type": "code",
   "execution_count": 80,
   "metadata": {},
   "outputs": [
    {
     "name": "stdout",
     "output_type": "stream",
     "text": [
      "Best score (randomSearch): 0.9688712127982839\n",
      "Best hyperparameters: {'n_estimators': 138, 'min_samples_leaf': 3, 'max_features': 'auto', 'max_depth': 38, 'bootstrap': True}\n"
     ]
    }
   ],
   "source": [
    "randomSearch(modelRF, grid, X_train, y_train)"
   ]
  },
  {
   "cell_type": "markdown",
   "metadata": {},
   "source": [
    "**SVC**\n",
    "\n",
    "Tutaj przede wszystkim zajmiemy się wagami klas."
   ]
  },
  {
   "cell_type": "code",
   "execution_count": null,
   "metadata": {},
   "outputs": [],
   "source": [
    "from scipy.stats import uniform"
   ]
  },
  {
   "cell_type": "code",
   "execution_count": 141,
   "metadata": {},
   "outputs": [],
   "source": [
    "grid = {'C': [0.1,0.5,1],\n",
    "        'gamma': np.random.uniform(0.1,1,3),\n",
    "        'class_weight': [None, 'Balanced']}"
   ]
  },
  {
   "cell_type": "code",
   "execution_count": 142,
   "metadata": {},
   "outputs": [
    {
     "name": "stdout",
     "output_type": "stream",
     "text": [
      "Best score (gridSearch): 0.9676745017427828\n",
      "Best hyperparameters: {'C': 0.1, 'class_weight': None, 'gamma': 0.7847284977294021}\n"
     ]
    }
   ],
   "source": [
    "gridSearch(modelSVC, grid, X_train, y_train)"
   ]
  },
  {
   "cell_type": "code",
   "execution_count": 137,
   "metadata": {},
   "outputs": [],
   "source": [
    "grid = {'C': np.random.uniform(0.01,1,15),\n",
    "        'gamma': np.random.uniform(0.001,1,20),\n",
    "        'class_weight': [None, 'Balanced']}"
   ]
  },
  {
   "cell_type": "code",
   "execution_count": 138,
   "metadata": {},
   "outputs": [
    {
     "name": "stdout",
     "output_type": "stream",
     "text": [
      "Best score (randomSearch): 0.9676745017427828\n",
      "Best hyperparameters: {'gamma': 0.6047561366591592, 'class_weight': None, 'C': 0.1294821318036346}\n"
     ]
    }
   ],
   "source": [
    "randomSearch(modelSVC, grid, X_train, y_train)"
   ]
  },
  {
   "cell_type": "code",
   "execution_count": 159,
   "metadata": {},
   "outputs": [
    {
     "data": {
      "text/plain": [
       "0.4038461538461538"
      ]
     },
     "execution_count": 159,
     "metadata": {},
     "output_type": "execute_result"
    }
   ],
   "source": [
    "weights = [{0:1, 1:i/4} for i in range(100)]\n",
    "f1_scores = np.empty(100)\n",
    "for i, weight in enumerate(weights):\n",
    "    model = SVC(class_weight=weight)\n",
    "    model.fit(X_train, y_train)\n",
    "    y_pred = model.predict(X_test) \n",
    "    # używamy test a nie val, ponieważ nie sprawdzamy poprawności modelu zbudowanego \n",
    "    # a jedynie proponujemy poprawki dla zespołu budującego\n",
    "    f1_scores[i] = f1_score(y_test, y_pred)\n",
    "\n",
    "np.max(f1_scores)"
   ]
  },
  {
   "cell_type": "code",
   "execution_count": 162,
   "metadata": {},
   "outputs": [
    {
     "data": {
      "text/plain": [
       "8.25"
      ]
     },
     "execution_count": 162,
     "metadata": {},
     "output_type": "execute_result"
    }
   ],
   "source": [
    "np.argmax(f1_scores)/4"
   ]
  },
  {
   "cell_type": "markdown",
   "metadata": {},
   "source": [
    "Dla stosunku wag 1:8.25 udało nam się osiągnąć ```f1 score``` o wysokości 0.404. Jest to wynik daleki od idealnego, ale dużo lepiej pasuje do naszych oczekiwań co do modelu."
   ]
  },
  {
   "cell_type": "markdown",
   "metadata": {},
   "source": [
    "### Porównanie metryk po i przed tuningiem"
   ]
  },
  {
   "cell_type": "markdown",
   "metadata": {},
   "source": [
    "**Decision Tree**\n"
   ]
  },
  {
   "cell_type": "code",
   "execution_count": 166,
   "metadata": {},
   "outputs": [
    {
     "data": {
      "text/html": [
       "<div>\n",
       "<style scoped>\n",
       "    .dataframe tbody tr th:only-of-type {\n",
       "        vertical-align: middle;\n",
       "    }\n",
       "\n",
       "    .dataframe tbody tr th {\n",
       "        vertical-align: top;\n",
       "    }\n",
       "\n",
       "    .dataframe thead th {\n",
       "        text-align: right;\n",
       "    }\n",
       "</style>\n",
       "<table border=\"1\" class=\"dataframe\">\n",
       "  <thead>\n",
       "    <tr style=\"text-align: right;\">\n",
       "      <th></th>\n",
       "      <th>metric</th>\n",
       "      <th>default_params</th>\n",
       "      <th>gridSearch</th>\n",
       "      <th>randomSearch</th>\n",
       "    </tr>\n",
       "  </thead>\n",
       "  <tbody>\n",
       "    <tr>\n",
       "      <th>0</th>\n",
       "      <td>Accuracy</td>\n",
       "      <td>0.953212</td>\n",
       "      <td>0.969274</td>\n",
       "      <td>0.967877</td>\n",
       "    </tr>\n",
       "    <tr>\n",
       "      <th>1</th>\n",
       "      <td>Error rate</td>\n",
       "      <td>0.046788</td>\n",
       "      <td>0.030726</td>\n",
       "      <td>0.032123</td>\n",
       "    </tr>\n",
       "    <tr>\n",
       "      <th>2</th>\n",
       "      <td>Precision</td>\n",
       "      <td>0.953212</td>\n",
       "      <td>0.969274</td>\n",
       "      <td>0.967877</td>\n",
       "    </tr>\n",
       "    <tr>\n",
       "      <th>3</th>\n",
       "      <td>f1</td>\n",
       "      <td>0.953212</td>\n",
       "      <td>0.969274</td>\n",
       "      <td>0.967877</td>\n",
       "    </tr>\n",
       "    <tr>\n",
       "      <th>4</th>\n",
       "      <td>AUC</td>\n",
       "      <td>0.671074</td>\n",
       "      <td>0.521739</td>\n",
       "      <td>0.500000</td>\n",
       "    </tr>\n",
       "    <tr>\n",
       "      <th>5</th>\n",
       "      <td>accuracy_balanced</td>\n",
       "      <td>0.671074</td>\n",
       "      <td>0.521739</td>\n",
       "      <td>0.500000</td>\n",
       "    </tr>\n",
       "    <tr>\n",
       "      <th>6</th>\n",
       "      <td>Cross Validation</td>\n",
       "      <td>0.952709</td>\n",
       "      <td>0.967975</td>\n",
       "      <td>0.967675</td>\n",
       "    </tr>\n",
       "  </tbody>\n",
       "</table>\n",
       "</div>"
      ],
      "text/plain": [
       "              metric  default_params  gridSearch  randomSearch\n",
       "0           Accuracy        0.953212    0.969274      0.967877\n",
       "1         Error rate        0.046788    0.030726      0.032123\n",
       "2          Precision        0.953212    0.969274      0.967877\n",
       "3                 f1        0.953212    0.969274      0.967877\n",
       "4                AUC        0.671074    0.521739      0.500000\n",
       "5  accuracy_balanced        0.671074    0.521739      0.500000\n",
       "6   Cross Validation        0.952709    0.967975      0.967675"
      ]
     },
     "execution_count": 166,
     "metadata": {},
     "output_type": "execute_result"
    }
   ],
   "source": [
    "modelDTGrid_val = DecisionTreeClassifier(criterion= 'gini',\n",
    "                                   max_depth= 3,\n",
    "                                   max_features= 'auto',\n",
    "                                   min_samples_leaf= 2.8e-5,\n",
    "                                   splitter= 'random', random_state=123)\n",
    "modelDTRandom_val = DecisionTreeClassifier(criterion= 'gini',\n",
    "                                   max_depth= 3,\n",
    "                                   max_features= 'sqrt',\n",
    "                                   min_samples_leaf= 0.00157,\n",
    "                                   splitter= 'random', random_state=123)\n",
    "comparisonDT = compareModels_val(modelDT, modelDTGrid_val, modelDTRandom_val, X_train,y_train,X_test,y_test)\n",
    "pd.DataFrame(comparisonDT, columns=[\"metric\", \"default_params\", \"gridSearch\", \"randomSearch\"])"
   ]
  },
  {
   "cell_type": "markdown",
   "metadata": {},
   "source": [
    "### Random Forest"
   ]
  },
  {
   "cell_type": "code",
   "execution_count": 167,
   "metadata": {},
   "outputs": [
    {
     "data": {
      "text/html": [
       "<div>\n",
       "<style scoped>\n",
       "    .dataframe tbody tr th:only-of-type {\n",
       "        vertical-align: middle;\n",
       "    }\n",
       "\n",
       "    .dataframe tbody tr th {\n",
       "        vertical-align: top;\n",
       "    }\n",
       "\n",
       "    .dataframe thead th {\n",
       "        text-align: right;\n",
       "    }\n",
       "</style>\n",
       "<table border=\"1\" class=\"dataframe\">\n",
       "  <thead>\n",
       "    <tr style=\"text-align: right;\">\n",
       "      <th></th>\n",
       "      <th>metric</th>\n",
       "      <th>default_params</th>\n",
       "      <th>gridSearch</th>\n",
       "      <th>randomSearch</th>\n",
       "    </tr>\n",
       "  </thead>\n",
       "  <tbody>\n",
       "    <tr>\n",
       "      <th>0</th>\n",
       "      <td>Accuracy</td>\n",
       "      <td>0.972067</td>\n",
       "      <td>0.972765</td>\n",
       "      <td>0.972067</td>\n",
       "    </tr>\n",
       "    <tr>\n",
       "      <th>1</th>\n",
       "      <td>Error rate</td>\n",
       "      <td>0.027933</td>\n",
       "      <td>0.027235</td>\n",
       "      <td>0.027933</td>\n",
       "    </tr>\n",
       "    <tr>\n",
       "      <th>2</th>\n",
       "      <td>Precision</td>\n",
       "      <td>0.972067</td>\n",
       "      <td>0.972765</td>\n",
       "      <td>0.972067</td>\n",
       "    </tr>\n",
       "    <tr>\n",
       "      <th>3</th>\n",
       "      <td>f1</td>\n",
       "      <td>0.972067</td>\n",
       "      <td>0.972765</td>\n",
       "      <td>0.972067</td>\n",
       "    </tr>\n",
       "    <tr>\n",
       "      <th>4</th>\n",
       "      <td>AUC</td>\n",
       "      <td>0.575726</td>\n",
       "      <td>0.586596</td>\n",
       "      <td>0.586235</td>\n",
       "    </tr>\n",
       "    <tr>\n",
       "      <th>5</th>\n",
       "      <td>accuracy_balanced</td>\n",
       "      <td>0.575726</td>\n",
       "      <td>0.586596</td>\n",
       "      <td>0.586235</td>\n",
       "    </tr>\n",
       "    <tr>\n",
       "      <th>6</th>\n",
       "      <td>Cross Validation</td>\n",
       "      <td>0.967674</td>\n",
       "      <td>0.966478</td>\n",
       "      <td>0.967973</td>\n",
       "    </tr>\n",
       "  </tbody>\n",
       "</table>\n",
       "</div>"
      ],
      "text/plain": [
       "              metric  default_params  gridSearch  randomSearch\n",
       "0           Accuracy        0.972067    0.972765      0.972067\n",
       "1         Error rate        0.027933    0.027235      0.027933\n",
       "2          Precision        0.972067    0.972765      0.972067\n",
       "3                 f1        0.972067    0.972765      0.972067\n",
       "4                AUC        0.575726    0.586596      0.586235\n",
       "5  accuracy_balanced        0.575726    0.586596      0.586235\n",
       "6   Cross Validation        0.967674    0.966478      0.967973"
      ]
     },
     "execution_count": 167,
     "metadata": {},
     "output_type": "execute_result"
    }
   ],
   "source": [
    "modelRFgrid_val = RandomForestClassifier(bootstrap= True,\n",
    "                                     max_depth= 50,\n",
    "                                     max_features= 'sqrt',\n",
    "                                     min_samples_leaf= 1e-4,\n",
    "                                     n_estimators= 40)\n",
    "modelRFrandom_val = RandomForestClassifier(bootstrap= True,\n",
    "                                     max_depth= 38,\n",
    "                                     max_features= 'auto',\n",
    "                                     min_samples_leaf= 3,\n",
    "                                     n_estimators= 138)\n",
    "comparisonRF = compareModels_val(modelRF, modelRFgrid_val, modelRFrandom_val, X_train,y_train,X_test,y_test)\n",
    "pd.DataFrame(comparisonRF, columns=[\"metric\", \"default_params\", \"gridSearch\", \"randomSearch\"])"
   ]
  },
  {
   "cell_type": "markdown",
   "metadata": {},
   "source": [
    "### SVC"
   ]
  },
  {
   "cell_type": "code",
   "execution_count": 168,
   "metadata": {},
   "outputs": [
    {
     "data": {
      "text/html": [
       "<div>\n",
       "<style scoped>\n",
       "    .dataframe tbody tr th:only-of-type {\n",
       "        vertical-align: middle;\n",
       "    }\n",
       "\n",
       "    .dataframe tbody tr th {\n",
       "        vertical-align: top;\n",
       "    }\n",
       "\n",
       "    .dataframe thead th {\n",
       "        text-align: right;\n",
       "    }\n",
       "</style>\n",
       "<table border=\"1\" class=\"dataframe\">\n",
       "  <thead>\n",
       "    <tr style=\"text-align: right;\">\n",
       "      <th></th>\n",
       "      <th>metric</th>\n",
       "      <th>default_params</th>\n",
       "      <th>gridSearch</th>\n",
       "      <th>randomSearch</th>\n",
       "    </tr>\n",
       "  </thead>\n",
       "  <tbody>\n",
       "    <tr>\n",
       "      <th>0</th>\n",
       "      <td>Accuracy</td>\n",
       "      <td>0.967877</td>\n",
       "      <td>0.968575</td>\n",
       "      <td>0.945531</td>\n",
       "    </tr>\n",
       "    <tr>\n",
       "      <th>1</th>\n",
       "      <td>Error rate</td>\n",
       "      <td>0.032123</td>\n",
       "      <td>0.031425</td>\n",
       "      <td>0.054469</td>\n",
       "    </tr>\n",
       "    <tr>\n",
       "      <th>2</th>\n",
       "      <td>Precision</td>\n",
       "      <td>0.967877</td>\n",
       "      <td>0.968575</td>\n",
       "      <td>0.945531</td>\n",
       "    </tr>\n",
       "    <tr>\n",
       "      <th>3</th>\n",
       "      <td>f1</td>\n",
       "      <td>0.967877</td>\n",
       "      <td>0.968575</td>\n",
       "      <td>0.945531</td>\n",
       "    </tr>\n",
       "    <tr>\n",
       "      <th>4</th>\n",
       "      <td>AUC</td>\n",
       "      <td>0.500000</td>\n",
       "      <td>0.573922</td>\n",
       "      <td>0.740668</td>\n",
       "    </tr>\n",
       "    <tr>\n",
       "      <th>5</th>\n",
       "      <td>accuracy_balanced</td>\n",
       "      <td>0.500000</td>\n",
       "      <td>0.573922</td>\n",
       "      <td>0.740668</td>\n",
       "    </tr>\n",
       "    <tr>\n",
       "      <th>6</th>\n",
       "      <td>Cross Validation</td>\n",
       "      <td>0.967675</td>\n",
       "      <td>0.965884</td>\n",
       "      <td>0.942241</td>\n",
       "    </tr>\n",
       "  </tbody>\n",
       "</table>\n",
       "</div>"
      ],
      "text/plain": [
       "              metric  default_params  gridSearch  randomSearch\n",
       "0           Accuracy        0.967877    0.968575      0.945531\n",
       "1         Error rate        0.032123    0.031425      0.054469\n",
       "2          Precision        0.967877    0.968575      0.945531\n",
       "3                 f1        0.967877    0.968575      0.945531\n",
       "4                AUC        0.500000    0.573922      0.740668\n",
       "5  accuracy_balanced        0.500000    0.573922      0.740668\n",
       "6   Cross Validation        0.967675    0.965884      0.942241"
      ]
     },
     "execution_count": 168,
     "metadata": {},
     "output_type": "execute_result"
    }
   ],
   "source": [
    "modelSVCgrid_val = SVC(C= 0.1,\n",
    "                   gamma= 0.7847,\n",
    "                   class_weight= {0:1, 1:8.25},\n",
    "                   kernel= 'rbf')\n",
    "modelSVCrandom_val = SVC(C= 0.9676745017427828,\n",
    "                   gamma= 0.6047561366591592,\n",
    "                   class_weight= {0:1, 1:8.25},\n",
    "                   kernel= 'rbf')\n",
    "comparisonSVC = compareModels_val(modelSVC, modelSVCgrid_val, modelSVCrandom_val, X_train,y_train,X_test,y_test)\n",
    "pd.DataFrame(comparisonSVC, columns=[\"metric\", \"default_params\", \"gridSearch\", \"randomSearch\"])"
   ]
  },
  {
   "cell_type": "markdown",
   "metadata": {},
   "source": [
    "Dla randomSearch widzimy największą różnicę jeśli chodzi o AUC. Oryginalnie model nie radził sobie z niezbalansowanym zbiorem danych. Po lekkich zmianach radzi sobie lepiej chociaż nadal nie idealnie (ani blisko perfekcji)\n",
    "\n",
    "Patrząc na accuracy możemy odnieść złudną nadzieje, że nasz model jest idealny. Zawsze jednak warto jednak zwrócić uwagę na `accuracy_balanced_score` albo na `AUC`."
   ]
  },
  {
   "cell_type": "markdown",
   "metadata": {},
   "source": [
    "### Confusion Matrix\n",
    "\n",
    "Na sam koniec możemy dodać confusion matrix, żeby zobaczyć jak zachowują się modele zespołu budującego"
   ]
  },
  {
   "cell_type": "code",
   "execution_count": 169,
   "metadata": {},
   "outputs": [],
   "source": [
    "from sklearn.metrics import confusion_matrix\n",
    "import seaborn as sns"
   ]
  },
  {
   "cell_type": "markdown",
   "metadata": {},
   "source": [
    "## Decision Tree"
   ]
  },
  {
   "cell_type": "markdown",
   "metadata": {},
   "source": [
    "### DT dla domyślnych parametrów"
   ]
  },
  {
   "cell_type": "code",
   "execution_count": 171,
   "metadata": {},
   "outputs": [
    {
     "data": {
      "text/plain": [
       "<function matplotlib.pyplot.show(close=None, block=None)>"
      ]
     },
     "execution_count": 171,
     "metadata": {},
     "output_type": "execute_result"
    },
    {
     "data": {
      "image/png": "[encoded data removed]",
      "text/plain": [
       "<Figure size 432x288 with 2 Axes>"
      ]
     },
     "metadata": {
      "needs_background": "light"
     },
     "output_type": "display_data"
    }
   ],
   "source": [
    "modelDT.fit(X_train, y_train)\n",
    "y_pred = modelDT.predict(X_test)\n",
    "cm = confusion_matrix(y_test, y_pred)\n",
    "sns.heatmap(cm, annot=True, fmt='g')\n",
    "plt.show"
   ]
  },
  {
   "cell_type": "markdown",
   "metadata": {},
   "source": [
    "### Grid Search"
   ]
  },
  {
   "cell_type": "code",
   "execution_count": 173,
   "metadata": {},
   "outputs": [
    {
     "data": {
      "text/plain": [
       "<function matplotlib.pyplot.show(close=None, block=None)>"
      ]
     },
     "execution_count": 173,
     "metadata": {},
     "output_type": "execute_result"
    },
    {
     "data": {
      "image/png": "[encoded data removed]",
      "text/plain": [
       "<Figure size 432x288 with 2 Axes>"
      ]
     },
     "metadata": {
      "needs_background": "light"
     },
     "output_type": "display_data"
    }
   ],
   "source": [
    "modelDTGrid.fit(X_train, y_train)\n",
    "y_pred = modelDTGrid.predict(X_test)\n",
    "cm = confusion_matrix(y_test, y_pred)\n",
    "sns.heatmap(cm, annot=True, fmt='g')\n",
    "plt.show"
   ]
  },
  {
   "cell_type": "markdown",
   "metadata": {},
   "source": [
    "### Random Search"
   ]
  },
  {
   "cell_type": "code",
   "execution_count": 175,
   "metadata": {},
   "outputs": [
    {
     "data": {
      "text/plain": [
       "<function matplotlib.pyplot.show(close=None, block=None)>"
      ]
     },
     "execution_count": 175,
     "metadata": {},
     "output_type": "execute_result"
    },
    {
     "data": {
      "image/png": "[encoded data removed]",
      "text/plain": [
       "<Figure size 432x288 with 2 Axes>"
      ]
     },
     "metadata": {
      "needs_background": "light"
     },
     "output_type": "display_data"
    }
   ],
   "source": [
    "modelDTRandom_val.fit(X_train, y_train)\n",
    "y_pred = modelDTRandom.predict(X_test)\n",
    "cm = confusion_matrix(y_test, y_pred)\n",
    "sns.heatmap(cm, annot=True, fmt='g')\n",
    "plt.show"
   ]
  },
  {
   "cell_type": "markdown",
   "metadata": {},
   "source": [
    "## Random Forest"
   ]
  },
  {
   "cell_type": "markdown",
   "metadata": {},
   "source": [
    "### Parametry domyślne"
   ]
  },
  {
   "cell_type": "code",
   "execution_count": 177,
   "metadata": {},
   "outputs": [
    {
     "data": {
      "text/plain": [
       "<function matplotlib.pyplot.show(close=None, block=None)>"
      ]
     },
     "execution_count": 177,
     "metadata": {},
     "output_type": "execute_result"
    },
    {
     "data": {
      "image/png": "[encoded data removed]",
      "text/plain": [
       "<Figure size 432x288 with 2 Axes>"
      ]
     },
     "metadata": {
      "needs_background": "light"
     },
     "output_type": "display_data"
    }
   ],
   "source": [
    "modelRF.fit(X_train, y_train)\n",
    "y_pred = modelRF.predict(X_test)\n",
    "cm = confusion_matrix(y_test, y_pred)\n",
    "sns.heatmap(cm, annot=True, fmt='g')\n",
    "plt.show"
   ]
  },
  {
   "cell_type": "markdown",
   "metadata": {},
   "source": [
    "### Grid Search"
   ]
  },
  {
   "cell_type": "code",
   "execution_count": 178,
   "metadata": {},
   "outputs": [
    {
     "data": {
      "text/plain": [
       "<function matplotlib.pyplot.show(close=None, block=None)>"
      ]
     },
     "execution_count": 178,
     "metadata": {},
     "output_type": "execute_result"
    },
    {
     "data": {
      "image/png": "[encoded data removed]",
      "text/plain": [
       "<Figure size 432x288 with 2 Axes>"
      ]
     },
     "metadata": {
      "needs_background": "light"
     },
     "output_type": "display_data"
    }
   ],
   "source": [
    "modelRFgrid.fit(X_train, y_train)\n",
    "y_pred = modelRFrandom_val.predict(X_test)\n",
    "cm = confusion_matrix(y_test, y_pred)\n",
    "sns.heatmap(cm, annot=True, fmt='g')\n",
    "plt.show"
   ]
  },
  {
   "cell_type": "markdown",
   "metadata": {},
   "source": [
    "### Random Search"
   ]
  },
  {
   "cell_type": "code",
   "execution_count": 179,
   "metadata": {},
   "outputs": [
    {
     "data": {
      "text/plain": [
       "<function matplotlib.pyplot.show(close=None, block=None)>"
      ]
     },
     "execution_count": 179,
     "metadata": {},
     "output_type": "execute_result"
    },
    {
     "data": {
      "image/png": "[encoded data removed]",
      "text/plain": [
       "<Figure size 432x288 with 2 Axes>"
      ]
     },
     "metadata": {
      "needs_background": "light"
     },
     "output_type": "display_data"
    }
   ],
   "source": [
    "modelRFrandom.fit(X_train, y_train)\n",
    "y_pred = modelRFrandom.predict(X_test)\n",
    "cm = confusion_matrix(y_test, y_pred)\n",
    "sns.heatmap(cm, annot=True, fmt='g')\n",
    "plt.show"
   ]
  },
  {
   "cell_type": "markdown",
   "metadata": {},
   "source": [
    "## SVC"
   ]
  },
  {
   "cell_type": "markdown",
   "metadata": {},
   "source": [
    "### Domyślne parametry"
   ]
  },
  {
   "cell_type": "code",
   "execution_count": 180,
   "metadata": {},
   "outputs": [
    {
     "data": {
      "text/plain": [
       "<function matplotlib.pyplot.show(close=None, block=None)>"
      ]
     },
     "execution_count": 180,
     "metadata": {},
     "output_type": "execute_result"
    },
    {
     "data": {
      "image/png": "[encoded data removed]",
      "text/plain": [
       "<Figure size 432x288 with 2 Axes>"
      ]
     },
     "metadata": {
      "needs_background": "light"
     },
     "output_type": "display_data"
    }
   ],
   "source": [
    "modelSVC.fit(X_train, y_train)\n",
    "y_pred = modelSVC.predict(X_test)\n",
    "cm = confusion_matrix(y_test, y_pred)\n",
    "sns.heatmap(cm, annot=True, fmt='g')\n",
    "plt.show"
   ]
  },
  {
   "cell_type": "markdown",
   "metadata": {},
   "source": [
    "### Grid Search"
   ]
  },
  {
   "cell_type": "code",
   "execution_count": 181,
   "metadata": {},
   "outputs": [
    {
     "data": {
      "text/plain": [
       "<function matplotlib.pyplot.show(close=None, block=None)>"
      ]
     },
     "execution_count": 181,
     "metadata": {},
     "output_type": "execute_result"
    },
    {
     "data": {
      "image/png": "[encoded data removed]",
      "text/plain": [
       "<Figure size 432x288 with 2 Axes>"
      ]
     },
     "metadata": {
      "needs_background": "light"
     },
     "output_type": "display_data"
    }
   ],
   "source": [
    "modelSVCgrid.fit(X_train, y_train)\n",
    "y_pred = modelSVCgrid_val.predict(X_test)\n",
    "cm = confusion_matrix(y_test, y_pred)\n",
    "sns.heatmap(cm, annot=True, fmt='g')\n",
    "plt.show"
   ]
  },
  {
   "cell_type": "markdown",
   "metadata": {},
   "source": [
    "### Random Search"
   ]
  },
  {
   "cell_type": "code",
   "execution_count": 182,
   "metadata": {},
   "outputs": [
    {
     "data": {
      "text/plain": [
       "<function matplotlib.pyplot.show(close=None, block=None)>"
      ]
     },
     "execution_count": 182,
     "metadata": {},
     "output_type": "execute_result"
    },
    {
     "data": {
      "image/png": "[encoded data removed]",
      "text/plain": [
       "<Figure size 432x288 with 2 Axes>"
      ]
     },
     "metadata": {
      "needs_background": "light"
     },
     "output_type": "display_data"
    }
   ],
   "source": [
    "modelSVCrandom.fit(X_train, y_train)\n",
    "y_pred = modelSVCrandom.predict(X_test)\n",
    "cm = confusion_matrix(y_test, y_pred)\n",
    "sns.heatmap(cm, annot=True, fmt='g')\n",
    "plt.show"
   ]
  },
  {
   "cell_type": "markdown",
   "metadata": {},
   "source": [
    "Sprawdźmy jeszcze jak wygląda Confusion Matrix dla lepiej dobranych wag"
   ]
  },
  {
   "cell_type": "code",
   "execution_count": 183,
   "metadata": {},
   "outputs": [
    {
     "data": {
      "text/plain": [
       "<function matplotlib.pyplot.show(close=None, block=None)>"
      ]
     },
     "execution_count": 183,
     "metadata": {},
     "output_type": "execute_result"
    },
    {
     "data": {
      "image/png": "[encoded data removed]",
      "text/plain": [
       "<Figure size 432x288 with 2 Axes>"
      ]
     },
     "metadata": {
      "needs_background": "light"
     },
     "output_type": "display_data"
    }
   ],
   "source": [
    "modelSVCrandom_val.fit(X_train, y_train)\n",
    "y_pred = modelSVCrandom_val.predict(X_test)\n",
    "cm = confusion_matrix(y_test, y_pred)\n",
    "sns.heatmap(cm, annot=True, fmt='g')\n",
    "plt.show"
   ]
  },
  {
   "cell_type": "markdown",
   "metadata": {},
   "source": [
    "Tak jak zostało to stwierdzone wyżej nasz model lepiej przewiduje bankrutów jednak nadal ```recall``` dla tego typu predykcji to nadal około 50%.\n",
    "\n",
    "Zaleca się dogłębsza hiperparametryzacja w celu predykcji bankructwa."
   ]
  },
  {
   "cell_type": "markdown",
   "metadata": {},
   "source": [
    "### Wnioski końcowe\n",
    "\n",
    "Po dogłębnej analizie pracy zespołu budującego dochodzimy do następujących wniosków.\n",
    "\n",
    "- Początkowa faza budowy modelu jest poprawna\n",
    "    - Zespół budujący odpowiednio przekształcił i podzielił dane przygotowując je do dalszej pracy\n",
    "    - Aby ułatwić pracę zespołu budującego i walidującego zespoł budujący powinien był zastosować Pipeline do obróbki danych\n",
    "    - ***Drobna uwaga*** W przypadku braku uzycia Pipeline funkcja normalize_and_split powinna być rozdzielona  \n",
    "- Zespół budujący dobrze wykorzystał GridSearch oraz RandomSearch do optymalizacji hiperparametrów\n",
    "    - Poprawne i dogłębne przeszukiwanie różnego typu hiperparametrów\n",
    "    - W szczególności dobre było zastosowanie dogłębnej walidacji krzyżowej i przygotowanie funkcji zajmującej się przeszukiwaniem\n",
    "- Zespół budujący nie uwzględnił w budowie modelu braku balansu obserwacji\n",
    "    - Wagi obserwacji nie powinny być sobie równe w takim zestawie danych\n",
    "    - Zespół zbytnio skupił się na optymalizacji ```f1 score``` i ```accuracy```,  \n",
    "    które w tego typu zestawach mają tendecję do przekłamywania faktycznej użyteczności modelu\n",
    "    - Ponadto zaleca się używanie Confusion Matrix, które od razu w sposób jednoznaczny uwidacznia problemy z brakiem balansu w danych\n"
   ]
  }
 ],
 "metadata": {
  "kernelspec": {
   "display_name": "Python 3",
   "language": "python",
   "name": "python3"
  },
  "language_info": {
   "codemirror_mode": {
    "name": "ipython",
    "version": 3
   },
   "file_extension": ".py",
   "mimetype": "text/x-python",
   "name": "python",
   "nbconvert_exporter": "python",
   "pygments_lexer": "ipython3",
   "version": "3.8.8"
  }
 },
 "nbformat": 4,
 "nbformat_minor": 4
}
