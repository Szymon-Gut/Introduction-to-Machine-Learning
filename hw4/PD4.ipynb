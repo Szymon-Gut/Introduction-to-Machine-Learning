{
 "cells": [
  {
   "cell_type": "markdown",
   "metadata": {},
   "source": [
    "# Praca domowa 4 - Wstęp do Uczenia Maszynowego\n",
    "## Maja Andrzejczuk i Julia Przybytniowska"
   ]
  },
  {
   "cell_type": "code",
   "execution_count": 1,
   "metadata": {},
   "outputs": [],
   "source": [
    "\n",
    "import pandas as pd\n",
    "import numpy as np\n",
    "import matplotlib.pyplot as plt\n",
    "\n",
    "from sklearn.feature_selection import SelectFromModel\n",
    "from sklearn.model_selection import train_test_split\n",
    "from sklearn.preprocessing import MinMaxScaler\n",
    "\n",
    "from sklearn.ensemble import RandomForestClassifier\n",
    "from sklearn.tree import DecisionTreeClassifier\n",
    "from sklearn.svm import SVC\n",
    "from sklearn.metrics import f1_score, precision_score, recall_score, accuracy_score, classification_report, roc_auc_score\n",
    "from sklearn.model_selection import cross_val_score\n",
    "from scikitplot.estimators import plot_learning_curve\n",
    "\n",
    "from sklearn.model_selection import RandomizedSearchCV\n",
    "from sklearn.model_selection import GridSearchCV\n",
    "from sklearn.model_selection import RepeatedStratifiedKFold\n",
    "\n",
    "import warnings\n",
    "warnings.filterwarnings(\"ignore\")"
   ]
  },
  {
   "cell_type": "code",
   "execution_count": 50,
   "metadata": {},
   "outputs": [
    {
     "name": "stdout",
     "output_type": "stream",
     "text": [
      "<class 'pandas.core.frame.DataFrame'>\n",
      "RangeIndex: 6819 entries, 0 to 6818\n",
      "Data columns (total 96 columns):\n",
      " #   Column                                                    Non-Null Count  Dtype  \n",
      "---  ------                                                    --------------  -----  \n",
      " 0   Bankrupt?                                                 6819 non-null   int64  \n",
      " 1    ROA(C) before interest and depreciation before interest  6819 non-null   float64\n",
      " 2    ROA(A) before interest and % after tax                   6819 non-null   float64\n",
      " 3    ROA(B) before interest and depreciation after tax        6819 non-null   float64\n",
      " 4    Operating Gross Margin                                   6819 non-null   float64\n",
      " 5    Realized Sales Gross Margin                              6819 non-null   float64\n",
      " 6    Operating Profit Rate                                    6819 non-null   float64\n",
      " 7    Pre-tax net Interest Rate                                6819 non-null   float64\n",
      " 8    After-tax net Interest Rate                              6819 non-null   float64\n",
      " 9    Non-industry income and expenditure/revenue              6819 non-null   float64\n",
      " 10   Continuous interest rate (after tax)                     6819 non-null   float64\n",
      " 11   Operating Expense Rate                                   6819 non-null   float64\n",
      " 12   Research and development expense rate                    6819 non-null   float64\n",
      " 13   Cash flow rate                                           6819 non-null   float64\n",
      " 14   Interest-bearing debt interest rate                      6819 non-null   float64\n",
      " 15   Tax rate (A)                                             6819 non-null   float64\n",
      " 16   Net Value Per Share (B)                                  6819 non-null   float64\n",
      " 17   Net Value Per Share (A)                                  6819 non-null   float64\n",
      " 18   Net Value Per Share (C)                                  6819 non-null   float64\n",
      " 19   Persistent EPS in the Last Four Seasons                  6819 non-null   float64\n",
      " 20   Cash Flow Per Share                                      6819 non-null   float64\n",
      " 21   Revenue Per Share (Yuan ¥)                               6819 non-null   float64\n",
      " 22   Operating Profit Per Share (Yuan ¥)                      6819 non-null   float64\n",
      " 23   Per Share Net profit before tax (Yuan ¥)                 6819 non-null   float64\n",
      " 24   Realized Sales Gross Profit Growth Rate                  6819 non-null   float64\n",
      " 25   Operating Profit Growth Rate                             6819 non-null   float64\n",
      " 26   After-tax Net Profit Growth Rate                         6819 non-null   float64\n",
      " 27   Regular Net Profit Growth Rate                           6819 non-null   float64\n",
      " 28   Continuous Net Profit Growth Rate                        6819 non-null   float64\n",
      " 29   Total Asset Growth Rate                                  6819 non-null   float64\n",
      " 30   Net Value Growth Rate                                    6819 non-null   float64\n",
      " 31   Total Asset Return Growth Rate Ratio                     6819 non-null   float64\n",
      " 32   Cash Reinvestment %                                      6819 non-null   float64\n",
      " 33   Current Ratio                                            6819 non-null   float64\n",
      " 34   Quick Ratio                                              6819 non-null   float64\n",
      " 35   Interest Expense Ratio                                   6819 non-null   float64\n",
      " 36   Total debt/Total net worth                               6819 non-null   float64\n",
      " 37   Debt ratio %                                             6819 non-null   float64\n",
      " 38   Net worth/Assets                                         6819 non-null   float64\n",
      " 39   Long-term fund suitability ratio (A)                     6819 non-null   float64\n",
      " 40   Borrowing dependency                                     6819 non-null   float64\n",
      " 41   Contingent liabilities/Net worth                         6819 non-null   float64\n",
      " 42   Operating profit/Paid-in capital                         6819 non-null   float64\n",
      " 43   Net profit before tax/Paid-in capital                    6819 non-null   float64\n",
      " 44   Inventory and accounts receivable/Net value              6819 non-null   float64\n",
      " 45   Total Asset Turnover                                     6819 non-null   float64\n",
      " 46   Accounts Receivable Turnover                             6819 non-null   float64\n",
      " 47   Average Collection Days                                  6819 non-null   float64\n",
      " 48   Inventory Turnover Rate (times)                          6819 non-null   float64\n",
      " 49   Fixed Assets Turnover Frequency                          6819 non-null   float64\n",
      " 50   Net Worth Turnover Rate (times)                          6819 non-null   float64\n",
      " 51   Revenue per person                                       6819 non-null   float64\n",
      " 52   Operating profit per person                              6819 non-null   float64\n",
      " 53   Allocation rate per person                               6819 non-null   float64\n",
      " 54   Working Capital to Total Assets                          6819 non-null   float64\n",
      " 55   Quick Assets/Total Assets                                6819 non-null   float64\n",
      " 56   Current Assets/Total Assets                              6819 non-null   float64\n",
      " 57   Cash/Total Assets                                        6819 non-null   float64\n",
      " 58   Quick Assets/Current Liability                           6819 non-null   float64\n",
      " 59   Cash/Current Liability                                   6819 non-null   float64\n",
      " 60   Current Liability to Assets                              6819 non-null   float64\n",
      " 61   Operating Funds to Liability                             6819 non-null   float64\n",
      " 62   Inventory/Working Capital                                6819 non-null   float64\n",
      " 63   Inventory/Current Liability                              6819 non-null   float64\n",
      " 64   Current Liabilities/Liability                            6819 non-null   float64\n",
      " 65   Working Capital/Equity                                   6819 non-null   float64\n",
      " 66   Current Liabilities/Equity                               6819 non-null   float64\n",
      " 67   Long-term Liability to Current Assets                    6819 non-null   float64\n",
      " 68   Retained Earnings to Total Assets                        6819 non-null   float64\n",
      " 69   Total income/Total expense                               6819 non-null   float64\n",
      " 70   Total expense/Assets                                     6819 non-null   float64\n",
      " 71   Current Asset Turnover Rate                              6819 non-null   float64\n",
      " 72   Quick Asset Turnover Rate                                6819 non-null   float64\n",
      " 73   Working capitcal Turnover Rate                           6819 non-null   float64\n",
      " 74   Cash Turnover Rate                                       6819 non-null   float64\n",
      " 75   Cash Flow to Sales                                       6819 non-null   float64\n",
      " 76   Fixed Assets to Assets                                   6819 non-null   float64\n",
      " 77   Current Liability to Liability                           6819 non-null   float64\n",
      " 78   Current Liability to Equity                              6819 non-null   float64\n",
      " 79   Equity to Long-term Liability                            6819 non-null   float64\n",
      " 80   Cash Flow to Total Assets                                6819 non-null   float64\n",
      " 81   Cash Flow to Liability                                   6819 non-null   float64\n",
      " 82   CFO to Assets                                            6819 non-null   float64\n",
      " 83   Cash Flow to Equity                                      6819 non-null   float64\n",
      " 84   Current Liability to Current Assets                      6819 non-null   float64\n",
      " 85   Liability-Assets Flag                                    6819 non-null   int64  \n",
      " 86   Net Income to Total Assets                               6819 non-null   float64\n",
      " 87   Total assets to GNP price                                6819 non-null   float64\n",
      " 88   No-credit Interval                                       6819 non-null   float64\n",
      " 89   Gross Profit to Sales                                    6819 non-null   float64\n",
      " 90   Net Income to Stockholder's Equity                       6819 non-null   float64\n",
      " 91   Liability to Equity                                      6819 non-null   float64\n",
      " 92   Degree of Financial Leverage (DFL)                       6819 non-null   float64\n",
      " 93   Interest Coverage Ratio (Interest expense to EBIT)       6819 non-null   float64\n",
      " 94   Net Income Flag                                          6819 non-null   int64  \n",
      " 95   Equity to Liability                                      6819 non-null   float64\n",
      "dtypes: float64(93), int64(3)\n",
      "memory usage: 5.0 MB\n"
     ]
    }
   ],
   "source": [
    "df = pd.read_csv('data.csv')\n",
    "df.info()"
   ]
  },
  {
   "cell_type": "markdown",
   "metadata": {},
   "source": [
    "Korzystając z pracy domowej 3 przeprowadzimy preprocessing danych, aby modele oraz ich tuning były bardziej efektywne:\n",
    "- sprawdzenie unikatowych wartości w kolumnach o zmiennych *int*, usunięcie niepotrzebnych\n",
    "- zamiana wartości odstających (2,5%, 97,5%) na wartości w tych kwantylach\n",
    "- zmiana kierunku korelacji na dodatni\n",
    "- normalizacja zmiennych ciągłych przy użyciu MinMaxScaler()\n",
    "- podział danych na zbiór treningowy i testowy"
   ]
  },
  {
   "cell_type": "markdown",
   "metadata": {},
   "source": [
    "Przeprowadzimy to w jednej komórce ze względu na fakt że jest to powtórzenie kodu z wcześniejszego zadania."
   ]
  },
  {
   "cell_type": "code",
   "execution_count": 51,
   "metadata": {},
   "outputs": [],
   "source": [
    "#for col in df:\n",
    "#  if len(df[col].unique()) < 100:\n",
    "#    print(df[col].unique(), col)\n",
    "#df[' Liability-Assets Flag'].value_counts()\n",
    "#df[' Net Income Flag'].value_counts()\n",
    "df.drop(columns = [' Liability-Assets Flag',' Net Income Flag'], inplace = True)\n",
    "df_train,df_val = train_test_split(df,test_size=0.3, random_state=420, stratify=df['Bankrupt?'])\n",
    "\n",
    "def outliers_to_quantiles(df):\n",
    "    up_quantiles = df.quantile(0.975,axis=0)\n",
    "    down_quantiles = df.quantile(0.025,axis=0)\n",
    "    outliers_low = (df < down_quantiles)\n",
    "    outliers_high = (df > up_quantiles)\n",
    "    df_train = df.where(~outliers_low, down_quantiles, axis=1)\n",
    "    df_train = df.where(~outliers_high, up_quantiles, axis=1)\n",
    "    return df\n",
    "\n",
    "def make_corr_positive(df):\n",
    "  corrs = df.corrwith(df['Bankrupt?'])\n",
    "  neg_corrs = np.where(corrs < 0)\n",
    "  df.iloc[:,neg_corrs[0].tolist()] = -df.iloc[:,neg_corrs[0].tolist()]\n",
    "  return df\n",
    "\n",
    "def normalize_and_split(df):\n",
    "  X = df.drop(columns = ['Bankrupt?'])  #zmienne opisujące, które będą normalizowane\n",
    "  Y = df['Bankrupt?']                  #zmienna celu\n",
    "  X = MinMaxScaler().fit_transform(X)\n",
    "  return train_test_split(X, Y, test_size=0.3, random_state=420, stratify=Y)\n",
    "\n",
    "df_train = outliers_to_quantiles(df_train)\n",
    "df_train = make_corr_positive(df_train)\n",
    "X_train, X_test, y_train, y_test= normalize_and_split(df_train)"
   ]
  },
  {
   "cell_type": "markdown",
   "metadata": {},
   "source": [
    "#### Ograniczenie zmiennych przez zostawienie najważniejszych kolumn według  feature_importance modelu Random Forest"
   ]
  },
  {
   "cell_type": "markdown",
   "metadata": {},
   "source": [
    "Na początku określamy liczbę drzew, następnie użyjemy funkcji *selectFromModel()* ze sklearn, aby automatycznie wybrać najważniejsze cechy."
   ]
  },
  {
   "cell_type": "code",
   "execution_count": 52,
   "metadata": {},
   "outputs": [
    {
     "data": {
      "text/plain": [
       "SelectFromModel(estimator=RandomForestClassifier())"
      ]
     },
     "execution_count": 52,
     "metadata": {},
     "output_type": "execute_result"
    }
   ],
   "source": [
    "sel = SelectFromModel(RandomForestClassifier(n_estimators = 100))\n",
    "sel.fit(X_train, y_train)"
   ]
  },
  {
   "cell_type": "markdown",
   "metadata": {},
   "source": [
    "Następnie tworzymy listę i liczymy wybrane przez nas cechy:"
   ]
  },
  {
   "cell_type": "code",
   "execution_count": 53,
   "metadata": {},
   "outputs": [
    {
     "data": {
      "text/plain": [
       "43"
      ]
     },
     "execution_count": 53,
     "metadata": {},
     "output_type": "execute_result"
    }
   ],
   "source": [
    "selected_feat= df_train.iloc[:,:-1].columns[(sel.get_support())]\n",
    "len(selected_feat)"
   ]
  },
  {
   "cell_type": "markdown",
   "metadata": {},
   "source": [
    "Sprawdzimy jakie zmienne wybraliśmy:"
   ]
  },
  {
   "cell_type": "code",
   "execution_count": 54,
   "metadata": {
    "scrolled": true
   },
   "outputs": [
    {
     "name": "stdout",
     "output_type": "stream",
     "text": [
      "Index(['Bankrupt?', ' ROA(A) before interest and % after tax',\n",
      "       ' Operating Gross Margin', ' Operating Profit Rate',\n",
      "       ' Pre-tax net Interest Rate', ' After-tax net Interest Rate',\n",
      "       ' Non-industry income and expenditure/revenue',\n",
      "       ' Research and development expense rate', ' Tax rate (A)',\n",
      "       ' Net Value Per Share (B)', ' Net Value Per Share (A)',\n",
      "       ' Net Value Per Share (C)', ' Operating Profit Per Share (Yuan ¥)',\n",
      "       ' Regular Net Profit Growth Rate', ' Total Asset Growth Rate',\n",
      "       ' Net Value Growth Rate', ' Quick Ratio', ' Total debt/Total net worth',\n",
      "       ' Debt ratio %', ' Long-term fund suitability ratio (A)',\n",
      "       ' Operating profit/Paid-in capital',\n",
      "       ' Net profit before tax/Paid-in capital', ' Revenue per person',\n",
      "       ' Allocation rate per person', ' Working Capital to Total Assets',\n",
      "       ' Current Assets/Total Assets', ' Operating Funds to Liability',\n",
      "       ' Inventory/Current Liability', ' Current Liabilities/Liability',\n",
      "       ' Long-term Liability to Current Assets',\n",
      "       ' Retained Earnings to Total Assets', ' Quick Asset Turnover Rate',\n",
      "       ' Fixed Assets to Assets', ' Current Liability to Liability',\n",
      "       ' Current Liability to Equity', ' Cash Flow to Equity',\n",
      "       ' Current Liability to Current Assets', ' Total assets to GNP price',\n",
      "       ' Gross Profit to Sales', ' Net Income to Stockholder's Equity',\n",
      "       ' Liability to Equity', ' Degree of Financial Leverage (DFL)',\n",
      "       ' Interest Coverage Ratio (Interest expense to EBIT)'],\n",
      "      dtype='object')\n"
     ]
    }
   ],
   "source": [
    "print(selected_feat)"
   ]
  },
  {
   "cell_type": "markdown",
   "metadata": {},
   "source": [
    "Sprawdźmy rozłożenie \"importance\" na wykresie:"
   ]
  },
  {
   "cell_type": "code",
   "execution_count": 55,
   "metadata": {
    "scrolled": false
   },
   "outputs": [
    {
     "data": {
      "text/plain": [
       "<matplotlib.axes._subplots.AxesSubplot at 0x1f46ef1ff70>"
      ]
     },
     "execution_count": 55,
     "metadata": {},
     "output_type": "execute_result"
    },
    {
     "data": {
      "image/png": "[encoded data removed]",
      "text/plain": [
       "<Figure size 432x288 with 1 Axes>"
      ]
     },
     "metadata": {
      "needs_background": "light"
     },
     "output_type": "display_data"
    }
   ],
   "source": [
    "pd.Series(sel.estimator_.feature_importances_.ravel()).hist()"
   ]
  },
  {
   "cell_type": "code",
   "execution_count": 8,
   "metadata": {},
   "outputs": [],
   "source": [
    "df_train = df_train[selected_feat]"
   ]
  },
  {
   "cell_type": "code",
   "execution_count": 9,
   "metadata": {},
   "outputs": [],
   "source": [
    "X_train, X_test, y_train, y_test= normalize_and_split(df_train)"
   ]
  },
  {
   "cell_type": "markdown",
   "metadata": {},
   "source": [
    "## Modele o domyślnych hiperparametrach:"
   ]
  },
  {
   "cell_type": "code",
   "execution_count": 10,
   "metadata": {},
   "outputs": [],
   "source": [
    "def trainModel(model, X_train,y_train,X_test,y_test):\n",
    "    model.fit(X_train, y_train)    \n",
    "    predictions=model.predict(X_test)\n",
    "    \n",
    "    accuracy = accuracy_score(y_test, predictions)\n",
    "    recall = recall_score(y_test, predictions,average='micro')\n",
    "    precision = precision_score(y_test, predictions,average='micro')\n",
    "    f1 = f1_score(y_test, predictions, average='micro')\n",
    "    auc = roc_auc_score(y_test,predictions)\n",
    "    errorrate = 1 - accuracy_score(y_test, predictions)\n",
    "    \n",
    "    print('accuracy: ', accuracy)\n",
    "    print('error rate', errorrate)\n",
    "    print('recall: ',recall)\n",
    "    print('precision: ', precision)\n",
    "    print('f1_micro: ', f1)\n",
    "    print('auc: ', auc)\n",
    "    print('cross_validation: ',np.mean(cross_val_score(model, X_train, y_train, scoring='accuracy', cv=20, n_jobs=-1, error_score='raise')))\n",
    "    print(classification_report(y_test, predictions))\n",
    "    \n",
    "    plot_learning_curve(model, X_test, y_test, scoring='roc_auc');    \n",
    "    plt.show()"
   ]
  },
  {
   "cell_type": "markdown",
   "metadata": {},
   "source": [
    "### 1. Decision Tree"
   ]
  },
  {
   "cell_type": "code",
   "execution_count": 11,
   "metadata": {},
   "outputs": [
    {
     "name": "stdout",
     "output_type": "stream",
     "text": [
      "accuracy:  0.9615921787709497\n",
      "error rate 0.03840782122905029\n",
      "recall:  0.9615921787709497\n",
      "precision:  0.9615921787709497\n",
      "f1_micro:  0.9615921787709497\n",
      "auc:  0.6754030993161427\n",
      "cross_validation:  0.9485225976618192\n",
      "              precision    recall  f1-score   support\n",
      "\n",
      "           0       0.98      0.98      0.98      1386\n",
      "           1       0.40      0.37      0.38        46\n",
      "\n",
      "    accuracy                           0.96      1432\n",
      "   macro avg       0.69      0.68      0.68      1432\n",
      "weighted avg       0.96      0.96      0.96      1432\n",
      "\n"
     ]
    },
    {
     "data": {
      "image/png": "[encoded data removed]",
      "text/plain": [
       "<Figure size 432x288 with 1 Axes>"
      ]
     },
     "metadata": {
      "needs_background": "light"
     },
     "output_type": "display_data"
    }
   ],
   "source": [
    "modelDT = DecisionTreeClassifier()\n",
    "\n",
    "trainModel(modelDT, X_train, y_train, X_test, y_test)"
   ]
  },
  {
   "cell_type": "markdown",
   "metadata": {},
   "source": [
    "### 2. Random Forest"
   ]
  },
  {
   "cell_type": "code",
   "execution_count": 12,
   "metadata": {},
   "outputs": [
    {
     "name": "stdout",
     "output_type": "stream",
     "text": [
      "accuracy:  0.9713687150837989\n",
      "error rate 0.02863128491620115\n",
      "recall:  0.9713687150837989\n",
      "precision:  0.9713687150837989\n",
      "f1_micro:  0.9713687150837989\n",
      "auc:  0.5648566409435974\n",
      "cross_validation:  0.9673777445109781\n",
      "              precision    recall  f1-score   support\n",
      "\n",
      "           0       0.97      1.00      0.99      1386\n",
      "           1       0.86      0.13      0.23        46\n",
      "\n",
      "    accuracy                           0.97      1432\n",
      "   macro avg       0.91      0.56      0.61      1432\n",
      "weighted avg       0.97      0.97      0.96      1432\n",
      "\n"
     ]
    },
    {
     "data": {
      "image/png": "[encoded data removed]",
      "text/plain": [
       "<Figure size 432x288 with 1 Axes>"
      ]
     },
     "metadata": {
      "needs_background": "light"
     },
     "output_type": "display_data"
    }
   ],
   "source": [
    "modelRF = RandomForestClassifier()\n",
    "\n",
    "trainModel(modelRF, X_train, y_train, X_test, y_test)"
   ]
  },
  {
   "cell_type": "markdown",
   "metadata": {},
   "source": [
    "### 3. SVC (Support Vector Machine)"
   ]
  },
  {
   "cell_type": "code",
   "execution_count": 13,
   "metadata": {},
   "outputs": [
    {
     "name": "stdout",
     "output_type": "stream",
     "text": [
      "accuracy:  0.9678770949720671\n",
      "error rate 0.03212290502793291\n",
      "recall:  0.9678770949720671\n",
      "precision:  0.9678770949720671\n",
      "f1_micro:  0.9678770949720671\n",
      "auc:  0.5\n",
      "cross_validation:  0.9676753635585971\n",
      "              precision    recall  f1-score   support\n",
      "\n",
      "           0       0.97      1.00      0.98      1386\n",
      "           1       0.00      0.00      0.00        46\n",
      "\n",
      "    accuracy                           0.97      1432\n",
      "   macro avg       0.48      0.50      0.49      1432\n",
      "weighted avg       0.94      0.97      0.95      1432\n",
      "\n"
     ]
    },
    {
     "data": {
      "image/png": "[encoded data removed]",
      "text/plain": [
       "<Figure size 432x288 with 1 Axes>"
      ]
     },
     "metadata": {
      "needs_background": "light"
     },
     "output_type": "display_data"
    }
   ],
   "source": [
    "modelSVC = SVC()\n",
    "\n",
    "trainModel(modelSVC, X_train, y_train, X_test, y_test)"
   ]
  },
  {
   "cell_type": "markdown",
   "metadata": {},
   "source": [
    "## Tuning hiperparametrów każdego z modeli:"
   ]
  },
  {
   "cell_type": "code",
   "execution_count": 14,
   "metadata": {},
   "outputs": [],
   "source": [
    "def gridSearch(model,grid, X, y):\n",
    "    cv = RepeatedStratifiedKFold(n_splits=10, n_repeats=3, random_state=1)\n",
    "    grid_search = GridSearchCV(estimator=model, param_grid=grid, n_jobs=-1, cv=cv, scoring='accuracy',error_score=0)\n",
    "    result = grid_search.fit(X, y)\n",
    "    print('Best score (gridSearch): %s' % result.best_score_)\n",
    "    print('Best hyperparameters: %s' % result.best_params_)\n",
    "    return"
   ]
  },
  {
   "cell_type": "code",
   "execution_count": 15,
   "metadata": {},
   "outputs": [],
   "source": [
    "def randomSearch(model,grid, X, y):\n",
    "    cv = RepeatedStratifiedKFold(n_splits=10, n_repeats=3, random_state=1)\n",
    "    random_search = RandomizedSearchCV(estimator=model, param_distributions = grid, n_iter = 70, n_jobs=-1, cv=cv, scoring='accuracy', random_state=123)\n",
    "    result = random_search.fit(X, y)\n",
    "    print('Best score (randomSearch): %s' % result.best_score_)\n",
    "    print('Best hyperparameters: %s' % result.best_params_)\n",
    "    return "
   ]
  },
  {
   "cell_type": "markdown",
   "metadata": {},
   "source": [
    "### 1. Decision Tree"
   ]
  },
  {
   "cell_type": "code",
   "execution_count": 16,
   "metadata": {},
   "outputs": [],
   "source": [
    "max_depth=[3,5,10,20]\n",
    "max_features = ['auto', 'sqrt']\n",
    "min_samples_leaf = [1, 2, 4]\n",
    "grid = {'max_features' : max_features,\n",
    "        'max_depth': max_depth,\n",
    "        'min_samples_leaf': min_samples_leaf,\n",
    "        'splitter': ['best', 'random'],\n",
    "        \"criterion\": [\"gini\", \"entropy\"]}"
   ]
  },
  {
   "cell_type": "code",
   "execution_count": 17,
   "metadata": {},
   "outputs": [
    {
     "name": "stdout",
     "output_type": "stream",
     "text": [
      "Best score (gridSearch): 0.9679736050287483\n",
      "Best hyperparameters: {'criterion': 'entropy', 'max_depth': 3, 'max_features': 'auto', 'min_samples_leaf': 4, 'splitter': 'random'}\n"
     ]
    }
   ],
   "source": [
    "gridSearch(modelDT, grid, X_train, y_train)"
   ]
  },
  {
   "cell_type": "code",
   "execution_count": 18,
   "metadata": {},
   "outputs": [
    {
     "name": "stdout",
     "output_type": "stream",
     "text": [
      "Best score (randomSearch): 0.9680731075163105\n",
      "Best hyperparameters: {'splitter': 'random', 'min_samples_leaf': 2, 'max_features': 'sqrt', 'max_depth': 3, 'criterion': 'gini'}\n"
     ]
    }
   ],
   "source": [
    "randomSearch(modelDT, grid, X_train, y_train)"
   ]
  },
  {
   "cell_type": "markdown",
   "metadata": {},
   "source": [
    "### 2. Random Forest"
   ]
  },
  {
   "cell_type": "code",
   "execution_count": 19,
   "metadata": {},
   "outputs": [],
   "source": [
    "n_estimators = [50,100,200]\n",
    "max_features = ['auto', 'sqrt']\n",
    "max_depth = [10,20,40]\n",
    "min_samples_leaf = [1, 2, 4]\n",
    "bootstrap = [True, False]\n",
    "grid = dict(n_estimators=n_estimators,max_features= max_features,max_depth= max_depth,\n",
    "            min_samples_leaf=min_samples_leaf,bootstrap= bootstrap)"
   ]
  },
  {
   "cell_type": "code",
   "execution_count": 20,
   "metadata": {},
   "outputs": [
    {
     "ename": "KeyboardInterrupt",
     "evalue": "",
     "output_type": "error",
     "traceback": [
      "\u001b[1;31m---------------------------------------------------------------------------\u001b[0m",
      "\u001b[1;31mKeyboardInterrupt\u001b[0m                         Traceback (most recent call last)",
      "\u001b[1;32m<ipython-input-20-cced16769b85>\u001b[0m in \u001b[0;36m<module>\u001b[1;34m\u001b[0m\n\u001b[1;32m----> 1\u001b[1;33m \u001b[0mgridSearch\u001b[0m\u001b[1;33m(\u001b[0m\u001b[0mmodelRF\u001b[0m\u001b[1;33m,\u001b[0m \u001b[0mgrid\u001b[0m\u001b[1;33m,\u001b[0m \u001b[0mX_train\u001b[0m\u001b[1;33m,\u001b[0m \u001b[0my_train\u001b[0m\u001b[1;33m)\u001b[0m\u001b[1;33m\u001b[0m\u001b[1;33m\u001b[0m\u001b[0m\n\u001b[0m",
      "\u001b[1;32m<ipython-input-14-a0e5dda81380>\u001b[0m in \u001b[0;36mgridSearch\u001b[1;34m(model, grid, X, y)\u001b[0m\n\u001b[0;32m      2\u001b[0m     \u001b[0mcv\u001b[0m \u001b[1;33m=\u001b[0m \u001b[0mRepeatedStratifiedKFold\u001b[0m\u001b[1;33m(\u001b[0m\u001b[0mn_splits\u001b[0m\u001b[1;33m=\u001b[0m\u001b[1;36m10\u001b[0m\u001b[1;33m,\u001b[0m \u001b[0mn_repeats\u001b[0m\u001b[1;33m=\u001b[0m\u001b[1;36m3\u001b[0m\u001b[1;33m,\u001b[0m \u001b[0mrandom_state\u001b[0m\u001b[1;33m=\u001b[0m\u001b[1;36m1\u001b[0m\u001b[1;33m)\u001b[0m\u001b[1;33m\u001b[0m\u001b[1;33m\u001b[0m\u001b[0m\n\u001b[0;32m      3\u001b[0m     \u001b[0mgrid_search\u001b[0m \u001b[1;33m=\u001b[0m \u001b[0mGridSearchCV\u001b[0m\u001b[1;33m(\u001b[0m\u001b[0mestimator\u001b[0m\u001b[1;33m=\u001b[0m\u001b[0mmodel\u001b[0m\u001b[1;33m,\u001b[0m \u001b[0mparam_grid\u001b[0m\u001b[1;33m=\u001b[0m\u001b[0mgrid\u001b[0m\u001b[1;33m,\u001b[0m \u001b[0mn_jobs\u001b[0m\u001b[1;33m=\u001b[0m\u001b[1;33m-\u001b[0m\u001b[1;36m1\u001b[0m\u001b[1;33m,\u001b[0m \u001b[0mcv\u001b[0m\u001b[1;33m=\u001b[0m\u001b[0mcv\u001b[0m\u001b[1;33m,\u001b[0m \u001b[0mscoring\u001b[0m\u001b[1;33m=\u001b[0m\u001b[1;34m'accuracy'\u001b[0m\u001b[1;33m,\u001b[0m\u001b[0merror_score\u001b[0m\u001b[1;33m=\u001b[0m\u001b[1;36m0\u001b[0m\u001b[1;33m)\u001b[0m\u001b[1;33m\u001b[0m\u001b[1;33m\u001b[0m\u001b[0m\n\u001b[1;32m----> 4\u001b[1;33m     \u001b[0mresult\u001b[0m \u001b[1;33m=\u001b[0m \u001b[0mgrid_search\u001b[0m\u001b[1;33m.\u001b[0m\u001b[0mfit\u001b[0m\u001b[1;33m(\u001b[0m\u001b[0mX\u001b[0m\u001b[1;33m,\u001b[0m \u001b[0my\u001b[0m\u001b[1;33m)\u001b[0m\u001b[1;33m\u001b[0m\u001b[1;33m\u001b[0m\u001b[0m\n\u001b[0m\u001b[0;32m      5\u001b[0m     \u001b[0mprint\u001b[0m\u001b[1;33m(\u001b[0m\u001b[1;34m'Best score (gridSearch): %s'\u001b[0m \u001b[1;33m%\u001b[0m \u001b[0mresult\u001b[0m\u001b[1;33m.\u001b[0m\u001b[0mbest_score_\u001b[0m\u001b[1;33m)\u001b[0m\u001b[1;33m\u001b[0m\u001b[1;33m\u001b[0m\u001b[0m\n\u001b[0;32m      6\u001b[0m     \u001b[0mprint\u001b[0m\u001b[1;33m(\u001b[0m\u001b[1;34m'Best hyperparameters: %s'\u001b[0m \u001b[1;33m%\u001b[0m \u001b[0mresult\u001b[0m\u001b[1;33m.\u001b[0m\u001b[0mbest_params_\u001b[0m\u001b[1;33m)\u001b[0m\u001b[1;33m\u001b[0m\u001b[1;33m\u001b[0m\u001b[0m\n",
      "\u001b[1;32m~\\anaconda3\\lib\\site-packages\\sklearn\\model_selection\\_search.py\u001b[0m in \u001b[0;36mfit\u001b[1;34m(self, X, y, groups, **fit_params)\u001b[0m\n\u001b[0;32m    889\u001b[0m                 \u001b[1;32mreturn\u001b[0m \u001b[0mresults\u001b[0m\u001b[1;33m\u001b[0m\u001b[1;33m\u001b[0m\u001b[0m\n\u001b[0;32m    890\u001b[0m \u001b[1;33m\u001b[0m\u001b[0m\n\u001b[1;32m--> 891\u001b[1;33m             \u001b[0mself\u001b[0m\u001b[1;33m.\u001b[0m\u001b[0m_run_search\u001b[0m\u001b[1;33m(\u001b[0m\u001b[0mevaluate_candidates\u001b[0m\u001b[1;33m)\u001b[0m\u001b[1;33m\u001b[0m\u001b[1;33m\u001b[0m\u001b[0m\n\u001b[0m\u001b[0;32m    892\u001b[0m \u001b[1;33m\u001b[0m\u001b[0m\n\u001b[0;32m    893\u001b[0m             \u001b[1;31m# multimetric is determined here because in the case of a callable\u001b[0m\u001b[1;33m\u001b[0m\u001b[1;33m\u001b[0m\u001b[1;33m\u001b[0m\u001b[0m\n",
      "\u001b[1;32m~\\anaconda3\\lib\\site-packages\\sklearn\\model_selection\\_search.py\u001b[0m in \u001b[0;36m_run_search\u001b[1;34m(self, evaluate_candidates)\u001b[0m\n\u001b[0;32m   1390\u001b[0m     \u001b[1;32mdef\u001b[0m \u001b[0m_run_search\u001b[0m\u001b[1;33m(\u001b[0m\u001b[0mself\u001b[0m\u001b[1;33m,\u001b[0m \u001b[0mevaluate_candidates\u001b[0m\u001b[1;33m)\u001b[0m\u001b[1;33m:\u001b[0m\u001b[1;33m\u001b[0m\u001b[1;33m\u001b[0m\u001b[0m\n\u001b[0;32m   1391\u001b[0m         \u001b[1;34m\"\"\"Search all candidates in param_grid\"\"\"\u001b[0m\u001b[1;33m\u001b[0m\u001b[1;33m\u001b[0m\u001b[0m\n\u001b[1;32m-> 1392\u001b[1;33m         \u001b[0mevaluate_candidates\u001b[0m\u001b[1;33m(\u001b[0m\u001b[0mParameterGrid\u001b[0m\u001b[1;33m(\u001b[0m\u001b[0mself\u001b[0m\u001b[1;33m.\u001b[0m\u001b[0mparam_grid\u001b[0m\u001b[1;33m)\u001b[0m\u001b[1;33m)\u001b[0m\u001b[1;33m\u001b[0m\u001b[1;33m\u001b[0m\u001b[0m\n\u001b[0m\u001b[0;32m   1393\u001b[0m \u001b[1;33m\u001b[0m\u001b[0m\n\u001b[0;32m   1394\u001b[0m \u001b[1;33m\u001b[0m\u001b[0m\n",
      "\u001b[1;32m~\\anaconda3\\lib\\site-packages\\sklearn\\model_selection\\_search.py\u001b[0m in \u001b[0;36mevaluate_candidates\u001b[1;34m(candidate_params, cv, more_results)\u001b[0m\n\u001b[0;32m    836\u001b[0m                     )\n\u001b[0;32m    837\u001b[0m \u001b[1;33m\u001b[0m\u001b[0m\n\u001b[1;32m--> 838\u001b[1;33m                 out = parallel(\n\u001b[0m\u001b[0;32m    839\u001b[0m                     delayed(_fit_and_score)(\n\u001b[0;32m    840\u001b[0m                         \u001b[0mclone\u001b[0m\u001b[1;33m(\u001b[0m\u001b[0mbase_estimator\u001b[0m\u001b[1;33m)\u001b[0m\u001b[1;33m,\u001b[0m\u001b[1;33m\u001b[0m\u001b[1;33m\u001b[0m\u001b[0m\n",
      "\u001b[1;32m~\\anaconda3\\lib\\site-packages\\joblib\\parallel.py\u001b[0m in \u001b[0;36m__call__\u001b[1;34m(self, iterable)\u001b[0m\n\u001b[0;32m   1052\u001b[0m \u001b[1;33m\u001b[0m\u001b[0m\n\u001b[0;32m   1053\u001b[0m             \u001b[1;32mwith\u001b[0m \u001b[0mself\u001b[0m\u001b[1;33m.\u001b[0m\u001b[0m_backend\u001b[0m\u001b[1;33m.\u001b[0m\u001b[0mretrieval_context\u001b[0m\u001b[1;33m(\u001b[0m\u001b[1;33m)\u001b[0m\u001b[1;33m:\u001b[0m\u001b[1;33m\u001b[0m\u001b[1;33m\u001b[0m\u001b[0m\n\u001b[1;32m-> 1054\u001b[1;33m                 \u001b[0mself\u001b[0m\u001b[1;33m.\u001b[0m\u001b[0mretrieve\u001b[0m\u001b[1;33m(\u001b[0m\u001b[1;33m)\u001b[0m\u001b[1;33m\u001b[0m\u001b[1;33m\u001b[0m\u001b[0m\n\u001b[0m\u001b[0;32m   1055\u001b[0m             \u001b[1;31m# Make sure that we get a last message telling us we are done\u001b[0m\u001b[1;33m\u001b[0m\u001b[1;33m\u001b[0m\u001b[1;33m\u001b[0m\u001b[0m\n\u001b[0;32m   1056\u001b[0m             \u001b[0melapsed_time\u001b[0m \u001b[1;33m=\u001b[0m \u001b[0mtime\u001b[0m\u001b[1;33m.\u001b[0m\u001b[0mtime\u001b[0m\u001b[1;33m(\u001b[0m\u001b[1;33m)\u001b[0m \u001b[1;33m-\u001b[0m \u001b[0mself\u001b[0m\u001b[1;33m.\u001b[0m\u001b[0m_start_time\u001b[0m\u001b[1;33m\u001b[0m\u001b[1;33m\u001b[0m\u001b[0m\n",
      "\u001b[1;32m~\\anaconda3\\lib\\site-packages\\joblib\\parallel.py\u001b[0m in \u001b[0;36mretrieve\u001b[1;34m(self)\u001b[0m\n\u001b[0;32m    931\u001b[0m             \u001b[1;32mtry\u001b[0m\u001b[1;33m:\u001b[0m\u001b[1;33m\u001b[0m\u001b[1;33m\u001b[0m\u001b[0m\n\u001b[0;32m    932\u001b[0m                 \u001b[1;32mif\u001b[0m \u001b[0mgetattr\u001b[0m\u001b[1;33m(\u001b[0m\u001b[0mself\u001b[0m\u001b[1;33m.\u001b[0m\u001b[0m_backend\u001b[0m\u001b[1;33m,\u001b[0m \u001b[1;34m'supports_timeout'\u001b[0m\u001b[1;33m,\u001b[0m \u001b[1;32mFalse\u001b[0m\u001b[1;33m)\u001b[0m\u001b[1;33m:\u001b[0m\u001b[1;33m\u001b[0m\u001b[1;33m\u001b[0m\u001b[0m\n\u001b[1;32m--> 933\u001b[1;33m                     \u001b[0mself\u001b[0m\u001b[1;33m.\u001b[0m\u001b[0m_output\u001b[0m\u001b[1;33m.\u001b[0m\u001b[0mextend\u001b[0m\u001b[1;33m(\u001b[0m\u001b[0mjob\u001b[0m\u001b[1;33m.\u001b[0m\u001b[0mget\u001b[0m\u001b[1;33m(\u001b[0m\u001b[0mtimeout\u001b[0m\u001b[1;33m=\u001b[0m\u001b[0mself\u001b[0m\u001b[1;33m.\u001b[0m\u001b[0mtimeout\u001b[0m\u001b[1;33m)\u001b[0m\u001b[1;33m)\u001b[0m\u001b[1;33m\u001b[0m\u001b[1;33m\u001b[0m\u001b[0m\n\u001b[0m\u001b[0;32m    934\u001b[0m                 \u001b[1;32melse\u001b[0m\u001b[1;33m:\u001b[0m\u001b[1;33m\u001b[0m\u001b[1;33m\u001b[0m\u001b[0m\n\u001b[0;32m    935\u001b[0m                     \u001b[0mself\u001b[0m\u001b[1;33m.\u001b[0m\u001b[0m_output\u001b[0m\u001b[1;33m.\u001b[0m\u001b[0mextend\u001b[0m\u001b[1;33m(\u001b[0m\u001b[0mjob\u001b[0m\u001b[1;33m.\u001b[0m\u001b[0mget\u001b[0m\u001b[1;33m(\u001b[0m\u001b[1;33m)\u001b[0m\u001b[1;33m)\u001b[0m\u001b[1;33m\u001b[0m\u001b[1;33m\u001b[0m\u001b[0m\n",
      "\u001b[1;32m~\\anaconda3\\lib\\site-packages\\joblib\\_parallel_backends.py\u001b[0m in \u001b[0;36mwrap_future_result\u001b[1;34m(future, timeout)\u001b[0m\n\u001b[0;32m    540\u001b[0m         AsyncResults.get from multiprocessing.\"\"\"\n\u001b[0;32m    541\u001b[0m         \u001b[1;32mtry\u001b[0m\u001b[1;33m:\u001b[0m\u001b[1;33m\u001b[0m\u001b[1;33m\u001b[0m\u001b[0m\n\u001b[1;32m--> 542\u001b[1;33m             \u001b[1;32mreturn\u001b[0m \u001b[0mfuture\u001b[0m\u001b[1;33m.\u001b[0m\u001b[0mresult\u001b[0m\u001b[1;33m(\u001b[0m\u001b[0mtimeout\u001b[0m\u001b[1;33m=\u001b[0m\u001b[0mtimeout\u001b[0m\u001b[1;33m)\u001b[0m\u001b[1;33m\u001b[0m\u001b[1;33m\u001b[0m\u001b[0m\n\u001b[0m\u001b[0;32m    543\u001b[0m         \u001b[1;32mexcept\u001b[0m \u001b[0mCfTimeoutError\u001b[0m \u001b[1;32mas\u001b[0m \u001b[0me\u001b[0m\u001b[1;33m:\u001b[0m\u001b[1;33m\u001b[0m\u001b[1;33m\u001b[0m\u001b[0m\n\u001b[0;32m    544\u001b[0m             \u001b[1;32mraise\u001b[0m \u001b[0mTimeoutError\u001b[0m \u001b[1;32mfrom\u001b[0m \u001b[0me\u001b[0m\u001b[1;33m\u001b[0m\u001b[1;33m\u001b[0m\u001b[0m\n",
      "\u001b[1;32m~\\anaconda3\\lib\\concurrent\\futures\\_base.py\u001b[0m in \u001b[0;36mresult\u001b[1;34m(self, timeout)\u001b[0m\n\u001b[0;32m    432\u001b[0m                 \u001b[1;32mreturn\u001b[0m \u001b[0mself\u001b[0m\u001b[1;33m.\u001b[0m\u001b[0m__get_result\u001b[0m\u001b[1;33m(\u001b[0m\u001b[1;33m)\u001b[0m\u001b[1;33m\u001b[0m\u001b[1;33m\u001b[0m\u001b[0m\n\u001b[0;32m    433\u001b[0m \u001b[1;33m\u001b[0m\u001b[0m\n\u001b[1;32m--> 434\u001b[1;33m             \u001b[0mself\u001b[0m\u001b[1;33m.\u001b[0m\u001b[0m_condition\u001b[0m\u001b[1;33m.\u001b[0m\u001b[0mwait\u001b[0m\u001b[1;33m(\u001b[0m\u001b[0mtimeout\u001b[0m\u001b[1;33m)\u001b[0m\u001b[1;33m\u001b[0m\u001b[1;33m\u001b[0m\u001b[0m\n\u001b[0m\u001b[0;32m    435\u001b[0m \u001b[1;33m\u001b[0m\u001b[0m\n\u001b[0;32m    436\u001b[0m             \u001b[1;32mif\u001b[0m \u001b[0mself\u001b[0m\u001b[1;33m.\u001b[0m\u001b[0m_state\u001b[0m \u001b[1;32min\u001b[0m \u001b[1;33m[\u001b[0m\u001b[0mCANCELLED\u001b[0m\u001b[1;33m,\u001b[0m \u001b[0mCANCELLED_AND_NOTIFIED\u001b[0m\u001b[1;33m]\u001b[0m\u001b[1;33m:\u001b[0m\u001b[1;33m\u001b[0m\u001b[1;33m\u001b[0m\u001b[0m\n",
      "\u001b[1;32m~\\anaconda3\\lib\\threading.py\u001b[0m in \u001b[0;36mwait\u001b[1;34m(self, timeout)\u001b[0m\n\u001b[0;32m    300\u001b[0m         \u001b[1;32mtry\u001b[0m\u001b[1;33m:\u001b[0m    \u001b[1;31m# restore state no matter what (e.g., KeyboardInterrupt)\u001b[0m\u001b[1;33m\u001b[0m\u001b[1;33m\u001b[0m\u001b[0m\n\u001b[0;32m    301\u001b[0m             \u001b[1;32mif\u001b[0m \u001b[0mtimeout\u001b[0m \u001b[1;32mis\u001b[0m \u001b[1;32mNone\u001b[0m\u001b[1;33m:\u001b[0m\u001b[1;33m\u001b[0m\u001b[1;33m\u001b[0m\u001b[0m\n\u001b[1;32m--> 302\u001b[1;33m                 \u001b[0mwaiter\u001b[0m\u001b[1;33m.\u001b[0m\u001b[0macquire\u001b[0m\u001b[1;33m(\u001b[0m\u001b[1;33m)\u001b[0m\u001b[1;33m\u001b[0m\u001b[1;33m\u001b[0m\u001b[0m\n\u001b[0m\u001b[0;32m    303\u001b[0m                 \u001b[0mgotit\u001b[0m \u001b[1;33m=\u001b[0m \u001b[1;32mTrue\u001b[0m\u001b[1;33m\u001b[0m\u001b[1;33m\u001b[0m\u001b[0m\n\u001b[0;32m    304\u001b[0m             \u001b[1;32melse\u001b[0m\u001b[1;33m:\u001b[0m\u001b[1;33m\u001b[0m\u001b[1;33m\u001b[0m\u001b[0m\n",
      "\u001b[1;31mKeyboardInterrupt\u001b[0m: "
     ]
    }
   ],
   "source": [
    "gridSearch(modelRF, grid, X_train, y_train)"
   ]
  },
  {
   "cell_type": "code",
   "execution_count": null,
   "metadata": {},
   "outputs": [],
   "source": [
    "randomSearch(modelRF, grid, X_train, y_train)"
   ]
  },
  {
   "cell_type": "markdown",
   "metadata": {},
   "source": [
    "### 3. SVC"
   ]
  },
  {
   "cell_type": "code",
   "execution_count": null,
   "metadata": {},
   "outputs": [],
   "source": [
    "grid = {'C': [0.1, 10, 1000],\n",
    "        'gamma': [1, 0.01, 0.0001],\n",
    "        'kernel': ['rbf','poly', 'sigmoid']}"
   ]
  },
  {
   "cell_type": "code",
   "execution_count": null,
   "metadata": {},
   "outputs": [],
   "source": [
    "gridSearch(modelSVC, grid, X_train, y_train)"
   ]
  },
  {
   "cell_type": "code",
   "execution_count": null,
   "metadata": {
    "scrolled": true
   },
   "outputs": [],
   "source": [
    "randomSearch(modelSVC, grid, X_train, y_train)"
   ]
  },
  {
   "cell_type": "markdown",
   "metadata": {},
   "source": [
    "## Zobaczmy jak wyglądają wyniki metryk przed i po tuningu:"
   ]
  },
  {
   "cell_type": "code",
   "execution_count": 89,
   "metadata": {},
   "outputs": [],
   "source": [
    "def compareModels(model,model_grid, model_random, X_train,y_train,X_test,y_test):\n",
    "    model.fit(X_train, y_train)    \n",
    "    predictions1=model.predict(X_test)\n",
    "    model_grid.fit(X_train, y_train)    \n",
    "    predictions2=model_grid.predict(X_test)\n",
    "    model_random.fit(X_train, y_train)    \n",
    "    predictions3=model_random.predict(X_test)\n",
    "    \n",
    "    accuracy = [\"Accuracy\", accuracy_score(y_test, predictions1), \n",
    "                accuracy_score(y_test, predictions2), \n",
    "                accuracy_score(y_test, predictions3)]\n",
    "    errorrate = [\"Error rate\", 1-accuracy_score(y_test, predictions1),\n",
    "                 1-accuracy_score(y_test, predictions2),\n",
    "                1-accuracy_score(y_test, predictions3)]\n",
    "    precision = [\"Precision\", precision_score(y_test, predictions1,average='micro'), \n",
    "                 precision_score(y_test, predictions2,average='micro'),\n",
    "                 precision_score(y_test, predictions3,average='micro')]\n",
    "    f1 = [\"f1\", f1_score(y_test, predictions1, average='micro'), \n",
    "          f1_score(y_test, predictions2, average='micro'),\n",
    "          f1_score(y_test, predictions3, average='micro')]\n",
    "    auc = [\"AUC\", roc_auc_score(y_test,predictions1),\n",
    "           roc_auc_score(y_test,predictions2),\n",
    "           roc_auc_score(y_test,predictions3)]\n",
    "    cross_val = [\"Cross Validation\", \n",
    "                np.mean(cross_val_score(model, X_train, y_train, scoring='accuracy', cv=20, n_jobs=-1, error_score='raise')), \n",
    "                np.mean(cross_val_score(model_grid, X_train, y_train, scoring='accuracy', cv=20, n_jobs=-1, error_score='raise')),\n",
    "                np.mean(cross_val_score(model_random, X_train, y_train, scoring='accuracy', cv=20, n_jobs=-1, error_score='raise'))]\n",
    "    \n",
    "    comparison=[accuracy, errorrate, precision, f1, auc, cross_val]\n",
    "    return comparison"
   ]
  },
  {
   "cell_type": "markdown",
   "metadata": {},
   "source": [
    "### 1. Decision Tree"
   ]
  },
  {
   "cell_type": "code",
   "execution_count": null,
   "metadata": {
    "scrolled": true
   },
   "outputs": [],
   "source": [
    "modelDTGrid = DecisionTreeClassifier(criterion= 'entropy',\n",
    "                                   max_depth= 3,\n",
    "                                   max_features= 'sqrt',\n",
    "                                   min_samples_leaf= 2,\n",
    "                                   splitter= 'random', random_state=123)\n",
    "modelDTRandom= DecisionTreeClassifier(criterion= 'entropy',\n",
    "                                   max_depth= 3,\n",
    "                                   max_features= 'sqrt',\n",
    "                                   min_samples_leaf= 4,\n",
    "                                   splitter= 'random', random_state=123)\n",
    "comparisonDT = compareModels(modelDT, modelDTGrid, modelDTRandom, X_train,y_train,X_test,y_test)\n",
    "pd.DataFrame(comparisonDT, columns=[\"metric\", \"default_params\", \"gridSearch\", \"randomSearch\"])"
   ]
  },
  {
   "cell_type": "markdown",
   "metadata": {},
   "source": [
    "Widzimy, że accuracy, precision, f1 i cross validation zwiększyły wartości po optymalizacji za pomocą grid i random. AUC w obu przypadkach zmalało"
   ]
  },
  {
   "cell_type": "markdown",
   "metadata": {},
   "source": [
    "### 2. Random Forest"
   ]
  },
  {
   "cell_type": "code",
   "execution_count": null,
   "metadata": {},
   "outputs": [],
   "source": [
    "modelRFgrid = RandomForestClassifier(bootstrap= True,\n",
    "                                     max_depth= 10,\n",
    "                                     max_features= 'auto',\n",
    "                                     min_samples_leaf= 2,\n",
    "                                     n_estimators= 50)\n",
    "modelRFrandom= RandomForestClassifier(bootstrap= True,\n",
    "                                     max_depth= 10,\n",
    "                                     max_features= 'auto',\n",
    "                                     min_samples_leaf= 4,\n",
    "                                     n_estimators= 200)\n",
    "comparisonRF = compareModels(modelRF, modelRFgrid, modelRFrandom, X_train,y_train,X_test,y_test)\n",
    "pd.DataFrame(comparisonRF, columns=[\"metric\", \"default_params\", \"gridSearch\", \"randomSearch\"])"
   ]
  },
  {
   "cell_type": "markdown",
   "metadata": {},
   "source": [
    "Zauważamy, że w przypadku RandomForest wartości metryk są najwyższe przy użyciu modelu z domyślnymi wartościami hiperparametrów "
   ]
  },
  {
   "cell_type": "markdown",
   "metadata": {},
   "source": [
    "### 3. SVC"
   ]
  },
  {
   "cell_type": "code",
   "execution_count": null,
   "metadata": {
    "scrolled": true
   },
   "outputs": [],
   "source": [
    "modelSVCgrid = SVC(C= 0.1,\n",
    "                   gamma= 1,\n",
    "                   kernel= 'rbf')\n",
    "modelSVCrandom= SVC(C= 0.1,\n",
    "                   gamma= 1,\n",
    "                   kernel= 'rbf')\n",
    "comparisonSVC = compareModels(modelSVC, modelSVCgrid, modelSVCrandom, X_train,y_train,X_test,y_test)\n",
    "pd.DataFrame(comparisonSVC, columns=[\"metric\", \"default_params\", \"gridSearch\", \"randomSearch\"])"
   ]
  },
  {
   "cell_type": "markdown",
   "metadata": {},
   "source": [
    "W svc nie zmieniły się wartości naszych metryk, co oznacza ze hiperparametry domyślne są najlepsze."
   ]
  },
  {
   "cell_type": "markdown",
   "metadata": {},
   "source": [
    "### Podsumowanie\n",
    "- Początkowo: sprawdziliśmy braki danych, typy zmiennych i ich unikalne wartości, zmieniłyśmy wartości odstające na wartości w odpowiednich kwantylach oraz kierunek korelacji na dodatni, znormalizowałyśmy zmienne ciągłe przy użyciu MinMaxScaler().\n",
    "- Ograniczyłyśmy ilość zmiennych przez zostawienie najważniejszych kolumn według feature_importance modelu Random Forest.\n",
    "- Jedynie w przypadku modelu DecisionTree optymalizacja z pomocą grid i random zwiększyła wartości naszych metryk.\n",
    "- Najbardziej prosperującym modelem jest Random Forest z hiperparamtertami domyślnymi."
   ]
  },
  {
   "cell_type": "markdown",
   "metadata": {},
   "source": [
    "# Walidacja\n",
    "#### Autorzy:\n",
    "- Szymon Gut\n",
    "\n",
    "- Jan Krężel\n"
   ]
  },
  {
   "cell_type": "markdown",
   "metadata": {},
   "source": [
    "Wstępna faza preprocessingu na plus. Zespół budujący pamietał o zajęciu się outlierami, zadbał o poprawienie wartości wchodzących z ujemną korelacją oraz co najważniejsze zadbał o normalizacje MinMax. Jest to przydatne gdyż algorytm SVM dobrze radzi sobie z znormalizowanymi zmiennymi (z przedziału -1 : 1)"
   ]
  },
  {
   "cell_type": "code",
   "execution_count": 56,
   "metadata": {},
   "outputs": [],
   "source": [
    "#skorzystajmy więc z tych funkcji na naszym zbiorze df_val\n",
    "df_val = outliers_to_quantiles(df_val)\n",
    "df_val = make_corr_positive(df_val)\n"
   ]
  },
  {
   "cell_type": "markdown",
   "metadata": {},
   "source": [
    "Skorzystamy juz z wybranych featersow uzyskanych metoda selectFromModel, której użył zespół budujący\n"
   ]
  },
  {
   "cell_type": "code",
   "execution_count": 57,
   "metadata": {},
   "outputs": [
    {
     "data": {
      "text/plain": [
       "Index(['Bankrupt?', ' ROA(A) before interest and % after tax',\n",
       "       ' Operating Gross Margin', ' Operating Profit Rate',\n",
       "       ' Pre-tax net Interest Rate', ' After-tax net Interest Rate',\n",
       "       ' Non-industry income and expenditure/revenue',\n",
       "       ' Research and development expense rate', ' Tax rate (A)',\n",
       "       ' Net Value Per Share (B)', ' Net Value Per Share (A)',\n",
       "       ' Net Value Per Share (C)', ' Operating Profit Per Share (Yuan ¥)',\n",
       "       ' Regular Net Profit Growth Rate', ' Total Asset Growth Rate',\n",
       "       ' Net Value Growth Rate', ' Quick Ratio', ' Total debt/Total net worth',\n",
       "       ' Debt ratio %', ' Long-term fund suitability ratio (A)',\n",
       "       ' Operating profit/Paid-in capital',\n",
       "       ' Net profit before tax/Paid-in capital', ' Revenue per person',\n",
       "       ' Allocation rate per person', ' Working Capital to Total Assets',\n",
       "       ' Current Assets/Total Assets', ' Operating Funds to Liability',\n",
       "       ' Inventory/Current Liability', ' Current Liabilities/Liability',\n",
       "       ' Long-term Liability to Current Assets',\n",
       "       ' Retained Earnings to Total Assets', ' Quick Asset Turnover Rate',\n",
       "       ' Fixed Assets to Assets', ' Current Liability to Liability',\n",
       "       ' Current Liability to Equity', ' Cash Flow to Equity',\n",
       "       ' Current Liability to Current Assets', ' Total assets to GNP price',\n",
       "       ' Gross Profit to Sales', ' Net Income to Stockholder's Equity',\n",
       "       ' Liability to Equity', ' Degree of Financial Leverage (DFL)',\n",
       "       ' Interest Coverage Ratio (Interest expense to EBIT)'],\n",
       "      dtype='object')"
      ]
     },
     "execution_count": 57,
     "metadata": {},
     "output_type": "execute_result"
    }
   ],
   "source": [
    "selected_feat"
   ]
  },
  {
   "cell_type": "markdown",
   "metadata": {},
   "source": [
    "Bedziemy jednak chcieli wyprobowac rowniez PCA w celu znalezienia najistotniejszych cech i nastepnie porównamy wyniki z metodą SelectFromModel"
   ]
  },
  {
   "cell_type": "code",
   "execution_count": 58,
   "metadata": {},
   "outputs": [
    {
     "data": {
      "text/plain": [
       "93"
      ]
     },
     "execution_count": 58,
     "metadata": {},
     "output_type": "execute_result"
    }
   ],
   "source": [
    "len(sel.estimator_.feature_importances_.ravel())"
   ]
  },
  {
   "cell_type": "code",
   "execution_count": 59,
   "metadata": {},
   "outputs": [
    {
     "data": {
      "text/plain": [
       "<matplotlib.axes._subplots.AxesSubplot at 0x1f46a790ac0>"
      ]
     },
     "execution_count": 59,
     "metadata": {},
     "output_type": "execute_result"
    },
    {
     "data": {
      "image/png": "[encoded data removed]",
      "text/plain": [
       "<Figure size 432x288 with 1 Axes>"
      ]
     },
     "metadata": {
      "needs_background": "light"
     },
     "output_type": "display_data"
    }
   ],
   "source": [
    "pd.Series(sel.estimator_.feature_importances_.ravel()).hist()"
   ]
  },
  {
   "cell_type": "code",
   "execution_count": 61,
   "metadata": {},
   "outputs": [],
   "source": [
    "df_val = df_val[selected_feat]\n"
   ]
  },
  {
   "cell_type": "code",
   "execution_count": 63,
   "metadata": {},
   "outputs": [],
   "source": [
    "X_val, X_test, y_val, y_test= normalize_and_split(df_train)"
   ]
  },
  {
   "cell_type": "markdown",
   "metadata": {},
   "source": [
    "# Porównajmy wyniki "
   ]
  },
  {
   "cell_type": "markdown",
   "metadata": {},
   "source": [
    "zmodyfikujemy lekko funkcje zespołu budującego dodając do niej accuracy balanced, gdyż jak możemy pamiętać z hw3 nasz zbiór danych jest bardzo mocno nie zbalansowany jeśli chodzi o zmienna `bankruptcy`"
   ]
  },
  {
   "cell_type": "code",
   "execution_count": 94,
   "metadata": {},
   "outputs": [],
   "source": [
    "from sklearn.metrics import balanced_accuracy_score"
   ]
  },
  {
   "cell_type": "code",
   "execution_count": 99,
   "metadata": {},
   "outputs": [],
   "source": [
    "def compareModels_val(model,model_grid, model_random, X_train,y_train,X_test,y_test):\n",
    "    model.fit(X_train, y_train)    \n",
    "    predictions1=model.predict(X_test)\n",
    "    model_grid.fit(X_train, y_train)    \n",
    "    predictions2=model_grid.predict(X_test)\n",
    "    model_random.fit(X_train, y_train)    \n",
    "    predictions3=model_random.predict(X_test)\n",
    "    \n",
    "    accuracy = [\"Accuracy\", accuracy_score(y_test, predictions1), \n",
    "                accuracy_score(y_test, predictions2), \n",
    "                accuracy_score(y_test, predictions3)]\n",
    "    errorrate = [\"Error rate\", 1-accuracy_score(y_test, predictions1),\n",
    "                 1-accuracy_score(y_test, predictions2),\n",
    "                1-accuracy_score(y_test, predictions3)]\n",
    "    precision = [\"Precision\", precision_score(y_test, predictions1,average='micro'), \n",
    "                 precision_score(y_test, predictions2,average='micro'),\n",
    "                 precision_score(y_test, predictions3,average='micro')]\n",
    "    f1 = [\"f1\", f1_score(y_test, predictions1, average='micro'), \n",
    "          f1_score(y_test, predictions2, average='micro'),\n",
    "          f1_score(y_test, predictions3, average='micro')]\n",
    "    auc = [\"AUC\", roc_auc_score(y_test,predictions1),\n",
    "           roc_auc_score(y_test,predictions2),\n",
    "           roc_auc_score(y_test,predictions3)]\n",
    "    balanced_accuracy = [\"accuracy_balanced\", balanced_accuracy_score(y_test, predictions1), \n",
    "          balanced_accuracy_score(y_test, predictions2),\n",
    "          balanced_accuracy_score(y_test, predictions3)]\n",
    "    cross_val = [\"Cross Validation\", \n",
    "                np.mean(cross_val_score(model, X_train, y_train, scoring='accuracy', cv=20, n_jobs=-1, error_score='raise')), \n",
    "                np.mean(cross_val_score(model_grid, X_train, y_train, scoring='accuracy', cv=20, n_jobs=-1, error_score='raise')),\n",
    "                np.mean(cross_val_score(model_random, X_train, y_train, scoring='accuracy', cv=20, n_jobs=-1, error_score='raise'))]\n",
    "    \n",
    "    comparison=[accuracy, errorrate, precision, f1, auc, balanced_accuracy, cross_val]\n",
    "    return comparison"
   ]
  },
  {
   "cell_type": "markdown",
   "metadata": {},
   "source": [
    "## 1. Decision tree"
   ]
  },
  {
   "cell_type": "code",
   "execution_count": 64,
   "metadata": {},
   "outputs": [
    {
     "name": "stdout",
     "output_type": "stream",
     "text": [
      "accuracy:  0.9608938547486033\n",
      "error rate 0.03910614525139666\n",
      "recall:  0.9608938547486033\n",
      "precision:  0.9608938547486033\n",
      "f1_micro:  0.9608938547486033\n",
      "auc:  0.6330070895288286\n",
      "cross_validation:  0.9509160250926719\n",
      "              precision    recall  f1-score   support\n",
      "\n",
      "           0       0.98      0.98      0.98      1386\n",
      "           1       0.36      0.28      0.32        46\n",
      "\n",
      "    accuracy                           0.96      1432\n",
      "   macro avg       0.67      0.63      0.65      1432\n",
      "weighted avg       0.96      0.96      0.96      1432\n",
      "\n"
     ]
    },
    {
     "data": {
      "image/png": "[encoded data removed]",
      "text/plain": [
       "<Figure size 432x288 with 1 Axes>"
      ]
     },
     "metadata": {
      "needs_background": "light"
     },
     "output_type": "display_data"
    }
   ],
   "source": [
    "modelDT_val = DecisionTreeClassifier()\n",
    "\n",
    "trainModel(modelDT_val, X_val, y_val, X_test, y_test)"
   ]
  },
  {
   "cell_type": "markdown",
   "metadata": {},
   "source": [
    "### 2. Random Forest"
   ]
  },
  {
   "cell_type": "code",
   "execution_count": 65,
   "metadata": {},
   "outputs": [
    {
     "name": "stdout",
     "output_type": "stream",
     "text": [
      "accuracy:  0.9713687150837989\n",
      "error rate 0.02863128491620115\n",
      "recall:  0.9713687150837989\n",
      "precision:  0.9713687150837989\n",
      "f1_micro:  0.9713687150837989\n",
      "auc:  0.5753654558002383\n",
      "cross_validation:  0.9688711861990305\n",
      "              precision    recall  f1-score   support\n",
      "\n",
      "           0       0.97      1.00      0.99      1386\n",
      "           1       0.78      0.15      0.25        46\n",
      "\n",
      "    accuracy                           0.97      1432\n",
      "   macro avg       0.88      0.58      0.62      1432\n",
      "weighted avg       0.97      0.97      0.96      1432\n",
      "\n"
     ]
    },
    {
     "data": {
      "image/png": "[encoded data removed]",
      "text/plain": [
       "<Figure size 432x288 with 1 Axes>"
      ]
     },
     "metadata": {
      "needs_background": "light"
     },
     "output_type": "display_data"
    }
   ],
   "source": [
    "modelRF_val = RandomForestClassifier()\n",
    "\n",
    "trainModel(modelRF_val, X_val, y_val, X_test, y_test)"
   ]
  },
  {
   "cell_type": "markdown",
   "metadata": {},
   "source": [
    "### 3. SVC (Support Vector Machine)"
   ]
  },
  {
   "cell_type": "code",
   "execution_count": 67,
   "metadata": {},
   "outputs": [
    {
     "name": "stdout",
     "output_type": "stream",
     "text": [
      "accuracy:  0.9678770949720671\n",
      "error rate 0.03212290502793291\n",
      "recall:  0.9678770949720671\n",
      "precision:  0.9678770949720671\n",
      "f1_micro:  0.9678770949720671\n",
      "auc:  0.5\n",
      "cross_validation:  0.9676753635585971\n",
      "              precision    recall  f1-score   support\n",
      "\n",
      "           0       0.97      1.00      0.98      1386\n",
      "           1       0.00      0.00      0.00        46\n",
      "\n",
      "    accuracy                           0.97      1432\n",
      "   macro avg       0.48      0.50      0.49      1432\n",
      "weighted avg       0.94      0.97      0.95      1432\n",
      "\n"
     ]
    },
    {
     "data": {
      "image/png": "[encoded data removed]",
      "text/plain": [
       "<Figure size 432x288 with 1 Axes>"
      ]
     },
     "metadata": {
      "needs_background": "light"
     },
     "output_type": "display_data"
    }
   ],
   "source": [
    "modelSVC_val = SVC()\n",
    "\n",
    "trainModel(modelSVC_val, X_val, y_val, X_test, y_test)"
   ]
  },
  {
   "cell_type": "markdown",
   "metadata": {},
   "source": [
    "Wykorzystamy funkcje zespołu budującego jednak lekko zmienimy parametry zawarte w slowniku `grid`"
   ]
  },
  {
   "cell_type": "markdown",
   "metadata": {},
   "source": [
    "### 1. Decision tree"
   ]
  },
  {
   "cell_type": "code",
   "execution_count": 68,
   "metadata": {},
   "outputs": [],
   "source": [
    "max_depth=[3,5,7]\n",
    "max_features = ['auto', 'sqrt']\n",
    "min_samples_leaf = [2, 4]\n",
    "grid = {'max_features' : max_features,\n",
    "        'max_depth': max_depth,\n",
    "        'min_samples_leaf': min_samples_leaf,\n",
    "        'splitter': ['best', 'random'],\n",
    "        \"criterion\": [\"gini\", \"entropy\"],\n",
    "       ''}"
   ]
  },
  {
   "cell_type": "code",
   "execution_count": 69,
   "metadata": {},
   "outputs": [
    {
     "name": "stdout",
     "output_type": "stream",
     "text": [
      "Best score (gridSearch): 0.9679736050287481\n",
      "Best hyperparameters: {'criterion': 'gini', 'max_depth': 3, 'max_features': 'auto', 'min_samples_leaf': 2, 'splitter': 'random'}\n"
     ]
    }
   ],
   "source": [
    "gridSearch(modelDT_val, grid, X_val, y_val)"
   ]
  },
  {
   "cell_type": "markdown",
   "metadata": {},
   "source": [
    "Score praktycznie taki sam. Na 6 miejscu po przecinku dopiero zauważamy minimalny wzrost wydajności. Parametry wybrane wcześniej możemy zatem uznać za dobre."
   ]
  },
  {
   "cell_type": "code",
   "execution_count": 70,
   "metadata": {},
   "outputs": [
    {
     "name": "stdout",
     "output_type": "stream",
     "text": [
      "Best score (randomSearch): 0.9679733071171089\n",
      "Best hyperparameters: {'splitter': 'random', 'min_samples_leaf': 2, 'max_features': 'sqrt', 'max_depth': 5, 'criterion': 'entropy'}\n"
     ]
    }
   ],
   "source": [
    "randomSearch(modelDT_val, grid, X_val, y_val)"
   ]
  },
  {
   "cell_type": "markdown",
   "metadata": {},
   "source": [
    "### 2. Random Forest"
   ]
  },
  {
   "cell_type": "code",
   "execution_count": 71,
   "metadata": {},
   "outputs": [],
   "source": [
    "n_estimators = [50,100,200]\n",
    "max_features = ['auto', 'sqrt']\n",
    "max_depth = [30,40,50]\n",
    "min_samples_leaf = [1, 2, 3]\n",
    "bootstrap = [True, False]\n",
    "grid = dict(n_estimators=n_estimators,max_features= max_features,max_depth= max_depth,\n",
    "            min_samples_leaf=min_samples_leaf,bootstrap= bootstrap)"
   ]
  },
  {
   "cell_type": "code",
   "execution_count": 72,
   "metadata": {
    "scrolled": true
   },
   "outputs": [
    {
     "name": "stdout",
     "output_type": "stream",
     "text": [
      "Best score (gridSearch): 0.9690708135966872\n",
      "Best hyperparameters: {'bootstrap': True, 'max_depth': 50, 'max_features': 'sqrt', 'min_samples_leaf': 3, 'n_estimators': 100}\n"
     ]
    }
   ],
   "source": [
    "gridSearch(modelRF_val, grid, X_val, y_val)"
   ]
  },
  {
   "cell_type": "markdown",
   "metadata": {},
   "source": [
    "Uzyskany wynik jest minimalnie lepszy, niż ten uzyskany przez zespół budujący. Wcześniej score: 0.968 teraz 0.969"
   ]
  },
  {
   "cell_type": "code",
   "execution_count": 79,
   "metadata": {},
   "outputs": [],
   "source": [
    "n_estimators = np.random.randint(50,200,20)\n",
    "max_features = ['auto', 'sqrt']\n",
    "max_depth = np.random.randint(30,50,5)\n",
    "min_samples_leaf = np.random.randint(1,4,3)\n",
    "bootstrap = [True, False]\n",
    "grid = dict(n_estimators=n_estimators,max_features= max_features,max_depth= max_depth,\n",
    "            min_samples_leaf=min_samples_leaf,bootstrap= bootstrap)"
   ]
  },
  {
   "cell_type": "code",
   "execution_count": 80,
   "metadata": {},
   "outputs": [
    {
     "name": "stdout",
     "output_type": "stream",
     "text": [
      "Best score (randomSearch): 0.9688712127982839\n",
      "Best hyperparameters: {'n_estimators': 138, 'min_samples_leaf': 3, 'max_features': 'auto', 'max_depth': 38, 'bootstrap': True}\n"
     ]
    }
   ],
   "source": [
    "randomSearch(modelRF_val, grid, X_val, y_val)"
   ]
  },
  {
   "cell_type": "markdown",
   "metadata": {},
   "source": [
    "### 3. SVC"
   ]
  },
  {
   "cell_type": "code",
   "execution_count": null,
   "metadata": {},
   "outputs": [],
   "source": [
    "from scipy.stats import uniform"
   ]
  },
  {
   "cell_type": "code",
   "execution_count": 84,
   "metadata": {},
   "outputs": [],
   "source": [
    "grid = {'C': [0.1,0.5,1],\n",
    "        'gamma': np.random.uniform(0.1,1,3),\n",
    "        'kernel': ['rbf']}"
   ]
  },
  {
   "cell_type": "code",
   "execution_count": 85,
   "metadata": {},
   "outputs": [
    {
     "name": "stdout",
     "output_type": "stream",
     "text": [
      "Best score (gridSearch): 0.9676745017427828\n",
      "Best hyperparameters: {'C': 0.1, 'gamma': 0.2990254335737369, 'kernel': 'rbf'}\n"
     ]
    }
   ],
   "source": [
    "gridSearch(modelSVC_val, grid, X_val, y_val)"
   ]
  },
  {
   "cell_type": "code",
   "execution_count": 86,
   "metadata": {},
   "outputs": [],
   "source": [
    "grid = {'C': np.random.uniform(0.01,1,15),\n",
    "        'gamma': np.random.uniform(0.001,1,20),\n",
    "        'kernel': ['rbf']}"
   ]
  },
  {
   "cell_type": "code",
   "execution_count": 87,
   "metadata": {},
   "outputs": [
    {
     "name": "stdout",
     "output_type": "stream",
     "text": [
      "Best score (randomSearch): 0.9676745017427828\n",
      "Best hyperparameters: {'kernel': 'rbf', 'gamma': 0.4707996248153804, 'C': 0.9862852145961778}\n"
     ]
    }
   ],
   "source": [
    "randomSearch(modelSVC_val, grid, X_val, y_val)"
   ]
  },
  {
   "cell_type": "markdown",
   "metadata": {},
   "source": [
    "# Porównanie metryk po i przed tuningiem"
   ]
  },
  {
   "cell_type": "markdown",
   "metadata": {},
   "source": [
    "### Decision Tree\n"
   ]
  },
  {
   "cell_type": "code",
   "execution_count": 100,
   "metadata": {},
   "outputs": [
    {
     "data": {
      "text/html": [
       "<div>\n",
       "<style scoped>\n",
       "    .dataframe tbody tr th:only-of-type {\n",
       "        vertical-align: middle;\n",
       "    }\n",
       "\n",
       "    .dataframe tbody tr th {\n",
       "        vertical-align: top;\n",
       "    }\n",
       "\n",
       "    .dataframe thead th {\n",
       "        text-align: right;\n",
       "    }\n",
       "</style>\n",
       "<table border=\"1\" class=\"dataframe\">\n",
       "  <thead>\n",
       "    <tr style=\"text-align: right;\">\n",
       "      <th></th>\n",
       "      <th>metric</th>\n",
       "      <th>default_params</th>\n",
       "      <th>gridSearch</th>\n",
       "      <th>randomSearch</th>\n",
       "    </tr>\n",
       "  </thead>\n",
       "  <tbody>\n",
       "    <tr>\n",
       "      <th>0</th>\n",
       "      <td>Accuracy</td>\n",
       "      <td>0.957402</td>\n",
       "      <td>0.969274</td>\n",
       "      <td>0.969274</td>\n",
       "    </tr>\n",
       "    <tr>\n",
       "      <th>1</th>\n",
       "      <td>Error rate</td>\n",
       "      <td>0.042598</td>\n",
       "      <td>0.030726</td>\n",
       "      <td>0.030726</td>\n",
       "    </tr>\n",
       "    <tr>\n",
       "      <th>2</th>\n",
       "      <td>Precision</td>\n",
       "      <td>0.957402</td>\n",
       "      <td>0.969274</td>\n",
       "      <td>0.969274</td>\n",
       "    </tr>\n",
       "    <tr>\n",
       "      <th>3</th>\n",
       "      <td>f1</td>\n",
       "      <td>0.957402</td>\n",
       "      <td>0.969274</td>\n",
       "      <td>0.969274</td>\n",
       "    </tr>\n",
       "    <tr>\n",
       "      <th>4</th>\n",
       "      <td>AUC</td>\n",
       "      <td>0.599677</td>\n",
       "      <td>0.521739</td>\n",
       "      <td>0.521739</td>\n",
       "    </tr>\n",
       "    <tr>\n",
       "      <th>5</th>\n",
       "      <td>accuracy_balanced</td>\n",
       "      <td>0.599677</td>\n",
       "      <td>0.521739</td>\n",
       "      <td>0.521739</td>\n",
       "    </tr>\n",
       "    <tr>\n",
       "      <th>6</th>\n",
       "      <td>Cross Validation</td>\n",
       "      <td>0.952114</td>\n",
       "      <td>0.967675</td>\n",
       "      <td>0.967376</td>\n",
       "    </tr>\n",
       "  </tbody>\n",
       "</table>\n",
       "</div>"
      ],
      "text/plain": [
       "              metric  default_params  gridSearch  randomSearch\n",
       "0           Accuracy        0.957402    0.969274      0.969274\n",
       "1         Error rate        0.042598    0.030726      0.030726\n",
       "2          Precision        0.957402    0.969274      0.969274\n",
       "3                 f1        0.957402    0.969274      0.969274\n",
       "4                AUC        0.599677    0.521739      0.521739\n",
       "5  accuracy_balanced        0.599677    0.521739      0.521739\n",
       "6   Cross Validation        0.952114    0.967675      0.967376"
      ]
     },
     "execution_count": 100,
     "metadata": {},
     "output_type": "execute_result"
    }
   ],
   "source": [
    "modelDTGrid_val = DecisionTreeClassifier(criterion= 'gini',\n",
    "                                   max_depth= 3,\n",
    "                                   max_features= 'auto',\n",
    "                                   min_samples_leaf= 2,\n",
    "                                   splitter= 'random', random_state=123)\n",
    "modelDTRandom_val = DecisionTreeClassifier(criterion= 'entropy',\n",
    "                                   max_depth= 5,\n",
    "                                   max_features= 'sqrt',\n",
    "                                   min_samples_leaf= 2,\n",
    "                                   splitter= 'random', random_state=123)\n",
    "comparisonDT = compareModels_val(modelDT_val, modelDTGrid_val, modelDTRandom_val, X_val,y_val,X_test,y_test)\n",
    "pd.DataFrame(comparisonDT, columns=[\"metric\", \"default_params\", \"gridSearch\", \"randomSearch\"])"
   ]
  },
  {
   "cell_type": "markdown",
   "metadata": {},
   "source": [
    "### Random Forest"
   ]
  },
  {
   "cell_type": "code",
   "execution_count": 105,
   "metadata": {},
   "outputs": [
    {
     "data": {
      "text/html": [
       "<div>\n",
       "<style scoped>\n",
       "    .dataframe tbody tr th:only-of-type {\n",
       "        vertical-align: middle;\n",
       "    }\n",
       "\n",
       "    .dataframe tbody tr th {\n",
       "        vertical-align: top;\n",
       "    }\n",
       "\n",
       "    .dataframe thead th {\n",
       "        text-align: right;\n",
       "    }\n",
       "</style>\n",
       "<table border=\"1\" class=\"dataframe\">\n",
       "  <thead>\n",
       "    <tr style=\"text-align: right;\">\n",
       "      <th></th>\n",
       "      <th>metric</th>\n",
       "      <th>default_params</th>\n",
       "      <th>gridSearch</th>\n",
       "      <th>randomSearch</th>\n",
       "    </tr>\n",
       "  </thead>\n",
       "  <tbody>\n",
       "    <tr>\n",
       "      <th>0</th>\n",
       "      <td>Accuracy</td>\n",
       "      <td>0.973464</td>\n",
       "      <td>0.972067</td>\n",
       "      <td>0.972765</td>\n",
       "    </tr>\n",
       "    <tr>\n",
       "      <th>1</th>\n",
       "      <td>Error rate</td>\n",
       "      <td>0.026536</td>\n",
       "      <td>0.027933</td>\n",
       "      <td>0.027235</td>\n",
       "    </tr>\n",
       "    <tr>\n",
       "      <th>2</th>\n",
       "      <td>Precision</td>\n",
       "      <td>0.973464</td>\n",
       "      <td>0.972067</td>\n",
       "      <td>0.972765</td>\n",
       "    </tr>\n",
       "    <tr>\n",
       "      <th>3</th>\n",
       "      <td>f1</td>\n",
       "      <td>0.973464</td>\n",
       "      <td>0.972067</td>\n",
       "      <td>0.972765</td>\n",
       "    </tr>\n",
       "    <tr>\n",
       "      <th>4</th>\n",
       "      <td>AUC</td>\n",
       "      <td>0.597465</td>\n",
       "      <td>0.575726</td>\n",
       "      <td>0.586596</td>\n",
       "    </tr>\n",
       "    <tr>\n",
       "      <th>5</th>\n",
       "      <td>accuracy_balanced</td>\n",
       "      <td>0.597465</td>\n",
       "      <td>0.575726</td>\n",
       "      <td>0.586596</td>\n",
       "    </tr>\n",
       "    <tr>\n",
       "      <th>6</th>\n",
       "      <td>Cross Validation</td>\n",
       "      <td>0.967378</td>\n",
       "      <td>0.967675</td>\n",
       "      <td>0.967376</td>\n",
       "    </tr>\n",
       "  </tbody>\n",
       "</table>\n",
       "</div>"
      ],
      "text/plain": [
       "              metric  default_params  gridSearch  randomSearch\n",
       "0           Accuracy        0.973464    0.972067      0.972765\n",
       "1         Error rate        0.026536    0.027933      0.027235\n",
       "2          Precision        0.973464    0.972067      0.972765\n",
       "3                 f1        0.973464    0.972067      0.972765\n",
       "4                AUC        0.597465    0.575726      0.586596\n",
       "5  accuracy_balanced        0.597465    0.575726      0.586596\n",
       "6   Cross Validation        0.967378    0.967675      0.967376"
      ]
     },
     "execution_count": 105,
     "metadata": {},
     "output_type": "execute_result"
    }
   ],
   "source": [
    "modelRFgrid_val = RandomForestClassifier(bootstrap= True,\n",
    "                                     max_depth= 50,\n",
    "                                     max_features= 'sqrt',\n",
    "                                     min_samples_leaf= 3,\n",
    "                                     n_estimators= 100)\n",
    "modelRFrandom_val = RandomForestClassifier(bootstrap= True,\n",
    "                                     max_depth= 38,\n",
    "                                     max_features= 'auto',\n",
    "                                     min_samples_leaf= 3,\n",
    "                                     n_estimators= 138)\n",
    "comparisonRF = compareModels_val(modelRF_val, modelRFgrid_val, modelRFrandom_val, X_val,y_val,X_test,y_test)\n",
    "pd.DataFrame(comparisonRF, columns=[\"metric\", \"default_params\", \"gridSearch\", \"randomSearch\"])"
   ]
  },
  {
   "cell_type": "markdown",
   "metadata": {},
   "source": [
    "### SVC"
   ]
  },
  {
   "cell_type": "code",
   "execution_count": 104,
   "metadata": {},
   "outputs": [
    {
     "data": {
      "text/html": [
       "<div>\n",
       "<style scoped>\n",
       "    .dataframe tbody tr th:only-of-type {\n",
       "        vertical-align: middle;\n",
       "    }\n",
       "\n",
       "    .dataframe tbody tr th {\n",
       "        vertical-align: top;\n",
       "    }\n",
       "\n",
       "    .dataframe thead th {\n",
       "        text-align: right;\n",
       "    }\n",
       "</style>\n",
       "<table border=\"1\" class=\"dataframe\">\n",
       "  <thead>\n",
       "    <tr style=\"text-align: right;\">\n",
       "      <th></th>\n",
       "      <th>metric</th>\n",
       "      <th>default_params</th>\n",
       "      <th>gridSearch</th>\n",
       "      <th>randomSearch</th>\n",
       "    </tr>\n",
       "  </thead>\n",
       "  <tbody>\n",
       "    <tr>\n",
       "      <th>0</th>\n",
       "      <td>Accuracy</td>\n",
       "      <td>0.967877</td>\n",
       "      <td>0.967877</td>\n",
       "      <td>0.967877</td>\n",
       "    </tr>\n",
       "    <tr>\n",
       "      <th>1</th>\n",
       "      <td>Error rate</td>\n",
       "      <td>0.032123</td>\n",
       "      <td>0.032123</td>\n",
       "      <td>0.032123</td>\n",
       "    </tr>\n",
       "    <tr>\n",
       "      <th>2</th>\n",
       "      <td>Precision</td>\n",
       "      <td>0.967877</td>\n",
       "      <td>0.967877</td>\n",
       "      <td>0.967877</td>\n",
       "    </tr>\n",
       "    <tr>\n",
       "      <th>3</th>\n",
       "      <td>f1</td>\n",
       "      <td>0.967877</td>\n",
       "      <td>0.967877</td>\n",
       "      <td>0.967877</td>\n",
       "    </tr>\n",
       "    <tr>\n",
       "      <th>4</th>\n",
       "      <td>AUC</td>\n",
       "      <td>0.500000</td>\n",
       "      <td>0.500000</td>\n",
       "      <td>0.500000</td>\n",
       "    </tr>\n",
       "    <tr>\n",
       "      <th>5</th>\n",
       "      <td>accuracy_balanced</td>\n",
       "      <td>0.500000</td>\n",
       "      <td>0.500000</td>\n",
       "      <td>0.500000</td>\n",
       "    </tr>\n",
       "    <tr>\n",
       "      <th>6</th>\n",
       "      <td>Cross Validation</td>\n",
       "      <td>0.967675</td>\n",
       "      <td>0.967675</td>\n",
       "      <td>0.967675</td>\n",
       "    </tr>\n",
       "  </tbody>\n",
       "</table>\n",
       "</div>"
      ],
      "text/plain": [
       "              metric  default_params  gridSearch  randomSearch\n",
       "0           Accuracy        0.967877    0.967877      0.967877\n",
       "1         Error rate        0.032123    0.032123      0.032123\n",
       "2          Precision        0.967877    0.967877      0.967877\n",
       "3                 f1        0.967877    0.967877      0.967877\n",
       "4                AUC        0.500000    0.500000      0.500000\n",
       "5  accuracy_balanced        0.500000    0.500000      0.500000\n",
       "6   Cross Validation        0.967675    0.967675      0.967675"
      ]
     },
     "execution_count": 104,
     "metadata": {},
     "output_type": "execute_result"
    }
   ],
   "source": [
    "modelSVCgrid_val = SVC(C= 0.1,\n",
    "                   gamma= 0.2990254335737369,\n",
    "                   kernel= 'rbf')\n",
    "modelSVCrandom_val = SVC(C= 0.9862852145961778,\n",
    "                   gamma= 0.4707996248153804,\n",
    "                   kernel= 'rbf')\n",
    "comparisonSVC = compareModels_val(modelSVC_val, modelSVCgrid_val, modelSVCrandom_val, X_val,y_val,X_test,y_test)\n",
    "pd.DataFrame(comparisonSVC, columns=[\"metric\", \"default_params\", \"gridSearch\", \"randomSearch\"])"
   ]
  },
  {
   "cell_type": "markdown",
   "metadata": {},
   "source": [
    "Patrząc na accuracy możemy odnieść złudną nadzieje, że nasz model jest idealny. Warto jednak zwrócić uwagę na `accuracy_balanced_score` albo na `AUC`. Widzimy, że tutaj nasz model nie wypada już tak dobrze. Wynika to z faktu jak wyżej zostało wspomniane, że nasz zbiór danych jest bardzo mocno nie zbalansowany jeśli chodzi o zmienną celu `Bankruptcy`"
   ]
  },
  {
   "cell_type": "markdown",
   "metadata": {},
   "source": [
    "Na sam koniec możemy dodać confusion matrix, żeby zobaczyć jak zachowują się nasze modele przy wyznaczaniu predykcji"
   ]
  },
  {
   "cell_type": "code",
   "execution_count": 110,
   "metadata": {},
   "outputs": [],
   "source": [
    "from sklearn.metrics import confusion_matrix\n",
    "import seaborn as sns"
   ]
  },
  {
   "cell_type": "markdown",
   "metadata": {},
   "source": [
    "## Decision Tree"
   ]
  },
  {
   "cell_type": "markdown",
   "metadata": {},
   "source": [
    "### DT dla domyślnych parametrów"
   ]
  },
  {
   "cell_type": "code",
   "execution_count": 111,
   "metadata": {},
   "outputs": [
    {
     "data": {
      "text/plain": [
       "<function matplotlib.pyplot.show(*args, **kw)>"
      ]
     },
     "execution_count": 111,
     "metadata": {},
     "output_type": "execute_result"
    },
    {
     "data": {
      "image/png": "[encoded data removed]",
      "text/plain": [
       "<Figure size 432x288 with 2 Axes>"
      ]
     },
     "metadata": {
      "needs_background": "light"
     },
     "output_type": "display_data"
    }
   ],
   "source": [
    "modelDT_val.fit(X_val, y_val)\n",
    "y_pred = modelDT_val.predict(X_test)\n",
    "cm = confusion_matrix(y_test, y_pred)\n",
    "sns.heatmap(cm, annot=True)\n",
    "plt.show"
   ]
  },
  {
   "cell_type": "markdown",
   "metadata": {},
   "source": [
    "### Grid Search"
   ]
  },
  {
   "cell_type": "code",
   "execution_count": 113,
   "metadata": {},
   "outputs": [
    {
     "data": {
      "text/plain": [
       "<function matplotlib.pyplot.show(*args, **kw)>"
      ]
     },
     "execution_count": 113,
     "metadata": {},
     "output_type": "execute_result"
    },
    {
     "data": {
      "image/png": "[encoded data removed]",
      "text/plain": [
       "<Figure size 432x288 with 2 Axes>"
      ]
     },
     "metadata": {
      "needs_background": "light"
     },
     "output_type": "display_data"
    }
   ],
   "source": [
    "modelDTGrid_val.fit(X_val, y_val)\n",
    "y_pred = modelDT_val.predict(X_test)\n",
    "cm = confusion_matrix(y_test, y_pred)\n",
    "sns.heatmap(cm, annot=True)\n",
    "plt.show"
   ]
  },
  {
   "cell_type": "markdown",
   "metadata": {},
   "source": [
    "### Random Search"
   ]
  },
  {
   "cell_type": "code",
   "execution_count": 116,
   "metadata": {},
   "outputs": [
    {
     "data": {
      "text/plain": [
       "<function matplotlib.pyplot.show(*args, **kw)>"
      ]
     },
     "execution_count": 116,
     "metadata": {},
     "output_type": "execute_result"
    },
    {
     "data": {
      "image/png": "[encoded data removed]",
      "text/plain": [
       "<Figure size 432x288 with 2 Axes>"
      ]
     },
     "metadata": {
      "needs_background": "light"
     },
     "output_type": "display_data"
    }
   ],
   "source": [
    "modelDTRandom_val.fit(X_val, y_val)\n",
    "y_pred = modelDT_val.predict(X_test)\n",
    "cm = confusion_matrix(y_test, y_pred)\n",
    "sns.heatmap(cm, annot=True)\n",
    "plt.show"
   ]
  },
  {
   "cell_type": "markdown",
   "metadata": {},
   "source": [
    "## Random Forest"
   ]
  },
  {
   "cell_type": "markdown",
   "metadata": {},
   "source": [
    "### Parametry domyślne"
   ]
  },
  {
   "cell_type": "code",
   "execution_count": 117,
   "metadata": {},
   "outputs": [
    {
     "data": {
      "text/plain": [
       "<function matplotlib.pyplot.show(*args, **kw)>"
      ]
     },
     "execution_count": 117,
     "metadata": {},
     "output_type": "execute_result"
    },
    {
     "data": {
      "image/png": "[encoded data removed]",
      "text/plain": [
       "<Figure size 432x288 with 2 Axes>"
      ]
     },
     "metadata": {
      "needs_background": "light"
     },
     "output_type": "display_data"
    }
   ],
   "source": [
    "modelRF_val.fit(X_val, y_val)\n",
    "y_pred = modelRF_val.predict(X_test)\n",
    "cm = confusion_matrix(y_test, y_pred)\n",
    "sns.heatmap(cm, annot=True)\n",
    "plt.show"
   ]
  },
  {
   "cell_type": "markdown",
   "metadata": {},
   "source": [
    "### Grid Search"
   ]
  },
  {
   "cell_type": "code",
   "execution_count": 119,
   "metadata": {},
   "outputs": [
    {
     "data": {
      "text/plain": [
       "<function matplotlib.pyplot.show(*args, **kw)>"
      ]
     },
     "execution_count": 119,
     "metadata": {},
     "output_type": "execute_result"
    },
    {
     "data": {
      "image/png": "[encoded data removed]",
      "text/plain": [
       "<Figure size 432x288 with 2 Axes>"
      ]
     },
     "metadata": {
      "needs_background": "light"
     },
     "output_type": "display_data"
    }
   ],
   "source": [
    "modelRFgrid_val.fit(X_val, y_val)\n",
    "y_pred = modelRFrandom_val.predict(X_test)\n",
    "cm = confusion_matrix(y_test, y_pred)\n",
    "sns.heatmap(cm, annot=True)\n",
    "plt.show"
   ]
  },
  {
   "cell_type": "markdown",
   "metadata": {},
   "source": [
    "### Random Search"
   ]
  },
  {
   "cell_type": "code",
   "execution_count": 118,
   "metadata": {},
   "outputs": [
    {
     "data": {
      "text/plain": [
       "<function matplotlib.pyplot.show(*args, **kw)>"
      ]
     },
     "execution_count": 118,
     "metadata": {},
     "output_type": "execute_result"
    },
    {
     "data": {
      "image/png": "[encoded data removed]",
      "text/plain": [
       "<Figure size 432x288 with 2 Axes>"
      ]
     },
     "metadata": {
      "needs_background": "light"
     },
     "output_type": "display_data"
    }
   ],
   "source": [
    "modelRFrandom_val.fit(X_val, y_val)\n",
    "y_pred = modelRFrandom_val.predict(X_test)\n",
    "cm = confusion_matrix(y_test, y_pred)\n",
    "sns.heatmap(cm, annot=True)\n",
    "plt.show"
   ]
  },
  {
   "cell_type": "markdown",
   "metadata": {},
   "source": [
    "## SVC"
   ]
  },
  {
   "cell_type": "markdown",
   "metadata": {},
   "source": [
    "### Domyślne parametry"
   ]
  },
  {
   "cell_type": "code",
   "execution_count": 120,
   "metadata": {},
   "outputs": [
    {
     "data": {
      "text/plain": [
       "<function matplotlib.pyplot.show(*args, **kw)>"
      ]
     },
     "execution_count": 120,
     "metadata": {},
     "output_type": "execute_result"
    },
    {
     "data": {
      "image/png": "[encoded data removed]",
      "text/plain": [
       "<Figure size 432x288 with 2 Axes>"
      ]
     },
     "metadata": {
      "needs_background": "light"
     },
     "output_type": "display_data"
    }
   ],
   "source": [
    "modelSVC_val.fit(X_val, y_val)\n",
    "y_pred = modelSVC_val.predict(X_test)\n",
    "cm = confusion_matrix(y_test, y_pred)\n",
    "sns.heatmap(cm, annot=True)\n",
    "plt.show"
   ]
  },
  {
   "cell_type": "markdown",
   "metadata": {},
   "source": [
    "### Grid Search"
   ]
  },
  {
   "cell_type": "code",
   "execution_count": 121,
   "metadata": {},
   "outputs": [
    {
     "data": {
      "text/plain": [
       "<function matplotlib.pyplot.show(*args, **kw)>"
      ]
     },
     "execution_count": 121,
     "metadata": {},
     "output_type": "execute_result"
    },
    {
     "data": {
      "image/png": "[encoded data removed]",
      "text/plain": [
       "<Figure size 432x288 with 2 Axes>"
      ]
     },
     "metadata": {
      "needs_background": "light"
     },
     "output_type": "display_data"
    }
   ],
   "source": [
    "modelSVCgrid_val.fit(X_val, y_val)\n",
    "y_pred = modelSVCgrid_val.predict(X_test)\n",
    "cm = confusion_matrix(y_test, y_pred)\n",
    "sns.heatmap(cm, annot=True)\n",
    "plt.show"
   ]
  },
  {
   "cell_type": "markdown",
   "metadata": {},
   "source": [
    "### Random Search"
   ]
  },
  {
   "cell_type": "code",
   "execution_count": 122,
   "metadata": {},
   "outputs": [
    {
     "data": {
      "text/plain": [
       "<function matplotlib.pyplot.show(*args, **kw)>"
      ]
     },
     "execution_count": 122,
     "metadata": {},
     "output_type": "execute_result"
    },
    {
     "data": {
      "image/png": "[encoded data removed]",
      "text/plain": [
       "<Figure size 432x288 with 2 Axes>"
      ]
     },
     "metadata": {
      "needs_background": "light"
     },
     "output_type": "display_data"
    }
   ],
   "source": [
    "modelSVCrandom_val.fit(X_val, y_val)\n",
    "y_pred = modelSVCrandom_val.predict(X_test)\n",
    "cm = confusion_matrix(y_test, y_pred)\n",
    "sns.heatmap(cm, annot=True)\n",
    "plt.show"
   ]
  },
  {
   "cell_type": "markdown",
   "metadata": {},
   "source": [
    "Jak się okazuje nasz dobór hiperparametrów również nie był do końca skuteczny. Tak samo jak zespołowi budującemu nie udało nam się zwiększyć score'a z wyjątkiem modelu DecisionTree. U nas także najlepszym modelem okazał się RandomForest."
   ]
  },
  {
   "cell_type": "code",
   "execution_count": null,
   "metadata": {},
   "outputs": [],
   "source": []
  }
 ],
 "metadata": {
  "kernelspec": {
   "display_name": "Python 3",
   "language": "python",
   "name": "python3"
  },
  "language_info": {
   "codemirror_mode": {
    "name": "ipython",
    "version": 3
   },
   "file_extension": ".py",
   "mimetype": "text/x-python",
   "name": "python",
   "nbconvert_exporter": "python",
   "pygments_lexer": "ipython3",
   "version": "3.8.3"
  }
 },
 "nbformat": 4,
 "nbformat_minor": 4
}
